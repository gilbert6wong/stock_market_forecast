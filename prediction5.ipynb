{
 "cells": [
  {
   "cell_type": "markdown",
   "metadata": {},
   "source": [
    "## Load & Extract"
   ]
  },
  {
   "cell_type": "markdown",
   "metadata": {},
   "source": [
    "#### Libraries"
   ]
  },
  {
   "cell_type": "code",
   "execution_count": 1,
   "metadata": {},
   "outputs": [],
   "source": [
    "import pandas as pd\n",
    "import numpy as np\n",
    "import matplotlib.pyplot as plt\n",
    "import seaborn as sns\n",
    "from sklearn.preprocessing import MinMaxScaler\n",
    "from sklearn.model_selection import train_test_split"
   ]
  },
  {
   "cell_type": "markdown",
   "metadata": {},
   "source": [
    "#### Read in data"
   ]
  },
  {
   "cell_type": "code",
   "execution_count": 2,
   "metadata": {},
   "outputs": [],
   "source": [
    "df = pd.read_csv('yahoo.csv')"
   ]
  },
  {
   "cell_type": "code",
   "execution_count": 3,
   "metadata": {},
   "outputs": [
    {
     "data": {
      "text/html": [
       "<div>\n",
       "<style scoped>\n",
       "    .dataframe tbody tr th:only-of-type {\n",
       "        vertical-align: middle;\n",
       "    }\n",
       "\n",
       "    .dataframe tbody tr th {\n",
       "        vertical-align: top;\n",
       "    }\n",
       "\n",
       "    .dataframe thead th {\n",
       "        text-align: right;\n",
       "    }\n",
       "</style>\n",
       "<table border=\"1\" class=\"dataframe\">\n",
       "  <thead>\n",
       "    <tr style=\"text-align: right;\">\n",
       "      <th></th>\n",
       "      <th>Date</th>\n",
       "      <th>Open</th>\n",
       "      <th>High</th>\n",
       "      <th>Low</th>\n",
       "      <th>Close</th>\n",
       "      <th>Adj Close</th>\n",
       "      <th>Volume</th>\n",
       "    </tr>\n",
       "  </thead>\n",
       "  <tbody>\n",
       "    <tr>\n",
       "      <th>0</th>\n",
       "      <td>1950-12-27</td>\n",
       "      <td>20.299999</td>\n",
       "      <td>20.299999</td>\n",
       "      <td>20.299999</td>\n",
       "      <td>20.299999</td>\n",
       "      <td>20.299999</td>\n",
       "      <td>2940000</td>\n",
       "    </tr>\n",
       "    <tr>\n",
       "      <th>1</th>\n",
       "      <td>1950-12-28</td>\n",
       "      <td>20.379999</td>\n",
       "      <td>20.379999</td>\n",
       "      <td>20.379999</td>\n",
       "      <td>20.379999</td>\n",
       "      <td>20.379999</td>\n",
       "      <td>3560000</td>\n",
       "    </tr>\n",
       "    <tr>\n",
       "      <th>2</th>\n",
       "      <td>1950-12-29</td>\n",
       "      <td>20.430000</td>\n",
       "      <td>20.430000</td>\n",
       "      <td>20.430000</td>\n",
       "      <td>20.430000</td>\n",
       "      <td>20.430000</td>\n",
       "      <td>3440000</td>\n",
       "    </tr>\n",
       "    <tr>\n",
       "      <th>3</th>\n",
       "      <td>1951-01-02</td>\n",
       "      <td>20.770000</td>\n",
       "      <td>20.770000</td>\n",
       "      <td>20.770000</td>\n",
       "      <td>20.770000</td>\n",
       "      <td>20.770000</td>\n",
       "      <td>3030000</td>\n",
       "    </tr>\n",
       "    <tr>\n",
       "      <th>4</th>\n",
       "      <td>1951-01-03</td>\n",
       "      <td>20.690001</td>\n",
       "      <td>20.690001</td>\n",
       "      <td>20.690001</td>\n",
       "      <td>20.690001</td>\n",
       "      <td>20.690001</td>\n",
       "      <td>3370000</td>\n",
       "    </tr>\n",
       "  </tbody>\n",
       "</table>\n",
       "</div>"
      ],
      "text/plain": [
       "         Date       Open       High        Low      Close  Adj Close   Volume\n",
       "0  1950-12-27  20.299999  20.299999  20.299999  20.299999  20.299999  2940000\n",
       "1  1950-12-28  20.379999  20.379999  20.379999  20.379999  20.379999  3560000\n",
       "2  1950-12-29  20.430000  20.430000  20.430000  20.430000  20.430000  3440000\n",
       "3  1951-01-02  20.770000  20.770000  20.770000  20.770000  20.770000  3030000\n",
       "4  1951-01-03  20.690001  20.690001  20.690001  20.690001  20.690001  3370000"
      ]
     },
     "execution_count": 3,
     "metadata": {},
     "output_type": "execute_result"
    }
   ],
   "source": [
    "df.head()"
   ]
  },
  {
   "cell_type": "code",
   "execution_count": 4,
   "metadata": {},
   "outputs": [
    {
     "data": {
      "text/html": [
       "<div>\n",
       "<style scoped>\n",
       "    .dataframe tbody tr th:only-of-type {\n",
       "        vertical-align: middle;\n",
       "    }\n",
       "\n",
       "    .dataframe tbody tr th {\n",
       "        vertical-align: top;\n",
       "    }\n",
       "\n",
       "    .dataframe thead th {\n",
       "        text-align: right;\n",
       "    }\n",
       "</style>\n",
       "<table border=\"1\" class=\"dataframe\">\n",
       "  <thead>\n",
       "    <tr style=\"text-align: right;\">\n",
       "      <th></th>\n",
       "      <th>Date</th>\n",
       "      <th>Open</th>\n",
       "      <th>High</th>\n",
       "      <th>Low</th>\n",
       "      <th>Close</th>\n",
       "      <th>Adj Close</th>\n",
       "      <th>Volume</th>\n",
       "    </tr>\n",
       "  </thead>\n",
       "  <tbody>\n",
       "    <tr>\n",
       "      <th>17611</th>\n",
       "      <td>2020-12-18</td>\n",
       "      <td>3722.389893</td>\n",
       "      <td>3726.699951</td>\n",
       "      <td>3685.840088</td>\n",
       "      <td>3709.409912</td>\n",
       "      <td>3709.409912</td>\n",
       "      <td>7068340000</td>\n",
       "    </tr>\n",
       "    <tr>\n",
       "      <th>17612</th>\n",
       "      <td>2020-12-21</td>\n",
       "      <td>3684.280029</td>\n",
       "      <td>3702.899902</td>\n",
       "      <td>3636.479980</td>\n",
       "      <td>3694.919922</td>\n",
       "      <td>3694.919922</td>\n",
       "      <td>4732160000</td>\n",
       "    </tr>\n",
       "    <tr>\n",
       "      <th>17613</th>\n",
       "      <td>2020-12-22</td>\n",
       "      <td>3698.080078</td>\n",
       "      <td>3698.260010</td>\n",
       "      <td>3676.159912</td>\n",
       "      <td>3687.260010</td>\n",
       "      <td>3687.260010</td>\n",
       "      <td>4023940000</td>\n",
       "    </tr>\n",
       "    <tr>\n",
       "      <th>17614</th>\n",
       "      <td>2020-12-23</td>\n",
       "      <td>3693.419922</td>\n",
       "      <td>3711.239990</td>\n",
       "      <td>3689.280029</td>\n",
       "      <td>3690.010010</td>\n",
       "      <td>3690.010010</td>\n",
       "      <td>3772630000</td>\n",
       "    </tr>\n",
       "    <tr>\n",
       "      <th>17615</th>\n",
       "      <td>2020-12-24</td>\n",
       "      <td>3694.030029</td>\n",
       "      <td>3703.820068</td>\n",
       "      <td>3689.320068</td>\n",
       "      <td>3703.060059</td>\n",
       "      <td>3703.060059</td>\n",
       "      <td>1885090000</td>\n",
       "    </tr>\n",
       "  </tbody>\n",
       "</table>\n",
       "</div>"
      ],
      "text/plain": [
       "             Date         Open         High          Low        Close  \\\n",
       "17611  2020-12-18  3722.389893  3726.699951  3685.840088  3709.409912   \n",
       "17612  2020-12-21  3684.280029  3702.899902  3636.479980  3694.919922   \n",
       "17613  2020-12-22  3698.080078  3698.260010  3676.159912  3687.260010   \n",
       "17614  2020-12-23  3693.419922  3711.239990  3689.280029  3690.010010   \n",
       "17615  2020-12-24  3694.030029  3703.820068  3689.320068  3703.060059   \n",
       "\n",
       "         Adj Close      Volume  \n",
       "17611  3709.409912  7068340000  \n",
       "17612  3694.919922  4732160000  \n",
       "17613  3687.260010  4023940000  \n",
       "17614  3690.010010  3772630000  \n",
       "17615  3703.060059  1885090000  "
      ]
     },
     "execution_count": 4,
     "metadata": {},
     "output_type": "execute_result"
    }
   ],
   "source": [
    "df.tail()"
   ]
  },
  {
   "cell_type": "code",
   "execution_count": 5,
   "metadata": {},
   "outputs": [
    {
     "data": {
      "text/plain": [
       "(17616, 7)"
      ]
     },
     "execution_count": 5,
     "metadata": {},
     "output_type": "execute_result"
    }
   ],
   "source": [
    "df.shape"
   ]
  },
  {
   "cell_type": "markdown",
   "metadata": {},
   "source": [
    "#### Train Test Split"
   ]
  },
  {
   "cell_type": "code",
   "execution_count": 6,
   "metadata": {},
   "outputs": [],
   "source": [
    "test_size=int(df.shape[0]*0.3)"
   ]
  },
  {
   "cell_type": "code",
   "execution_count": 7,
   "metadata": {},
   "outputs": [],
   "source": [
    "df_train = df.iloc[:, 1:2].values[:-test_size]"
   ]
  },
  {
   "cell_type": "code",
   "execution_count": 8,
   "metadata": {},
   "outputs": [
    {
     "data": {
      "text/plain": [
       "(12332, 1)"
      ]
     },
     "execution_count": 8,
     "metadata": {},
     "output_type": "execute_result"
    }
   ],
   "source": [
    "df_train.shape"
   ]
  },
  {
   "cell_type": "code",
   "execution_count": 9,
   "metadata": {},
   "outputs": [],
   "source": [
    "df_test = df.iloc[:, 1:2].values[-test_size:]"
   ]
  },
  {
   "cell_type": "code",
   "execution_count": 10,
   "metadata": {},
   "outputs": [
    {
     "data": {
      "text/plain": [
       "(5284, 1)"
      ]
     },
     "execution_count": 10,
     "metadata": {},
     "output_type": "execute_result"
    }
   ],
   "source": [
    "df_test.shape"
   ]
  },
  {
   "cell_type": "markdown",
   "metadata": {},
   "source": [
    "## EDA"
   ]
  },
  {
   "cell_type": "markdown",
   "metadata": {},
   "source": [
    "#### Plot"
   ]
  },
  {
   "cell_type": "code",
   "execution_count": 11,
   "metadata": {},
   "outputs": [
    {
     "data": {
      "image/png": "[encoded data removed]",
      "text/plain": [
       "<Figure size 1008x720 with 1 Axes>"
      ]
     },
     "metadata": {
      "needs_background": "light"
     },
     "output_type": "display_data"
    }
   ],
   "source": [
    "plt.figure(figsize=(14,10))\n",
    "plt.plot(list(range(0, len(df_train))), df_train, c=\"blue\", label=\"train\")\n",
    "plt.plot(list(range(len(df_train), len(df_train)+len(df_test))),df_test, c=\"black\", label=\"test\")\n",
    "plt.title(\"S&P 500 price over time\")\n",
    "plt.xlabel(\"time\")\n",
    "plt.ylabel(\"price\")\n",
    "plt.show()"
   ]
  },
  {
   "cell_type": "markdown",
   "metadata": {},
   "source": [
    "## Data Preprocessing"
   ]
  },
  {
   "cell_type": "markdown",
   "metadata": {},
   "source": [
    "#### Scaling"
   ]
  },
  {
   "cell_type": "code",
   "execution_count": 12,
   "metadata": {},
   "outputs": [],
   "source": [
    "sc = MinMaxScaler()\n",
    "df_train_scaled = sc.fit_transform(df_train)\n",
    "df_test_scaled = sc.transform(df_test)"
   ]
  },
  {
   "cell_type": "code",
   "execution_count": 13,
   "metadata": {},
   "outputs": [
    {
     "data": {
      "text/plain": [
       "(12332, 1)"
      ]
     },
     "execution_count": 13,
     "metadata": {},
     "output_type": "execute_result"
    }
   ],
   "source": [
    "df_train_scaled.shape"
   ]
  },
  {
   "cell_type": "code",
   "execution_count": 14,
   "metadata": {},
   "outputs": [
    {
     "data": {
      "text/plain": [
       "(5284, 1)"
      ]
     },
     "execution_count": 14,
     "metadata": {},
     "output_type": "execute_result"
    }
   ],
   "source": [
    "df_test_scaled.shape"
   ]
  },
  {
   "cell_type": "markdown",
   "metadata": {},
   "source": [
    "#### Feature/Target"
   ]
  },
  {
   "cell_type": "code",
   "execution_count": 173,
   "metadata": {},
   "outputs": [],
   "source": [
    "def split_sequence(sequence, n_steps):\n",
    "    X, y = list(), list()\n",
    "    for i in range(len(sequence)):\n",
    "        # find the end of this pattern\n",
    "        end_ix = i + n_steps\n",
    "        # check if we are beyond the sequence\n",
    "        if end_ix + 5 > len(sequence)-1:\n",
    "            break\n",
    "        # gather input and output parts of the pattern\n",
    "        seq_x, seq_y = sequence[i:end_ix], sequence[end_ix + 5]\n",
    "        X.append(seq_x)\n",
    "        y.append(seq_y)\n",
    "    return np.array(X), np.array(y)\n"
   ]
  },
  {
   "cell_type": "code",
   "execution_count": 174,
   "metadata": {},
   "outputs": [],
   "source": [
    "X_train, y_train = split_sequence(df_train_scaled, 60)"
   ]
  },
  {
   "cell_type": "code",
   "execution_count": 175,
   "metadata": {},
   "outputs": [
    {
     "data": {
      "text/plain": [
       "(12267, 60, 1)"
      ]
     },
     "execution_count": 175,
     "metadata": {},
     "output_type": "execute_result"
    }
   ],
   "source": [
    "X_train.shape"
   ]
  },
  {
   "cell_type": "code",
   "execution_count": 176,
   "metadata": {},
   "outputs": [
    {
     "data": {
      "text/plain": [
       "(12267, 1)"
      ]
     },
     "execution_count": 176,
     "metadata": {},
     "output_type": "execute_result"
    }
   ],
   "source": [
    "y_train.shape"
   ]
  },
  {
   "cell_type": "code",
   "execution_count": 177,
   "metadata": {},
   "outputs": [],
   "source": [
    "X_test, y_test = split_sequence(df_test_scaled,60)"
   ]
  },
  {
   "cell_type": "code",
   "execution_count": 178,
   "metadata": {},
   "outputs": [
    {
     "data": {
      "text/plain": [
       "(5219, 60, 1)"
      ]
     },
     "execution_count": 178,
     "metadata": {},
     "output_type": "execute_result"
    }
   ],
   "source": [
    "X_test.shape"
   ]
  },
  {
   "cell_type": "code",
   "execution_count": 179,
   "metadata": {},
   "outputs": [
    {
     "data": {
      "text/plain": [
       "(5219, 1)"
      ]
     },
     "execution_count": 179,
     "metadata": {},
     "output_type": "execute_result"
    }
   ],
   "source": [
    "y_test.shape"
   ]
  },
  {
   "cell_type": "markdown",
   "metadata": {},
   "source": [
    "## Single Layer LSTM "
   ]
  },
  {
   "cell_type": "code",
   "execution_count": 180,
   "metadata": {},
   "outputs": [
    {
     "name": "stdout",
     "output_type": "stream",
     "text": [
      "Epoch 1/100\n",
      "307/307 [==============================] - 14s 39ms/step - loss: 7.3423e-04 - val_loss: 5.3599e-04\n",
      "Epoch 2/100\n",
      "307/307 [==============================] - 8s 27ms/step - loss: 1.0586e-05 - val_loss: 7.0178e-04\n",
      "Epoch 3/100\n",
      "307/307 [==============================] - 8s 26ms/step - loss: 1.0347e-05 - val_loss: 6.5494e-04\n",
      "Epoch 4/100\n",
      "307/307 [==============================] - 10s 31ms/step - loss: 8.7915e-06 - val_loss: 5.0704e-04\n",
      "Epoch 5/100\n",
      "307/307 [==============================] - 7s 23ms/step - loss: 9.4573e-06 - val_loss: 3.9270e-04\n",
      "Epoch 6/100\n",
      "307/307 [==============================] - 7s 22ms/step - loss: 8.9309e-06 - val_loss: 4.0987e-04\n",
      "Epoch 7/100\n",
      "307/307 [==============================] - 7s 23ms/step - loss: 9.0237e-06 - val_loss: 4.5047e-04\n",
      "Epoch 8/100\n",
      "307/307 [==============================] - 8s 26ms/step - loss: 9.4014e-06 - val_loss: 2.4677e-04\n",
      "Epoch 9/100\n",
      "307/307 [==============================] - 9s 29ms/step - loss: 8.0307e-06 - val_loss: 4.9773e-04\n",
      "Epoch 10/100\n",
      "307/307 [==============================] - 7s 23ms/step - loss: 8.2594e-06 - val_loss: 2.5410e-04\n",
      "Epoch 11/100\n",
      "307/307 [==============================] - 7s 23ms/step - loss: 9.6204e-06 - val_loss: 1.9948e-04\n",
      "Epoch 12/100\n",
      "307/307 [==============================] - 9s 28ms/step - loss: 7.3297e-06 - val_loss: 4.5562e-04\n",
      "Epoch 13/100\n",
      "307/307 [==============================] - 9s 29ms/step - loss: 1.0117e-05 - val_loss: 1.9240e-04\n",
      "Epoch 14/100\n",
      "307/307 [==============================] - 8s 26ms/step - loss: 9.9336e-06 - val_loss: 3.4861e-04\n",
      "Epoch 15/100\n",
      "307/307 [==============================] - 9s 30ms/step - loss: 8.1547e-06 - val_loss: 1.9678e-04\n",
      "Epoch 16/100\n",
      "307/307 [==============================] - 7s 23ms/step - loss: 8.3163e-06 - val_loss: 2.5116e-04\n",
      "Epoch 17/100\n",
      "307/307 [==============================] - 7s 21ms/step - loss: 6.5124e-06 - val_loss: 2.5966e-04\n",
      "Epoch 18/100\n",
      "307/307 [==============================] - 6s 21ms/step - loss: 8.4663e-06 - val_loss: 2.9666e-04\n",
      "Epoch 19/100\n",
      "307/307 [==============================] - 6s 21ms/step - loss: 8.1594e-06 - val_loss: 2.4705e-04\n",
      "Epoch 20/100\n",
      "307/307 [==============================] - 7s 22ms/step - loss: 7.4466e-06 - val_loss: 1.9121e-04\n",
      "Epoch 21/100\n",
      "307/307 [==============================] - 6s 21ms/step - loss: 6.7715e-06 - val_loss: 3.4767e-04\n",
      "Epoch 22/100\n",
      "307/307 [==============================] - 7s 21ms/step - loss: 8.7414e-06 - val_loss: 5.2329e-04\n",
      "Epoch 23/100\n",
      "307/307 [==============================] - 7s 21ms/step - loss: 8.5199e-06 - val_loss: 4.4634e-04\n",
      "Epoch 24/100\n",
      "307/307 [==============================] - 6s 21ms/step - loss: 9.2109e-06 - val_loss: 3.1682e-04\n",
      "Epoch 25/100\n",
      "307/307 [==============================] - 7s 23ms/step - loss: 6.8139e-06 - val_loss: 2.7369e-04\n",
      "Epoch 26/100\n",
      "307/307 [==============================] - 7s 22ms/step - loss: 7.8272e-06 - val_loss: 1.8330e-04\n",
      "Epoch 27/100\n",
      "307/307 [==============================] - 7s 21ms/step - loss: 7.3583e-06 - val_loss: 1.6999e-04\n",
      "Epoch 28/100\n",
      "307/307 [==============================] - 6s 21ms/step - loss: 6.1092e-06 - val_loss: 2.2099e-04\n",
      "Epoch 29/100\n",
      "307/307 [==============================] - 6s 21ms/step - loss: 5.6728e-06 - val_loss: 1.7189e-04\n",
      "Epoch 30/100\n",
      "307/307 [==============================] - 7s 24ms/step - loss: 7.3330e-06 - val_loss: 2.1431e-04\n",
      "Epoch 31/100\n",
      "307/307 [==============================] - 7s 22ms/step - loss: 5.5469e-06 - val_loss: 3.2776e-04\n",
      "Epoch 32/100\n",
      "307/307 [==============================] - 6s 21ms/step - loss: 6.3396e-06 - val_loss: 2.4669e-04\n",
      "Epoch 33/100\n",
      "307/307 [==============================] - 6s 21ms/step - loss: 6.5908e-06 - val_loss: 3.9594e-04\n",
      "Epoch 34/100\n",
      "307/307 [==============================] - 7s 21ms/step - loss: 6.7643e-06 - val_loss: 1.7002e-04\n",
      "Epoch 35/100\n",
      "307/307 [==============================] - 6s 21ms/step - loss: 6.0468e-06 - val_loss: 2.2673e-04\n",
      "Epoch 36/100\n",
      "307/307 [==============================] - 6s 21ms/step - loss: 7.1408e-06 - val_loss: 1.8285e-04\n",
      "Epoch 37/100\n",
      "307/307 [==============================] - 7s 23ms/step - loss: 6.2447e-06 - val_loss: 1.7907e-04\n",
      "Epoch 38/100\n",
      "307/307 [==============================] - 7s 24ms/step - loss: 5.7645e-06 - val_loss: 2.7129e-04\n",
      "Epoch 39/100\n",
      "307/307 [==============================] - 7s 23ms/step - loss: 6.5573e-06 - val_loss: 1.6656e-04\n",
      "Epoch 40/100\n",
      "307/307 [==============================] - 7s 23ms/step - loss: 6.2142e-06 - val_loss: 1.7143e-04\n",
      "Epoch 41/100\n",
      "307/307 [==============================] - 7s 23ms/step - loss: 5.7020e-06 - val_loss: 2.7623e-04\n",
      "Epoch 42/100\n",
      "307/307 [==============================] - 7s 23ms/step - loss: 6.0428e-06 - val_loss: 1.7013e-04\n",
      "Epoch 43/100\n",
      "307/307 [==============================] - 8s 26ms/step - loss: 7.4593e-06 - val_loss: 2.5217e-04\n",
      "Epoch 44/100\n",
      "307/307 [==============================] - 7s 23ms/step - loss: 5.8278e-06 - val_loss: 2.3997e-04\n",
      "Epoch 45/100\n",
      "307/307 [==============================] - 7s 23ms/step - loss: 6.7708e-06 - val_loss: 1.8995e-04\n",
      "Epoch 46/100\n",
      "307/307 [==============================] - 7s 23ms/step - loss: 6.7280e-06 - val_loss: 2.6390e-04\n",
      "Epoch 47/100\n",
      "307/307 [==============================] - 7s 23ms/step - loss: 5.8977e-06 - val_loss: 3.8554e-04\n",
      "Epoch 48/100\n",
      "307/307 [==============================] - 7s 23ms/step - loss: 6.1015e-06 - val_loss: 2.9876e-04\n",
      "Epoch 49/100\n",
      "307/307 [==============================] - 7s 23ms/step - loss: 6.7756e-06 - val_loss: 3.5093e-04\n",
      "Epoch 50/100\n",
      "307/307 [==============================] - 7s 23ms/step - loss: 5.0468e-06 - val_loss: 1.9471e-04\n",
      "Epoch 51/100\n",
      "307/307 [==============================] - 7s 22ms/step - loss: 5.2723e-06 - val_loss: 3.3105e-04\n",
      "Epoch 52/100\n",
      "307/307 [==============================] - 7s 23ms/step - loss: 5.1344e-06 - val_loss: 2.7152e-04\n",
      "Epoch 53/100\n",
      "307/307 [==============================] - 7s 22ms/step - loss: 6.6309e-06 - val_loss: 2.1954e-04\n",
      "Epoch 54/100\n",
      "307/307 [==============================] - 7s 22ms/step - loss: 7.9598e-06 - val_loss: 2.3349e-04\n",
      "Epoch 55/100\n",
      "307/307 [==============================] - 7s 24ms/step - loss: 5.6168e-06 - val_loss: 3.1170e-04\n",
      "Epoch 56/100\n",
      "307/307 [==============================] - 10s 34ms/step - loss: 6.4934e-06 - val_loss: 2.7268e-04\n",
      "Epoch 57/100\n",
      "307/307 [==============================] - 11s 36ms/step - loss: 6.5220e-06 - val_loss: 2.4875e-04\n",
      "Epoch 58/100\n",
      "307/307 [==============================] - 9s 29ms/step - loss: 6.2234e-06 - val_loss: 2.1481e-04\n",
      "Epoch 59/100\n",
      "307/307 [==============================] - 10s 33ms/step - loss: 7.6882e-06 - val_loss: 3.4171e-04\n",
      "Epoch 60/100\n",
      "307/307 [==============================] - 7s 23ms/step - loss: 7.9489e-06 - val_loss: 2.1422e-04\n",
      "Epoch 61/100\n",
      "307/307 [==============================] - 8s 25ms/step - loss: 5.7180e-06 - val_loss: 2.2396e-04\n",
      "Epoch 62/100\n",
      "307/307 [==============================] - 7s 23ms/step - loss: 6.8715e-06 - val_loss: 3.4301e-04\n",
      "Epoch 63/100\n",
      "307/307 [==============================] - 7s 22ms/step - loss: 5.3559e-06 - val_loss: 2.2328e-04\n",
      "Epoch 64/100\n",
      "307/307 [==============================] - 8s 27ms/step - loss: 7.1699e-06 - val_loss: 4.3741e-04\n",
      "Epoch 65/100\n",
      "307/307 [==============================] - 9s 28ms/step - loss: 5.8525e-06 - val_loss: 2.2216e-04\n",
      "Epoch 66/100\n",
      "307/307 [==============================] - 9s 29ms/step - loss: 5.7473e-06 - val_loss: 2.1711e-04\n",
      "Epoch 67/100\n",
      "307/307 [==============================] - 9s 30ms/step - loss: 5.7885e-06 - val_loss: 2.7852e-04\n",
      "Epoch 68/100\n",
      "307/307 [==============================] - 8s 24ms/step - loss: 5.8449e-06 - val_loss: 3.1696e-04\n",
      "Epoch 69/100\n",
      "307/307 [==============================] - 9s 28ms/step - loss: 6.5119e-06 - val_loss: 3.0142e-04\n",
      "Epoch 70/100\n",
      "307/307 [==============================] - 8s 25ms/step - loss: 6.6077e-06 - val_loss: 2.6453e-04\n",
      "Epoch 71/100\n",
      "307/307 [==============================] - 8s 25ms/step - loss: 5.7380e-06 - val_loss: 3.0172e-04\n",
      "Epoch 72/100\n",
      "307/307 [==============================] - 8s 25ms/step - loss: 5.7109e-06 - val_loss: 3.1565e-04\n",
      "Epoch 73/100\n",
      "307/307 [==============================] - 7s 23ms/step - loss: 5.2906e-06 - val_loss: 2.4235e-04\n",
      "Epoch 74/100\n",
      "307/307 [==============================] - 8s 24ms/step - loss: 5.7868e-06 - val_loss: 3.0467e-04\n"
     ]
    },
    {
     "name": "stdout",
     "output_type": "stream",
     "text": [
      "Epoch 75/100\n",
      "307/307 [==============================] - 7s 24ms/step - loss: 6.6542e-06 - val_loss: 2.4445e-04\n",
      "Epoch 76/100\n",
      "307/307 [==============================] - 7s 23ms/step - loss: 5.7186e-06 - val_loss: 2.5445e-04\n",
      "Epoch 77/100\n",
      "307/307 [==============================] - 7s 23ms/step - loss: 6.4433e-06 - val_loss: 2.7786e-04\n",
      "Epoch 78/100\n",
      "307/307 [==============================] - 7s 23ms/step - loss: 5.3216e-06 - val_loss: 3.2506e-04\n",
      "Epoch 79/100\n",
      "307/307 [==============================] - 8s 27ms/step - loss: 6.7312e-06 - val_loss: 2.2314e-04\n",
      "Epoch 80/100\n",
      "307/307 [==============================] - 7s 23ms/step - loss: 5.5974e-06 - val_loss: 2.9443e-04\n",
      "Epoch 81/100\n",
      "307/307 [==============================] - 8s 25ms/step - loss: 5.6172e-06 - val_loss: 3.4061e-04\n",
      "Epoch 82/100\n",
      "307/307 [==============================] - 8s 25ms/step - loss: 6.5341e-06 - val_loss: 2.6154e-04\n",
      "Epoch 83/100\n",
      "307/307 [==============================] - 8s 25ms/step - loss: 7.1610e-06 - val_loss: 2.3711e-04\n",
      "Epoch 84/100\n",
      "307/307 [==============================] - 9s 30ms/step - loss: 5.6910e-06 - val_loss: 3.4440e-04\n",
      "Epoch 85/100\n",
      "307/307 [==============================] - 11s 36ms/step - loss: 6.1182e-06 - val_loss: 3.8964e-04\n",
      "Epoch 86/100\n",
      "307/307 [==============================] - 11s 36ms/step - loss: 5.4297e-06 - val_loss: 3.3986e-04\n",
      "Epoch 87/100\n",
      "307/307 [==============================] - 8s 24ms/step - loss: 6.5969e-06 - val_loss: 3.5120e-04\n",
      "Epoch 88/100\n",
      "307/307 [==============================] - 7s 23ms/step - loss: 4.5395e-06 - val_loss: 4.4956e-04\n",
      "Epoch 89/100\n",
      "307/307 [==============================] - 7s 22ms/step - loss: 5.7356e-06 - val_loss: 3.2895e-04\n",
      "Epoch 90/100\n",
      "307/307 [==============================] - 7s 22ms/step - loss: 7.0548e-06 - val_loss: 3.9663e-04\n",
      "Epoch 91/100\n",
      "307/307 [==============================] - 7s 22ms/step - loss: 5.6074e-06 - val_loss: 2.1139e-04\n",
      "Epoch 92/100\n",
      "307/307 [==============================] - 7s 23ms/step - loss: 6.1506e-06 - val_loss: 6.0073e-04\n",
      "Epoch 93/100\n",
      "307/307 [==============================] - 7s 24ms/step - loss: 5.3460e-06 - val_loss: 6.0327e-04\n",
      "Epoch 94/100\n",
      "307/307 [==============================] - 8s 25ms/step - loss: 5.5044e-06 - val_loss: 3.9260e-04\n",
      "Epoch 95/100\n",
      "307/307 [==============================] - 7s 23ms/step - loss: 5.8269e-06 - val_loss: 3.4692e-04\n",
      "Epoch 96/100\n",
      "307/307 [==============================] - 7s 22ms/step - loss: 6.3454e-06 - val_loss: 2.5811e-04\n",
      "Epoch 97/100\n",
      "307/307 [==============================] - 7s 23ms/step - loss: 5.7110e-06 - val_loss: 3.0348e-04\n",
      "Epoch 98/100\n",
      "307/307 [==============================] - 7s 23ms/step - loss: 5.5466e-06 - val_loss: 4.1660e-04\n",
      "Epoch 99/100\n",
      "307/307 [==============================] - 7s 22ms/step - loss: 5.6350e-06 - val_loss: 3.6321e-04\n",
      "Epoch 100/100\n",
      "307/307 [==============================] - 7s 23ms/step - loss: 6.3777e-06 - val_loss: 2.6471e-04\n"
     ]
    }
   ],
   "source": [
    "model = Sequential()\n",
    "\n",
    "model.add(LSTM(50, input_shape = (X_train.shape[1], 1)))\n",
    "\n",
    "model.add(Dense(1))\n",
    "\n",
    "model.compile(optimizer = 'adam', loss = 'mse')\n",
    "\n",
    "history = model.fit(X_train, y_train, validation_split = 0.2, epochs = 100, verbose = 1)"
   ]
  },
  {
   "cell_type": "code",
   "execution_count": 181,
   "metadata": {},
   "outputs": [
    {
     "data": {
      "image/png": "[encoded data removed]",
      "text/plain": [
       "<Figure size 1008x576 with 1 Axes>"
      ]
     },
     "metadata": {
      "needs_background": "light"
     },
     "output_type": "display_data"
    }
   ],
   "source": [
    "plt.figure(figsize=(14,8))\n",
    "plt.plot(history.history['loss'], label='Loss (training data)')\n",
    "plt.plot(history.history['val_loss'], label='Loss (validation data)')\n",
    "plt.title('Loss for Single Layer LSTM Model')\n",
    "plt.ylabel('Loss')\n",
    "plt.xlabel('Epoch')\n",
    "plt.legend(loc=2)\n",
    "plt.show()"
   ]
  },
  {
   "cell_type": "code",
   "execution_count": 182,
   "metadata": {},
   "outputs": [
    {
     "name": "stdout",
     "output_type": "stream",
     "text": [
      "164/164 [==============================] - 2s 9ms/step\n"
     ]
    }
   ],
   "source": [
    "y_pred = model.predict(X_test, verbose=1)"
   ]
  },
  {
   "cell_type": "code",
   "execution_count": 183,
   "metadata": {},
   "outputs": [],
   "source": [
    "y_pred = sc.inverse_transform(y_pred)"
   ]
  },
  {
   "cell_type": "code",
   "execution_count": 184,
   "metadata": {},
   "outputs": [],
   "source": [
    "y_true = sc.inverse_transform(y_test)"
   ]
  },
  {
   "cell_type": "code",
   "execution_count": 185,
   "metadata": {},
   "outputs": [
    {
     "data": {
      "image/png": "[encoded data removed]",
      "text/plain": [
       "<Figure size 1008x432 with 1 Axes>"
      ]
     },
     "metadata": {
      "needs_background": "light"
     },
     "output_type": "display_data"
    }
   ],
   "source": [
    "plt.figure(figsize=(14,6))\n",
    "plt.plot(y_true, color = 'black', label = 'S&P Price')\n",
    "plt.plot(y_pred, color = 'green', label = 'Predicted S&P Price')\n",
    "plt.title('S&P Price Prediction')\n",
    "plt.xlabel('Time')\n",
    "plt.ylabel('S&P Price')\n",
    "plt.legend()\n",
    "plt.show()"
   ]
  },
  {
   "cell_type": "code",
   "execution_count": 186,
   "metadata": {},
   "outputs": [
    {
     "data": {
      "text/plain": [
       "0.9472918329704356"
      ]
     },
     "execution_count": 186,
     "metadata": {},
     "output_type": "execute_result"
    }
   ],
   "source": [
    "r2_score(y_true,y_pred)"
   ]
  },
  {
   "cell_type": "markdown",
   "metadata": {},
   "source": [
    "## Dashboard"
   ]
  },
  {
   "cell_type": "code",
   "execution_count": 30,
   "metadata": {},
   "outputs": [],
   "source": [
    "import plotly.express as px \n",
    "import plotly.graph_objects as go"
   ]
  },
  {
   "cell_type": "code",
   "execution_count": 207,
   "metadata": {},
   "outputs": [
    {
     "data": {
      "text/html": [
       "<div>\n",
       "<style scoped>\n",
       "    .dataframe tbody tr th:only-of-type {\n",
       "        vertical-align: middle;\n",
       "    }\n",
       "\n",
       "    .dataframe tbody tr th {\n",
       "        vertical-align: top;\n",
       "    }\n",
       "\n",
       "    .dataframe thead th {\n",
       "        text-align: right;\n",
       "    }\n",
       "</style>\n",
       "<table border=\"1\" class=\"dataframe\">\n",
       "  <thead>\n",
       "    <tr style=\"text-align: right;\">\n",
       "      <th></th>\n",
       "      <th>pred</th>\n",
       "      <th>true</th>\n",
       "      <th>time</th>\n",
       "    </tr>\n",
       "  </thead>\n",
       "  <tbody>\n",
       "    <tr>\n",
       "      <th>0</th>\n",
       "      <td>1450.941772</td>\n",
       "      <td>1508.520020</td>\n",
       "      <td>0</td>\n",
       "    </tr>\n",
       "    <tr>\n",
       "      <th>1</th>\n",
       "      <td>1448.612915</td>\n",
       "      <td>1487.920044</td>\n",
       "      <td>1</td>\n",
       "    </tr>\n",
       "    <tr>\n",
       "      <th>2</th>\n",
       "      <td>1478.510498</td>\n",
       "      <td>1498.579956</td>\n",
       "      <td>2</td>\n",
       "    </tr>\n",
       "    <tr>\n",
       "      <th>3</th>\n",
       "      <td>1471.005127</td>\n",
       "      <td>1505.979980</td>\n",
       "      <td>3</td>\n",
       "    </tr>\n",
       "    <tr>\n",
       "      <th>4</th>\n",
       "      <td>1466.591919</td>\n",
       "      <td>1494.729980</td>\n",
       "      <td>4</td>\n",
       "    </tr>\n",
       "    <tr>\n",
       "      <th>...</th>\n",
       "      <td>...</td>\n",
       "      <td>...</td>\n",
       "      <td>...</td>\n",
       "    </tr>\n",
       "    <tr>\n",
       "      <th>5214</th>\n",
       "      <td>3190.745361</td>\n",
       "      <td>3722.389893</td>\n",
       "      <td>5214</td>\n",
       "    </tr>\n",
       "    <tr>\n",
       "      <th>5215</th>\n",
       "      <td>3192.249268</td>\n",
       "      <td>3684.280029</td>\n",
       "      <td>5215</td>\n",
       "    </tr>\n",
       "    <tr>\n",
       "      <th>5216</th>\n",
       "      <td>3208.584473</td>\n",
       "      <td>3698.080078</td>\n",
       "      <td>5216</td>\n",
       "    </tr>\n",
       "    <tr>\n",
       "      <th>5217</th>\n",
       "      <td>3197.755859</td>\n",
       "      <td>3693.419922</td>\n",
       "      <td>5217</td>\n",
       "    </tr>\n",
       "    <tr>\n",
       "      <th>5218</th>\n",
       "      <td>3225.496582</td>\n",
       "      <td>3694.030029</td>\n",
       "      <td>5218</td>\n",
       "    </tr>\n",
       "  </tbody>\n",
       "</table>\n",
       "<p>5219 rows × 3 columns</p>\n",
       "</div>"
      ],
      "text/plain": [
       "             pred         true  time\n",
       "0     1450.941772  1508.520020     0\n",
       "1     1448.612915  1487.920044     1\n",
       "2     1478.510498  1498.579956     2\n",
       "3     1471.005127  1505.979980     3\n",
       "4     1466.591919  1494.729980     4\n",
       "...           ...          ...   ...\n",
       "5214  3190.745361  3722.389893  5214\n",
       "5215  3192.249268  3684.280029  5215\n",
       "5216  3208.584473  3698.080078  5216\n",
       "5217  3197.755859  3693.419922  5217\n",
       "5218  3225.496582  3694.030029  5218\n",
       "\n",
       "[5219 rows x 3 columns]"
      ]
     },
     "execution_count": 207,
     "metadata": {},
     "output_type": "execute_result"
    }
   ],
   "source": [
    "df_pred = pd.DataFrame(y_pred,columns=['pred'])\n",
    "df_pred['true']=y_true\n",
    "df_pred['time']=df_pred.index\n",
    "\n",
    "df_pred"
   ]
  },
  {
   "cell_type": "code",
   "execution_count": 208,
   "metadata": {},
   "outputs": [],
   "source": [
    "df_pred.to_csv('pred5.csv')"
   ]
  },
  {
   "cell_type": "markdown",
   "metadata": {},
   "source": [
    "## Prediction (5 days)"
   ]
  },
  {
   "cell_type": "code",
   "execution_count": 209,
   "metadata": {},
   "outputs": [
    {
     "data": {
      "text/html": [
       "<div>\n",
       "<style scoped>\n",
       "    .dataframe tbody tr th:only-of-type {\n",
       "        vertical-align: middle;\n",
       "    }\n",
       "\n",
       "    .dataframe tbody tr th {\n",
       "        vertical-align: top;\n",
       "    }\n",
       "\n",
       "    .dataframe thead th {\n",
       "        text-align: right;\n",
       "    }\n",
       "</style>\n",
       "<table border=\"1\" class=\"dataframe\">\n",
       "  <thead>\n",
       "    <tr style=\"text-align: right;\">\n",
       "      <th></th>\n",
       "      <th>Date</th>\n",
       "      <th>Open</th>\n",
       "      <th>High</th>\n",
       "      <th>Low</th>\n",
       "      <th>Close</th>\n",
       "      <th>Adj Close</th>\n",
       "      <th>Volume</th>\n",
       "    </tr>\n",
       "  </thead>\n",
       "  <tbody>\n",
       "    <tr>\n",
       "      <th>246</th>\n",
       "      <td>2021-01-04</td>\n",
       "      <td>3764.610107</td>\n",
       "      <td>3769.989990</td>\n",
       "      <td>3662.709961</td>\n",
       "      <td>3700.649902</td>\n",
       "      <td>3700.649902</td>\n",
       "      <td>5006680000</td>\n",
       "    </tr>\n",
       "    <tr>\n",
       "      <th>247</th>\n",
       "      <td>2021-01-05</td>\n",
       "      <td>3698.020020</td>\n",
       "      <td>3737.830078</td>\n",
       "      <td>3695.070068</td>\n",
       "      <td>3726.860107</td>\n",
       "      <td>3726.860107</td>\n",
       "      <td>4582620000</td>\n",
       "    </tr>\n",
       "    <tr>\n",
       "      <th>248</th>\n",
       "      <td>2021-01-06</td>\n",
       "      <td>3712.199951</td>\n",
       "      <td>3783.040039</td>\n",
       "      <td>3705.340088</td>\n",
       "      <td>3748.139893</td>\n",
       "      <td>3748.139893</td>\n",
       "      <td>6049970000</td>\n",
       "    </tr>\n",
       "    <tr>\n",
       "      <th>249</th>\n",
       "      <td>2021-01-07</td>\n",
       "      <td>3764.709961</td>\n",
       "      <td>3811.550049</td>\n",
       "      <td>3764.709961</td>\n",
       "      <td>3803.790039</td>\n",
       "      <td>3803.790039</td>\n",
       "      <td>5080870000</td>\n",
       "    </tr>\n",
       "    <tr>\n",
       "      <th>250</th>\n",
       "      <td>2021-01-08</td>\n",
       "      <td>3815.050049</td>\n",
       "      <td>3826.689941</td>\n",
       "      <td>3783.600098</td>\n",
       "      <td>3824.679932</td>\n",
       "      <td>3824.679932</td>\n",
       "      <td>4764180000</td>\n",
       "    </tr>\n",
       "  </tbody>\n",
       "</table>\n",
       "</div>"
      ],
      "text/plain": [
       "           Date         Open         High          Low        Close  \\\n",
       "246  2021-01-04  3764.610107  3769.989990  3662.709961  3700.649902   \n",
       "247  2021-01-05  3698.020020  3737.830078  3695.070068  3726.860107   \n",
       "248  2021-01-06  3712.199951  3783.040039  3705.340088  3748.139893   \n",
       "249  2021-01-07  3764.709961  3811.550049  3764.709961  3803.790039   \n",
       "250  2021-01-08  3815.050049  3826.689941  3783.600098  3824.679932   \n",
       "\n",
       "       Adj Close      Volume  \n",
       "246  3700.649902  5006680000  \n",
       "247  3726.860107  4582620000  \n",
       "248  3748.139893  6049970000  \n",
       "249  3803.790039  5080870000  \n",
       "250  3824.679932  4764180000  "
      ]
     },
     "execution_count": 209,
     "metadata": {},
     "output_type": "execute_result"
    }
   ],
   "source": [
    "dff = pd.read_csv('010821.csv')\n",
    "dff.tail()"
   ]
  },
  {
   "cell_type": "code",
   "execution_count": 210,
   "metadata": {},
   "outputs": [],
   "source": [
    "dff = dff.iloc[:, 1:2].values"
   ]
  },
  {
   "cell_type": "code",
   "execution_count": 211,
   "metadata": {},
   "outputs": [],
   "source": [
    "dff = sc.transform(dff)"
   ]
  },
  {
   "cell_type": "code",
   "execution_count": 212,
   "metadata": {},
   "outputs": [],
   "source": [
    "dff = dff[-60:].reshape(1,60,1)"
   ]
  },
  {
   "cell_type": "code",
   "execution_count": 213,
   "metadata": {},
   "outputs": [
    {
     "name": "stdout",
     "output_type": "stream",
     "text": [
      "1/1 [==============================] - 0s 31ms/step\n"
     ]
    }
   ],
   "source": [
    "pred_scaled = model.predict(dff,verbose=1)"
   ]
  },
  {
   "cell_type": "code",
   "execution_count": 214,
   "metadata": {},
   "outputs": [],
   "source": [
    "pred = sc.inverse_transform(pred_scaled)"
   ]
  },
  {
   "cell_type": "code",
   "execution_count": 216,
   "metadata": {},
   "outputs": [
    {
     "name": "stdout",
     "output_type": "stream",
     "text": [
      "Friday January 15th, 2020:  [[3322.9976]]\n"
     ]
    }
   ],
   "source": [
    "print('Friday January 15th, 2020: ', pred)"
   ]
  }
 ],
 "metadata": {
  "kernelspec": {
   "display_name": "Python [conda env:projects]",
   "language": "python",
   "name": "conda-env-projects-py"
  },
  "language_info": {
   "codemirror_mode": {
    "name": "ipython",
    "version": 3
   },
   "file_extension": ".py",
   "mimetype": "text/x-python",
   "name": "python",
   "nbconvert_exporter": "python",
   "pygments_lexer": "ipython3",
   "version": "3.8.5"
  }
 },
 "nbformat": 4,
 "nbformat_minor": 4
}
