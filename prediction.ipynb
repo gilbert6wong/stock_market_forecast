{
 "cells": [
  {
   "cell_type": "markdown",
   "metadata": {},
   "source": [
    "## Load & Extract"
   ]
  },
  {
   "cell_type": "markdown",
   "metadata": {},
   "source": [
    "#### Libraries"
   ]
  },
  {
   "cell_type": "code",
   "execution_count": 3,
   "metadata": {},
   "outputs": [],
   "source": [
    "import pandas as pd\n",
    "import numpy as np\n",
    "import matplotlib.pyplot as plt\n",
    "import seaborn as sns\n",
    "from sklearn.preprocessing import MinMaxScaler\n",
    "from sklearn.model_selection import train_test_split"
   ]
  },
  {
   "cell_type": "markdown",
   "metadata": {},
   "source": [
    "#### Read in data"
   ]
  },
  {
   "cell_type": "code",
   "execution_count": 4,
   "metadata": {},
   "outputs": [],
   "source": [
    "df = pd.read_csv('yahoo.csv')"
   ]
  },
  {
   "cell_type": "code",
   "execution_count": 5,
   "metadata": {},
   "outputs": [
    {
     "data": {
      "text/html": [
       "<div>\n",
       "<style scoped>\n",
       "    .dataframe tbody tr th:only-of-type {\n",
       "        vertical-align: middle;\n",
       "    }\n",
       "\n",
       "    .dataframe tbody tr th {\n",
       "        vertical-align: top;\n",
       "    }\n",
       "\n",
       "    .dataframe thead th {\n",
       "        text-align: right;\n",
       "    }\n",
       "</style>\n",
       "<table border=\"1\" class=\"dataframe\">\n",
       "  <thead>\n",
       "    <tr style=\"text-align: right;\">\n",
       "      <th></th>\n",
       "      <th>Date</th>\n",
       "      <th>Open</th>\n",
       "      <th>High</th>\n",
       "      <th>Low</th>\n",
       "      <th>Close</th>\n",
       "      <th>Adj Close</th>\n",
       "      <th>Volume</th>\n",
       "    </tr>\n",
       "  </thead>\n",
       "  <tbody>\n",
       "    <tr>\n",
       "      <th>0</th>\n",
       "      <td>1950-12-27</td>\n",
       "      <td>20.299999</td>\n",
       "      <td>20.299999</td>\n",
       "      <td>20.299999</td>\n",
       "      <td>20.299999</td>\n",
       "      <td>20.299999</td>\n",
       "      <td>2940000</td>\n",
       "    </tr>\n",
       "    <tr>\n",
       "      <th>1</th>\n",
       "      <td>1950-12-28</td>\n",
       "      <td>20.379999</td>\n",
       "      <td>20.379999</td>\n",
       "      <td>20.379999</td>\n",
       "      <td>20.379999</td>\n",
       "      <td>20.379999</td>\n",
       "      <td>3560000</td>\n",
       "    </tr>\n",
       "    <tr>\n",
       "      <th>2</th>\n",
       "      <td>1950-12-29</td>\n",
       "      <td>20.430000</td>\n",
       "      <td>20.430000</td>\n",
       "      <td>20.430000</td>\n",
       "      <td>20.430000</td>\n",
       "      <td>20.430000</td>\n",
       "      <td>3440000</td>\n",
       "    </tr>\n",
       "    <tr>\n",
       "      <th>3</th>\n",
       "      <td>1951-01-02</td>\n",
       "      <td>20.770000</td>\n",
       "      <td>20.770000</td>\n",
       "      <td>20.770000</td>\n",
       "      <td>20.770000</td>\n",
       "      <td>20.770000</td>\n",
       "      <td>3030000</td>\n",
       "    </tr>\n",
       "    <tr>\n",
       "      <th>4</th>\n",
       "      <td>1951-01-03</td>\n",
       "      <td>20.690001</td>\n",
       "      <td>20.690001</td>\n",
       "      <td>20.690001</td>\n",
       "      <td>20.690001</td>\n",
       "      <td>20.690001</td>\n",
       "      <td>3370000</td>\n",
       "    </tr>\n",
       "  </tbody>\n",
       "</table>\n",
       "</div>"
      ],
      "text/plain": [
       "         Date       Open       High        Low      Close  Adj Close   Volume\n",
       "0  1950-12-27  20.299999  20.299999  20.299999  20.299999  20.299999  2940000\n",
       "1  1950-12-28  20.379999  20.379999  20.379999  20.379999  20.379999  3560000\n",
       "2  1950-12-29  20.430000  20.430000  20.430000  20.430000  20.430000  3440000\n",
       "3  1951-01-02  20.770000  20.770000  20.770000  20.770000  20.770000  3030000\n",
       "4  1951-01-03  20.690001  20.690001  20.690001  20.690001  20.690001  3370000"
      ]
     },
     "execution_count": 5,
     "metadata": {},
     "output_type": "execute_result"
    }
   ],
   "source": [
    "df.head()"
   ]
  },
  {
   "cell_type": "code",
   "execution_count": 6,
   "metadata": {},
   "outputs": [
    {
     "data": {
      "text/html": [
       "<div>\n",
       "<style scoped>\n",
       "    .dataframe tbody tr th:only-of-type {\n",
       "        vertical-align: middle;\n",
       "    }\n",
       "\n",
       "    .dataframe tbody tr th {\n",
       "        vertical-align: top;\n",
       "    }\n",
       "\n",
       "    .dataframe thead th {\n",
       "        text-align: right;\n",
       "    }\n",
       "</style>\n",
       "<table border=\"1\" class=\"dataframe\">\n",
       "  <thead>\n",
       "    <tr style=\"text-align: right;\">\n",
       "      <th></th>\n",
       "      <th>Date</th>\n",
       "      <th>Open</th>\n",
       "      <th>High</th>\n",
       "      <th>Low</th>\n",
       "      <th>Close</th>\n",
       "      <th>Adj Close</th>\n",
       "      <th>Volume</th>\n",
       "    </tr>\n",
       "  </thead>\n",
       "  <tbody>\n",
       "    <tr>\n",
       "      <th>17611</th>\n",
       "      <td>2020-12-18</td>\n",
       "      <td>3722.389893</td>\n",
       "      <td>3726.699951</td>\n",
       "      <td>3685.840088</td>\n",
       "      <td>3709.409912</td>\n",
       "      <td>3709.409912</td>\n",
       "      <td>7068340000</td>\n",
       "    </tr>\n",
       "    <tr>\n",
       "      <th>17612</th>\n",
       "      <td>2020-12-21</td>\n",
       "      <td>3684.280029</td>\n",
       "      <td>3702.899902</td>\n",
       "      <td>3636.479980</td>\n",
       "      <td>3694.919922</td>\n",
       "      <td>3694.919922</td>\n",
       "      <td>4732160000</td>\n",
       "    </tr>\n",
       "    <tr>\n",
       "      <th>17613</th>\n",
       "      <td>2020-12-22</td>\n",
       "      <td>3698.080078</td>\n",
       "      <td>3698.260010</td>\n",
       "      <td>3676.159912</td>\n",
       "      <td>3687.260010</td>\n",
       "      <td>3687.260010</td>\n",
       "      <td>4023940000</td>\n",
       "    </tr>\n",
       "    <tr>\n",
       "      <th>17614</th>\n",
       "      <td>2020-12-23</td>\n",
       "      <td>3693.419922</td>\n",
       "      <td>3711.239990</td>\n",
       "      <td>3689.280029</td>\n",
       "      <td>3690.010010</td>\n",
       "      <td>3690.010010</td>\n",
       "      <td>3772630000</td>\n",
       "    </tr>\n",
       "    <tr>\n",
       "      <th>17615</th>\n",
       "      <td>2020-12-24</td>\n",
       "      <td>3694.030029</td>\n",
       "      <td>3703.820068</td>\n",
       "      <td>3689.320068</td>\n",
       "      <td>3703.060059</td>\n",
       "      <td>3703.060059</td>\n",
       "      <td>1885090000</td>\n",
       "    </tr>\n",
       "  </tbody>\n",
       "</table>\n",
       "</div>"
      ],
      "text/plain": [
       "             Date         Open         High          Low        Close  \\\n",
       "17611  2020-12-18  3722.389893  3726.699951  3685.840088  3709.409912   \n",
       "17612  2020-12-21  3684.280029  3702.899902  3636.479980  3694.919922   \n",
       "17613  2020-12-22  3698.080078  3698.260010  3676.159912  3687.260010   \n",
       "17614  2020-12-23  3693.419922  3711.239990  3689.280029  3690.010010   \n",
       "17615  2020-12-24  3694.030029  3703.820068  3689.320068  3703.060059   \n",
       "\n",
       "         Adj Close      Volume  \n",
       "17611  3709.409912  7068340000  \n",
       "17612  3694.919922  4732160000  \n",
       "17613  3687.260010  4023940000  \n",
       "17614  3690.010010  3772630000  \n",
       "17615  3703.060059  1885090000  "
      ]
     },
     "execution_count": 6,
     "metadata": {},
     "output_type": "execute_result"
    }
   ],
   "source": [
    "df.tail()"
   ]
  },
  {
   "cell_type": "code",
   "execution_count": 7,
   "metadata": {},
   "outputs": [
    {
     "data": {
      "text/plain": [
       "(17616, 7)"
      ]
     },
     "execution_count": 7,
     "metadata": {},
     "output_type": "execute_result"
    }
   ],
   "source": [
    "df.shape"
   ]
  },
  {
   "cell_type": "markdown",
   "metadata": {},
   "source": [
    "#### Train Test Split"
   ]
  },
  {
   "cell_type": "code",
   "execution_count": 8,
   "metadata": {},
   "outputs": [],
   "source": [
    "test_size=int(df.shape[0]*0.3)"
   ]
  },
  {
   "cell_type": "code",
   "execution_count": 9,
   "metadata": {},
   "outputs": [],
   "source": [
    "df_train = df.iloc[:, 1:2].values[:-test_size]"
   ]
  },
  {
   "cell_type": "code",
   "execution_count": 10,
   "metadata": {},
   "outputs": [
    {
     "data": {
      "text/plain": [
       "(12332, 1)"
      ]
     },
     "execution_count": 10,
     "metadata": {},
     "output_type": "execute_result"
    }
   ],
   "source": [
    "df_train.shape"
   ]
  },
  {
   "cell_type": "code",
   "execution_count": 11,
   "metadata": {},
   "outputs": [],
   "source": [
    "df_test = df.iloc[:, 1:2].values[-test_size:]"
   ]
  },
  {
   "cell_type": "code",
   "execution_count": 12,
   "metadata": {},
   "outputs": [
    {
     "data": {
      "text/plain": [
       "(5284, 1)"
      ]
     },
     "execution_count": 12,
     "metadata": {},
     "output_type": "execute_result"
    }
   ],
   "source": [
    "df_test.shape"
   ]
  },
  {
   "cell_type": "markdown",
   "metadata": {},
   "source": [
    "## EDA"
   ]
  },
  {
   "cell_type": "markdown",
   "metadata": {},
   "source": [
    "#### Plot"
   ]
  },
  {
   "cell_type": "code",
   "execution_count": 13,
   "metadata": {},
   "outputs": [
    {
     "data": {
      "image/png": "[encoded data removed]",
      "text/plain": [
       "<Figure size 1008x720 with 1 Axes>"
      ]
     },
     "metadata": {
      "needs_background": "light"
     },
     "output_type": "display_data"
    }
   ],
   "source": [
    "plt.figure(figsize=(14,10))\n",
    "plt.plot(list(range(0, len(df_train))), df_train, c=\"blue\", label=\"train\")\n",
    "plt.plot(list(range(len(df_train), len(df_train)+len(df_test))),df_test, c=\"black\", label=\"test\")\n",
    "plt.title(\"S&P 500 price over time\")\n",
    "plt.xlabel(\"time\")\n",
    "plt.ylabel(\"price\")\n",
    "plt.show()"
   ]
  },
  {
   "cell_type": "markdown",
   "metadata": {},
   "source": [
    "#### Autocorrelation"
   ]
  },
  {
   "cell_type": "code",
   "execution_count": 14,
   "metadata": {},
   "outputs": [],
   "source": [
    "from statsmodels.graphics.tsaplots import plot_acf"
   ]
  },
  {
   "cell_type": "code",
   "execution_count": 15,
   "metadata": {},
   "outputs": [
    {
     "data": {
      "image/png": "[encoded data removed]",
      "text/plain": [
       "<Figure size 432x288 with 1 Axes>"
      ]
     },
     "metadata": {
      "needs_background": "light"
     },
     "output_type": "display_data"
    }
   ],
   "source": [
    "plot_acf(df_train, lags=20)\n",
    "plt.xlabel('Lag')\n",
    "plt.ylabel('Autocorrelation')\n",
    "plt.show()"
   ]
  },
  {
   "cell_type": "markdown",
   "metadata": {},
   "source": [
    "#### Partial Autocorrelation"
   ]
  },
  {
   "cell_type": "code",
   "execution_count": 16,
   "metadata": {},
   "outputs": [],
   "source": [
    "from statsmodels.graphics.tsaplots import plot_pacf"
   ]
  },
  {
   "cell_type": "code",
   "execution_count": 17,
   "metadata": {},
   "outputs": [
    {
     "data": {
      "image/png": "[encoded data removed]",
      "text/plain": [
       "<Figure size 432x288 with 1 Axes>"
      ]
     },
     "metadata": {
      "needs_background": "light"
     },
     "output_type": "display_data"
    }
   ],
   "source": [
    "plot_pacf(df_train, lags=5)\n",
    "plt.xlabel('Lag')\n",
    "plt.ylabel('Partial Autocorrelation')\n",
    "plt.show()"
   ]
  },
  {
   "cell_type": "markdown",
   "metadata": {},
   "source": [
    "#### AR Model"
   ]
  },
  {
   "cell_type": "code",
   "execution_count": 18,
   "metadata": {},
   "outputs": [],
   "source": [
    "import warnings\n",
    "warnings.filterwarnings(\"ignore\")"
   ]
  },
  {
   "cell_type": "code",
   "execution_count": 19,
   "metadata": {},
   "outputs": [],
   "source": [
    "from statsmodels.tsa.ar_model import AR"
   ]
  },
  {
   "cell_type": "code",
   "execution_count": 20,
   "metadata": {
    "scrolled": true
   },
   "outputs": [
    {
     "name": "stdout",
     "output_type": "stream",
     "text": [
      "Lag: 1\n",
      "Coefficients: [-0.04376651  1.00074028]\n"
     ]
    },
    {
     "data": {
      "image/png": "[encoded data removed]",
      "text/plain": [
       "<Figure size 432x288 with 1 Axes>"
      ]
     },
     "metadata": {
      "needs_background": "light"
     },
     "output_type": "display_data"
    }
   ],
   "source": [
    "model = AR(df_train)\n",
    "model_fit = model.fit(maxlag=1)\n",
    "\n",
    "print('Lag: %s' % model_fit.k_ar)\n",
    "print('Coefficients: %s' % model_fit.params)\n",
    "\n",
    "predictions = model_fit.predict(start=len(df_train), end=len(df_train)+20)\n",
    "\n",
    "plt.figure()\n",
    "plt.plot(df_test[:20], c=\"black\", label=\"test\", marker='o')\n",
    "plt.plot(predictions, c=\"green\", label=\"predict\", marker='o')\n",
    "plt.xlim([0, 20])\n",
    "plt.xticks(np.arange(0, 21))\n",
    "plt.legend()\n",
    "plt.show();"
   ]
  },
  {
   "cell_type": "markdown",
   "metadata": {},
   "source": [
    "#### MA Model"
   ]
  },
  {
   "cell_type": "code",
   "execution_count": 21,
   "metadata": {},
   "outputs": [],
   "source": [
    "from statsmodels.tsa.statespace.sarimax import SARIMAX"
   ]
  },
  {
   "cell_type": "code",
   "execution_count": 22,
   "metadata": {
    "scrolled": true
   },
   "outputs": [
    {
     "name": "stdout",
     "output_type": "stream",
     "text": [
      "Coefficients: [4.13429830e-02 2.54093151e+00 3.66832085e+00 3.45823382e+00\n",
      " 2.12718811e+00 7.07399248e-01 2.77928180e+02]\n"
     ]
    },
    {
     "data": {
      "image/png": "[encoded data removed]",
      "text/plain": [
       "<Figure size 432x288 with 1 Axes>"
      ]
     },
     "metadata": {
      "needs_background": "light"
     },
     "output_type": "display_data"
    }
   ],
   "source": [
    "model = SARIMAX(df_train, order=(0, 0, 5), trend=\"t\") \n",
    "model_fit = model.fit()\n",
    "\n",
    "print('Coefficients: %s' % model_fit.params)\n",
    "\n",
    "predictions = model_fit.predict(start=len(df_train), end=len(df_train)+20)\n",
    "\n",
    "plt.figure()\n",
    "plt.plot(df_test[:20], c=\"black\", label=\"test\", marker='o')\n",
    "plt.plot(predictions, c=\"green\", label=\"predict\", marker='o')\n",
    "plt.xlim([0, 20])\n",
    "plt.xticks(np.arange(0, 21))\n",
    "plt.legend()\n",
    "plt.show();"
   ]
  },
  {
   "cell_type": "markdown",
   "metadata": {},
   "source": [
    "## Data Preprocessing"
   ]
  },
  {
   "cell_type": "markdown",
   "metadata": {},
   "source": [
    "#### Scaling"
   ]
  },
  {
   "cell_type": "code",
   "execution_count": 23,
   "metadata": {},
   "outputs": [],
   "source": [
    "sc = MinMaxScaler()\n",
    "df_train_scaled = sc.fit_transform(df_train)\n",
    "df_test_scaled = sc.transform(df_test)"
   ]
  },
  {
   "cell_type": "code",
   "execution_count": 24,
   "metadata": {},
   "outputs": [
    {
     "data": {
      "text/plain": [
       "(12332, 1)"
      ]
     },
     "execution_count": 24,
     "metadata": {},
     "output_type": "execute_result"
    }
   ],
   "source": [
    "df_train_scaled.shape"
   ]
  },
  {
   "cell_type": "code",
   "execution_count": 25,
   "metadata": {},
   "outputs": [
    {
     "data": {
      "text/plain": [
       "(5284, 1)"
      ]
     },
     "execution_count": 25,
     "metadata": {},
     "output_type": "execute_result"
    }
   ],
   "source": [
    "df_test_scaled.shape"
   ]
  },
  {
   "cell_type": "markdown",
   "metadata": {},
   "source": [
    "#### Feature/Target"
   ]
  },
  {
   "cell_type": "code",
   "execution_count": 26,
   "metadata": {},
   "outputs": [],
   "source": [
    "def split_sequence(sequence, n_steps):\n",
    "    X, y = list(), list()\n",
    "    for i in range(len(sequence)):\n",
    "        # find the end of this pattern\n",
    "        end_ix = i + n_steps\n",
    "        # check if we are beyond the sequence\n",
    "        if end_ix > len(sequence)-1:\n",
    "            break\n",
    "        # gather input and output parts of the pattern\n",
    "        seq_x, seq_y = sequence[i:end_ix], sequence[end_ix]\n",
    "        X.append(seq_x)\n",
    "        y.append(seq_y)\n",
    "    return np.array(X), np.array(y)\n"
   ]
  },
  {
   "cell_type": "code",
   "execution_count": 27,
   "metadata": {},
   "outputs": [],
   "source": [
    "X_train, y_train = split_sequence(df_train_scaled, 60)"
   ]
  },
  {
   "cell_type": "code",
   "execution_count": 28,
   "metadata": {},
   "outputs": [
    {
     "data": {
      "text/plain": [
       "(12272, 60, 1)"
      ]
     },
     "execution_count": 28,
     "metadata": {},
     "output_type": "execute_result"
    }
   ],
   "source": [
    "X_train.shape"
   ]
  },
  {
   "cell_type": "code",
   "execution_count": 29,
   "metadata": {},
   "outputs": [
    {
     "data": {
      "text/plain": [
       "(12272, 1)"
      ]
     },
     "execution_count": 29,
     "metadata": {},
     "output_type": "execute_result"
    }
   ],
   "source": [
    "y_train.shape"
   ]
  },
  {
   "cell_type": "code",
   "execution_count": 30,
   "metadata": {},
   "outputs": [],
   "source": [
    "X_test, y_test = split_sequence(df_test_scaled,60)"
   ]
  },
  {
   "cell_type": "code",
   "execution_count": 31,
   "metadata": {},
   "outputs": [
    {
     "data": {
      "text/plain": [
       "(5224, 60, 1)"
      ]
     },
     "execution_count": 31,
     "metadata": {},
     "output_type": "execute_result"
    }
   ],
   "source": [
    "X_test.shape"
   ]
  },
  {
   "cell_type": "code",
   "execution_count": 32,
   "metadata": {},
   "outputs": [
    {
     "data": {
      "text/plain": [
       "(5224, 1)"
      ]
     },
     "execution_count": 32,
     "metadata": {},
     "output_type": "execute_result"
    }
   ],
   "source": [
    "y_test.shape"
   ]
  },
  {
   "cell_type": "markdown",
   "metadata": {},
   "source": [
    "## Stacked LSTM"
   ]
  },
  {
   "cell_type": "code",
   "execution_count": 88,
   "metadata": {},
   "outputs": [],
   "source": [
    "from tensorflow.keras.models import Sequential\n",
    "from tensorflow.keras.layers import Dense\n",
    "from tensorflow.keras.layers import LSTM\n",
    "from tensorflow.keras.layers import Dropout\n",
    "from tensorflow.keras.layers import Bidirectional\n",
    "from sklearn.metrics import r2_score"
   ]
  },
  {
   "cell_type": "code",
   "execution_count": 187,
   "metadata": {
    "scrolled": true
   },
   "outputs": [
    {
     "name": "stdout",
     "output_type": "stream",
     "text": [
      "Epoch 1/100\n",
      "307/307 [==============================] - 54s 126ms/step - loss: 6.4319e-04 - val_loss: 0.0053\n",
      "Epoch 2/100\n",
      "307/307 [==============================] - 37s 121ms/step - loss: 6.4755e-05 - val_loss: 0.0018\n",
      "Epoch 3/100\n",
      "307/307 [==============================] - 30s 96ms/step - loss: 5.2040e-05 - val_loss: 0.0020\n",
      "Epoch 4/100\n",
      "307/307 [==============================] - 31s 102ms/step - loss: 4.8817e-05 - val_loss: 0.0018\n",
      "Epoch 5/100\n",
      "307/307 [==============================] - 29s 96ms/step - loss: 4.2829e-05 - val_loss: 0.0012\n",
      "Epoch 6/100\n",
      "307/307 [==============================] - 29s 94ms/step - loss: 4.1142e-05 - val_loss: 0.0021\n",
      "Epoch 7/100\n",
      "307/307 [==============================] - 28s 91ms/step - loss: 4.6897e-05 - val_loss: 0.0032\n",
      "Epoch 8/100\n",
      "307/307 [==============================] - 28s 91ms/step - loss: 3.6520e-05 - val_loss: 0.0052\n",
      "Epoch 9/100\n",
      "307/307 [==============================] - 29s 95ms/step - loss: 3.7036e-05 - val_loss: 0.0020\n",
      "Epoch 10/100\n",
      "307/307 [==============================] - 29s 95ms/step - loss: 3.8441e-05 - val_loss: 5.9821e-04\n",
      "Epoch 11/100\n",
      "307/307 [==============================] - 28s 91ms/step - loss: 3.3418e-05 - val_loss: 0.0031\n",
      "Epoch 12/100\n",
      "307/307 [==============================] - 28s 91ms/step - loss: 3.9149e-05 - val_loss: 0.0058\n",
      "Epoch 13/100\n",
      "307/307 [==============================] - 28s 91ms/step - loss: 3.1771e-05 - val_loss: 0.0025\n",
      "Epoch 14/100\n",
      "307/307 [==============================] - 28s 90ms/step - loss: 2.9070e-05 - val_loss: 0.0048\n",
      "Epoch 15/100\n",
      "307/307 [==============================] - 28s 91ms/step - loss: 3.8448e-05 - val_loss: 0.0035\n",
      "Epoch 16/100\n",
      "307/307 [==============================] - 28s 90ms/step - loss: 3.7300e-05 - val_loss: 0.0057\n",
      "Epoch 17/100\n",
      "307/307 [==============================] - 32s 104ms/step - loss: 3.7247e-05 - val_loss: 0.0091\n",
      "Epoch 18/100\n",
      "307/307 [==============================] - 30s 98ms/step - loss: 3.4832e-05 - val_loss: 0.0080\n",
      "Epoch 19/100\n",
      "307/307 [==============================] - 29s 94ms/step - loss: 2.9059e-05 - val_loss: 0.0131\n",
      "Epoch 20/100\n",
      "307/307 [==============================] - 28s 92ms/step - loss: 3.1633e-05 - val_loss: 0.0120\n",
      "Epoch 21/100\n",
      "307/307 [==============================] - 28s 92ms/step - loss: 3.3198e-05 - val_loss: 0.0149\n",
      "Epoch 22/100\n",
      "307/307 [==============================] - 32s 103ms/step - loss: 3.1345e-05 - val_loss: 0.0192\n",
      "Epoch 23/100\n",
      "307/307 [==============================] - 31s 101ms/step - loss: 2.8553e-05 - val_loss: 0.0207\n",
      "Epoch 24/100\n",
      "307/307 [==============================] - 30s 99ms/step - loss: 3.1744e-05 - val_loss: 0.0195\n",
      "Epoch 25/100\n",
      "307/307 [==============================] - 28s 91ms/step - loss: 3.3454e-05 - val_loss: 0.0271\n",
      "Epoch 26/100\n",
      "307/307 [==============================] - 29s 94ms/step - loss: 3.2997e-05 - val_loss: 0.0279\n",
      "Epoch 27/100\n",
      "307/307 [==============================] - 29s 94ms/step - loss: 2.8340e-05 - val_loss: 0.0359\n",
      "Epoch 28/100\n",
      "307/307 [==============================] - 27s 88ms/step - loss: 3.2493e-05 - val_loss: 0.0407\n",
      "Epoch 29/100\n",
      "307/307 [==============================] - 29s 94ms/step - loss: 2.8554e-05 - val_loss: 0.0468\n",
      "Epoch 30/100\n",
      "307/307 [==============================] - 27s 89ms/step - loss: 2.7902e-05 - val_loss: 0.0556\n",
      "Epoch 31/100\n",
      "307/307 [==============================] - 27s 89ms/step - loss: 3.1909e-05 - val_loss: 0.0569\n",
      "Epoch 32/100\n",
      "307/307 [==============================] - 27s 88ms/step - loss: 2.6063e-05 - val_loss: 0.0629\n",
      "Epoch 33/100\n",
      "307/307 [==============================] - 27s 87ms/step - loss: 3.4162e-05 - val_loss: 0.0651\n",
      "Epoch 34/100\n",
      "307/307 [==============================] - 27s 87ms/step - loss: 2.7919e-05 - val_loss: 0.0665\n",
      "Epoch 35/100\n",
      "307/307 [==============================] - 27s 88ms/step - loss: 3.0422e-05 - val_loss: 0.0626\n",
      "Epoch 36/100\n",
      "307/307 [==============================] - 27s 88ms/step - loss: 2.6635e-05 - val_loss: 0.0690\n",
      "Epoch 37/100\n",
      "307/307 [==============================] - 39s 126ms/step - loss: 2.4180e-05 - val_loss: 0.0702\n",
      "Epoch 38/100\n",
      "307/307 [==============================] - 32s 106ms/step - loss: 3.1488e-05 - val_loss: 0.0696\n",
      "Epoch 39/100\n",
      "307/307 [==============================] - 37s 119ms/step - loss: 2.7564e-05 - val_loss: 0.0702\n",
      "Epoch 40/100\n",
      "307/307 [==============================] - 33s 106ms/step - loss: 3.1037e-05 - val_loss: 0.0775\n",
      "Epoch 41/100\n",
      "307/307 [==============================] - 33s 108ms/step - loss: 2.7327e-05 - val_loss: 0.0731\n",
      "Epoch 42/100\n",
      "307/307 [==============================] - 36s 119ms/step - loss: 2.8924e-05 - val_loss: 0.0726\n",
      "Epoch 43/100\n",
      "307/307 [==============================] - 35s 113ms/step - loss: 2.7398e-05 - val_loss: 0.0716\n",
      "Epoch 44/100\n",
      "307/307 [==============================] - 33s 108ms/step - loss: 2.6725e-05 - val_loss: 0.0719\n",
      "Epoch 45/100\n",
      "307/307 [==============================] - 34s 109ms/step - loss: 2.7845e-05 - val_loss: 0.0704\n",
      "Epoch 46/100\n",
      "307/307 [==============================] - 35s 113ms/step - loss: 3.4211e-05 - val_loss: 0.0735\n",
      "Epoch 47/100\n",
      "307/307 [==============================] - 32s 103ms/step - loss: 2.3596e-05 - val_loss: 0.0738\n",
      "Epoch 48/100\n",
      "307/307 [==============================] - 31s 101ms/step - loss: 2.8402e-05 - val_loss: 0.0747\n",
      "Epoch 49/100\n",
      "307/307 [==============================] - 34s 110ms/step - loss: 2.8019e-05 - val_loss: 0.0724\n",
      "Epoch 50/100\n",
      "307/307 [==============================] - 33s 106ms/step - loss: 2.5135e-05 - val_loss: 0.0701\n",
      "Epoch 51/100\n",
      "307/307 [==============================] - 34s 111ms/step - loss: 2.6138e-05 - val_loss: 0.0723\n",
      "Epoch 52/100\n",
      "307/307 [==============================] - 33s 107ms/step - loss: 2.7329e-05 - val_loss: 0.0741\n",
      "Epoch 53/100\n",
      "307/307 [==============================] - 34s 109ms/step - loss: 2.6492e-05 - val_loss: 0.0756\n",
      "Epoch 54/100\n",
      "307/307 [==============================] - 33s 108ms/step - loss: 2.6730e-05 - val_loss: 0.0764\n",
      "Epoch 55/100\n",
      "307/307 [==============================] - 33s 106ms/step - loss: 2.8256e-05 - val_loss: 0.0729\n",
      "Epoch 56/100\n",
      "307/307 [==============================] - 35s 113ms/step - loss: 2.7778e-05 - val_loss: 0.0746\n",
      "Epoch 57/100\n",
      "307/307 [==============================] - 34s 112ms/step - loss: 2.7174e-05 - val_loss: 0.0757\n",
      "Epoch 58/100\n",
      "307/307 [==============================] - 50s 162ms/step - loss: 2.6353e-05 - val_loss: 0.0806\n",
      "Epoch 59/100\n",
      "307/307 [==============================] - 32s 103ms/step - loss: 2.5944e-05 - val_loss: 0.0751\n",
      "Epoch 60/100\n",
      "307/307 [==============================] - 34s 110ms/step - loss: 2.3975e-05 - val_loss: 0.0775\n",
      "Epoch 61/100\n",
      "307/307 [==============================] - 28s 91ms/step - loss: 2.6400e-05 - val_loss: 0.0794\n",
      "Epoch 62/100\n",
      "307/307 [==============================] - 29s 93ms/step - loss: 2.6270e-05 - val_loss: 0.0777\n",
      "Epoch 63/100\n",
      "307/307 [==============================] - 30s 98ms/step - loss: 2.6357e-05 - val_loss: 0.0755\n",
      "Epoch 64/100\n",
      "307/307 [==============================] - 29s 96ms/step - loss: 2.5133e-05 - val_loss: 0.0764\n",
      "Epoch 65/100\n",
      "307/307 [==============================] - 30s 99ms/step - loss: 2.4740e-05 - val_loss: 0.0726\n",
      "Epoch 66/100\n",
      "307/307 [==============================] - 31s 101ms/step - loss: 2.4695e-05 - val_loss: 0.0784\n",
      "Epoch 67/100\n",
      "307/307 [==============================] - 32s 105ms/step - loss: 2.6613e-05 - val_loss: 0.0753\n",
      "Epoch 68/100\n",
      "307/307 [==============================] - 31s 100ms/step - loss: 2.4855e-05 - val_loss: 0.0795\n",
      "Epoch 69/100\n",
      "307/307 [==============================] - 31s 101ms/step - loss: 2.8176e-05 - val_loss: 0.0750\n",
      "Epoch 70/100\n",
      "307/307 [==============================] - 32s 105ms/step - loss: 2.6980e-05 - val_loss: 0.0736\n",
      "Epoch 71/100\n",
      "307/307 [==============================] - 31s 101ms/step - loss: 3.1576e-05 - val_loss: 0.0737\n",
      "Epoch 72/100\n",
      "307/307 [==============================] - 31s 101ms/step - loss: 2.4396e-05 - val_loss: 0.0821\n",
      "Epoch 73/100\n",
      "307/307 [==============================] - 31s 102ms/step - loss: 2.4560e-05 - val_loss: 0.0779\n",
      "Epoch 74/100\n",
      "307/307 [==============================] - 31s 101ms/step - loss: 2.3812e-05 - val_loss: 0.0807\n",
      "Epoch 75/100\n",
      "307/307 [==============================] - 32s 105ms/step - loss: 2.4368e-05 - val_loss: 0.0798\n",
      "Epoch 76/100\n"
     ]
    },
    {
     "name": "stdout",
     "output_type": "stream",
     "text": [
      "307/307 [==============================] - 29s 95ms/step - loss: 2.7964e-05 - val_loss: 0.0793\n",
      "Epoch 77/100\n",
      "307/307 [==============================] - 30s 97ms/step - loss: 2.4435e-05 - val_loss: 0.0810\n",
      "Epoch 78/100\n",
      "307/307 [==============================] - 31s 102ms/step - loss: 2.3575e-05 - val_loss: 0.0827\n",
      "Epoch 79/100\n",
      "307/307 [==============================] - 32s 105ms/step - loss: 2.1590e-05 - val_loss: 0.0752\n",
      "Epoch 80/100\n",
      "307/307 [==============================] - 31s 102ms/step - loss: 2.4021e-05 - val_loss: 0.0799\n",
      "Epoch 81/100\n",
      "307/307 [==============================] - 28s 90ms/step - loss: 1.9998e-05 - val_loss: 0.0794\n",
      "Epoch 82/100\n",
      "307/307 [==============================] - 28s 91ms/step - loss: 2.3393e-05 - val_loss: 0.0773\n",
      "Epoch 83/100\n",
      "307/307 [==============================] - 29s 94ms/step - loss: 2.3996e-05 - val_loss: 0.0802\n",
      "Epoch 84/100\n",
      "307/307 [==============================] - 28s 91ms/step - loss: 2.6228e-05 - val_loss: 0.0839\n",
      "Epoch 85/100\n",
      "307/307 [==============================] - 28s 90ms/step - loss: 2.5178e-05 - val_loss: 0.0823\n",
      "Epoch 86/100\n",
      "307/307 [==============================] - 28s 93ms/step - loss: 2.6066e-05 - val_loss: 0.0821\n",
      "Epoch 87/100\n",
      "307/307 [==============================] - 29s 96ms/step - loss: 2.1393e-05 - val_loss: 0.0771\n",
      "Epoch 88/100\n",
      "307/307 [==============================] - 27s 89ms/step - loss: 2.6323e-05 - val_loss: 0.0787\n",
      "Epoch 89/100\n",
      "307/307 [==============================] - 28s 91ms/step - loss: 2.2976e-05 - val_loss: 0.0818\n",
      "Epoch 90/100\n",
      "307/307 [==============================] - 28s 91ms/step - loss: 2.3236e-05 - val_loss: 0.0799\n",
      "Epoch 91/100\n",
      "307/307 [==============================] - 28s 92ms/step - loss: 2.4761e-05 - val_loss: 0.0771\n",
      "Epoch 92/100\n",
      "307/307 [==============================] - 28s 93ms/step - loss: 2.4700e-05 - val_loss: 0.0715\n",
      "Epoch 93/100\n",
      "307/307 [==============================] - 29s 93ms/step - loss: 2.4988e-05 - val_loss: 0.0748\n",
      "Epoch 94/100\n",
      "307/307 [==============================] - 29s 93ms/step - loss: 2.0196e-05 - val_loss: 0.0716\n",
      "Epoch 95/100\n",
      "307/307 [==============================] - 28s 91ms/step - loss: 2.6938e-05 - val_loss: 0.0809\n",
      "Epoch 96/100\n",
      "307/307 [==============================] - 32s 103ms/step - loss: 2.2464e-05 - val_loss: 0.0797\n",
      "Epoch 97/100\n",
      "307/307 [==============================] - 30s 97ms/step - loss: 2.6295e-05 - val_loss: 0.0767\n",
      "Epoch 98/100\n",
      "307/307 [==============================] - 31s 101ms/step - loss: 2.2979e-05 - val_loss: 0.0821\n",
      "Epoch 99/100\n",
      "307/307 [==============================] - 31s 100ms/step - loss: 2.2904e-05 - val_loss: 0.0841\n",
      "Epoch 100/100\n",
      "307/307 [==============================] - 32s 105ms/step - loss: 2.4377e-05 - val_loss: 0.0849\n"
     ]
    }
   ],
   "source": [
    "model = Sequential()\n",
    "\n",
    "model.add(LSTM(50, return_sequences = True, input_shape = (X_train.shape[1], 1)))\n",
    "model.add(Dropout(0.2))\n",
    "\n",
    "model.add(LSTM(50, return_sequences = True))\n",
    "model.add(Dropout(0.2))\n",
    "\n",
    "model.add(LSTM(50, return_sequences = True))\n",
    "model.add(Dropout(0.2))\n",
    "\n",
    "model.add(LSTM(50))\n",
    "model.add(Dropout(0.2))\n",
    "\n",
    "model.add(Dense(1))\n",
    "\n",
    "model.compile(optimizer = 'adam', loss = 'mse')\n",
    "\n",
    "history = model.fit(X_train, y_train, validation_split = 0.2, epochs = 100, verbose = 1)"
   ]
  },
  {
   "cell_type": "code",
   "execution_count": 188,
   "metadata": {},
   "outputs": [
    {
     "data": {
      "image/png": "[encoded data removed]",
      "text/plain": [
       "<Figure size 1008x576 with 1 Axes>"
      ]
     },
     "metadata": {
      "needs_background": "light"
     },
     "output_type": "display_data"
    }
   ],
   "source": [
    "plt.figure(figsize=(14,8))\n",
    "plt.plot(history.history['loss'], label='Loss (training data)')\n",
    "plt.plot(history.history['val_loss'], label='Loss (validation data)')\n",
    "plt.title('Loss for Stacked LSTM Model')\n",
    "plt.ylabel('Loss')\n",
    "plt.xlabel('Epoch')\n",
    "plt.legend(loc=2)\n",
    "plt.show()"
   ]
  },
  {
   "cell_type": "code",
   "execution_count": 189,
   "metadata": {},
   "outputs": [
    {
     "name": "stdout",
     "output_type": "stream",
     "text": [
      "164/164 [==============================] - 9s 32ms/step\n"
     ]
    }
   ],
   "source": [
    "y_pred = model.predict(X_test, verbose=1)"
   ]
  },
  {
   "cell_type": "code",
   "execution_count": 190,
   "metadata": {},
   "outputs": [],
   "source": [
    "y_pred = sc.inverse_transform(y_pred)"
   ]
  },
  {
   "cell_type": "code",
   "execution_count": 191,
   "metadata": {},
   "outputs": [],
   "source": [
    "y_true = sc.inverse_transform(y_test)"
   ]
  },
  {
   "cell_type": "code",
   "execution_count": 192,
   "metadata": {},
   "outputs": [
    {
     "data": {
      "text/plain": [
       "-3.9141023381319835"
      ]
     },
     "execution_count": 192,
     "metadata": {},
     "output_type": "execute_result"
    }
   ],
   "source": [
    "r2_score(y_true,y_pred)"
   ]
  },
  {
   "cell_type": "code",
   "execution_count": 193,
   "metadata": {},
   "outputs": [
    {
     "data": {
      "image/png": "[encoded data removed]",
      "text/plain": [
       "<Figure size 1008x432 with 1 Axes>"
      ]
     },
     "metadata": {
      "needs_background": "light"
     },
     "output_type": "display_data"
    }
   ],
   "source": [
    "plt.figure(figsize=(14,6))\n",
    "plt.plot(y_true, color = 'black', label = 'S&P Price')\n",
    "plt.plot(y_pred, color = 'green', label = 'Predicted S&P Price')\n",
    "plt.title('S&P Price Prediction')\n",
    "plt.xlabel('Time')\n",
    "plt.ylabel('S&P Price')\n",
    "plt.legend()\n",
    "plt.show()"
   ]
  },
  {
   "cell_type": "markdown",
   "metadata": {},
   "source": [
    "## Bidirectional LSTM"
   ]
  },
  {
   "cell_type": "code",
   "execution_count": 89,
   "metadata": {},
   "outputs": [
    {
     "name": "stdout",
     "output_type": "stream",
     "text": [
      "Epoch 1/100\n",
      "307/307 [==============================] - 15s 31ms/step - loss: 2.5096e-04 - val_loss: 4.6517e-04\n",
      "Epoch 2/100\n",
      "307/307 [==============================] - 13s 41ms/step - loss: 9.6506e-06 - val_loss: 2.5260e-04\n",
      "Epoch 3/100\n",
      "307/307 [==============================] - 10s 34ms/step - loss: 7.4387e-06 - val_loss: 4.0921e-04\n",
      "Epoch 4/100\n",
      "307/307 [==============================] - 12s 40ms/step - loss: 5.4802e-06 - val_loss: 9.9033e-04\n",
      "Epoch 5/100\n",
      "307/307 [==============================] - 11s 35ms/step - loss: 4.8615e-06 - val_loss: 4.0772e-04\n",
      "Epoch 6/100\n",
      "307/307 [==============================] - 18s 59ms/step - loss: 4.5149e-06 - val_loss: 5.2434e-04\n",
      "Epoch 7/100\n",
      "307/307 [==============================] - 16s 53ms/step - loss: 5.2092e-06 - val_loss: 2.0246e-04\n",
      "Epoch 8/100\n",
      "307/307 [==============================] - 12s 38ms/step - loss: 3.1904e-06 - val_loss: 6.2459e-04\n",
      "Epoch 9/100\n",
      "307/307 [==============================] - 26s 86ms/step - loss: 3.3659e-06 - val_loss: 1.0966e-04\n",
      "Epoch 10/100\n",
      "307/307 [==============================] - 19s 62ms/step - loss: 3.5298e-06 - val_loss: 2.4387e-04\n",
      "Epoch 11/100\n",
      "307/307 [==============================] - 13s 42ms/step - loss: 2.8489e-06 - val_loss: 1.5652e-04\n",
      "Epoch 12/100\n",
      "307/307 [==============================] - 14s 45ms/step - loss: 4.5175e-06 - val_loss: 1.1335e-04\n",
      "Epoch 13/100\n",
      "307/307 [==============================] - 15s 48ms/step - loss: 2.7980e-06 - val_loss: 7.4196e-05\n",
      "Epoch 14/100\n",
      "307/307 [==============================] - 13s 43ms/step - loss: 2.9177e-06 - val_loss: 1.2038e-04\n",
      "Epoch 15/100\n",
      "307/307 [==============================] - 14s 44ms/step - loss: 2.2427e-06 - val_loss: 1.3397e-04\n",
      "Epoch 16/100\n",
      "307/307 [==============================] - 13s 44ms/step - loss: 3.5247e-06 - val_loss: 1.1882e-04\n",
      "Epoch 17/100\n",
      "307/307 [==============================] - 13s 42ms/step - loss: 2.5819e-06 - val_loss: 8.0399e-05\n",
      "Epoch 18/100\n",
      "307/307 [==============================] - 13s 44ms/step - loss: 2.2698e-06 - val_loss: 8.6844e-05\n",
      "Epoch 19/100\n",
      "307/307 [==============================] - 13s 44ms/step - loss: 2.1700e-06 - val_loss: 7.4753e-05\n",
      "Epoch 20/100\n",
      "307/307 [==============================] - 14s 45ms/step - loss: 2.2390e-06 - val_loss: 1.3838e-04\n",
      "Epoch 21/100\n",
      "307/307 [==============================] - 15s 50ms/step - loss: 1.9886e-06 - val_loss: 1.1590e-04\n",
      "Epoch 22/100\n",
      "307/307 [==============================] - 13s 44ms/step - loss: 2.0129e-06 - val_loss: 5.5733e-05\n",
      "Epoch 23/100\n",
      "307/307 [==============================] - 14s 47ms/step - loss: 2.7546e-06 - val_loss: 5.1403e-05\n",
      "Epoch 24/100\n",
      "307/307 [==============================] - 12s 38ms/step - loss: 2.0245e-06 - val_loss: 1.1326e-04\n",
      "Epoch 25/100\n",
      "307/307 [==============================] - 21s 70ms/step - loss: 1.7644e-06 - val_loss: 5.4787e-05\n",
      "Epoch 26/100\n",
      "307/307 [==============================] - 25s 81ms/step - loss: 2.1750e-06 - val_loss: 8.5984e-05\n",
      "Epoch 27/100\n",
      "307/307 [==============================] - 23s 75ms/step - loss: 1.5182e-06 - val_loss: 1.3343e-04\n",
      "Epoch 28/100\n",
      "307/307 [==============================] - 24s 79ms/step - loss: 1.7071e-06 - val_loss: 1.1594e-04\n",
      "Epoch 29/100\n",
      "307/307 [==============================] - 25s 80ms/step - loss: 1.6858e-06 - val_loss: 4.1233e-05\n",
      "Epoch 30/100\n",
      "307/307 [==============================] - 28s 92ms/step - loss: 2.0766e-06 - val_loss: 3.7126e-05\n",
      "Epoch 31/100\n",
      "307/307 [==============================] - 32s 103ms/step - loss: 2.1830e-06 - val_loss: 4.3716e-05\n",
      "Epoch 32/100\n",
      "307/307 [==============================] - 31s 102ms/step - loss: 1.7704e-06 - val_loss: 4.9977e-05\n",
      "Epoch 33/100\n",
      "307/307 [==============================] - 30s 98ms/step - loss: 1.6633e-06 - val_loss: 4.5146e-05\n",
      "Epoch 34/100\n",
      "307/307 [==============================] - 25s 82ms/step - loss: 1.3005e-06 - val_loss: 3.7420e-05\n",
      "Epoch 35/100\n",
      "307/307 [==============================] - 24s 79ms/step - loss: 1.1522e-06 - val_loss: 4.3516e-05\n",
      "Epoch 36/100\n",
      "307/307 [==============================] - 25s 80ms/step - loss: 1.6956e-06 - val_loss: 8.7223e-05\n",
      "Epoch 37/100\n",
      "307/307 [==============================] - 26s 85ms/step - loss: 1.4587e-06 - val_loss: 3.6632e-05\n",
      "Epoch 38/100\n",
      "307/307 [==============================] - 24s 79ms/step - loss: 1.3598e-06 - val_loss: 5.0502e-05\n",
      "Epoch 39/100\n",
      "307/307 [==============================] - 26s 84ms/step - loss: 1.7247e-06 - val_loss: 5.6585e-05\n",
      "Epoch 40/100\n",
      "307/307 [==============================] - 26s 84ms/step - loss: 1.0641e-06 - val_loss: 3.3249e-05\n",
      "Epoch 41/100\n",
      "307/307 [==============================] - 19s 61ms/step - loss: 1.8672e-06 - val_loss: 3.2456e-05\n",
      "Epoch 42/100\n",
      "307/307 [==============================] - 16s 52ms/step - loss: 1.3483e-06 - val_loss: 3.4787e-05\n",
      "Epoch 43/100\n",
      "307/307 [==============================] - 14s 47ms/step - loss: 1.6401e-06 - val_loss: 3.0336e-05\n",
      "Epoch 44/100\n",
      "307/307 [==============================] - 19s 63ms/step - loss: 1.2792e-06 - val_loss: 3.0202e-05\n",
      "Epoch 45/100\n",
      "307/307 [==============================] - 17s 57ms/step - loss: 2.5455e-06 - val_loss: 3.3470e-05\n",
      "Epoch 46/100\n",
      "307/307 [==============================] - 16s 53ms/step - loss: 1.1903e-06 - val_loss: 2.9346e-05\n",
      "Epoch 47/100\n",
      "307/307 [==============================] - 18s 58ms/step - loss: 1.2406e-06 - val_loss: 4.0060e-05\n",
      "Epoch 48/100\n",
      "307/307 [==============================] - 23s 75ms/step - loss: 1.2329e-06 - val_loss: 2.9631e-05\n",
      "Epoch 49/100\n",
      "307/307 [==============================] - 18s 57ms/step - loss: 1.2371e-06 - val_loss: 3.7586e-05\n",
      "Epoch 50/100\n",
      "307/307 [==============================] - 17s 56ms/step - loss: 1.4216e-06 - val_loss: 2.9726e-05\n",
      "Epoch 51/100\n",
      "307/307 [==============================] - 19s 62ms/step - loss: 1.5416e-06 - val_loss: 2.9713e-05\n",
      "Epoch 52/100\n",
      "307/307 [==============================] - 18s 59ms/step - loss: 1.3131e-06 - val_loss: 3.1363e-05\n",
      "Epoch 53/100\n",
      "307/307 [==============================] - 17s 54ms/step - loss: 1.4927e-06 - val_loss: 3.0456e-05\n",
      "Epoch 54/100\n",
      "307/307 [==============================] - 17s 56ms/step - loss: 1.1789e-06 - val_loss: 2.9761e-05\n",
      "Epoch 55/100\n",
      "307/307 [==============================] - 17s 56ms/step - loss: 1.2279e-06 - val_loss: 2.9775e-05\n",
      "Epoch 56/100\n",
      "307/307 [==============================] - 19s 61ms/step - loss: 9.4840e-07 - val_loss: 3.3251e-05\n",
      "Epoch 57/100\n",
      "307/307 [==============================] - 16s 52ms/step - loss: 1.6773e-06 - val_loss: 3.0045e-05\n",
      "Epoch 58/100\n",
      "307/307 [==============================] - 15s 47ms/step - loss: 1.1866e-06 - val_loss: 3.4370e-05\n",
      "Epoch 59/100\n",
      "307/307 [==============================] - 13s 41ms/step - loss: 1.3026e-06 - val_loss: 3.0724e-05\n",
      "Epoch 60/100\n",
      "307/307 [==============================] - 13s 42ms/step - loss: 1.0671e-06 - val_loss: 3.3912e-05\n",
      "Epoch 61/100\n",
      "307/307 [==============================] - 12s 40ms/step - loss: 1.0847e-06 - val_loss: 3.1673e-05\n",
      "Epoch 62/100\n",
      "307/307 [==============================] - 12s 40ms/step - loss: 1.2521e-06 - val_loss: 3.0763e-05\n",
      "Epoch 63/100\n",
      "307/307 [==============================] - 14s 44ms/step - loss: 1.1863e-06 - val_loss: 3.4808e-05\n",
      "Epoch 64/100\n",
      "307/307 [==============================] - 14s 45ms/step - loss: 1.0475e-06 - val_loss: 4.4992e-05\n",
      "Epoch 65/100\n",
      "307/307 [==============================] - 12s 41ms/step - loss: 1.1889e-06 - val_loss: 3.8796e-05\n",
      "Epoch 66/100\n",
      "307/307 [==============================] - 13s 41ms/step - loss: 1.1732e-06 - val_loss: 6.0024e-05\n",
      "Epoch 67/100\n",
      "307/307 [==============================] - 13s 41ms/step - loss: 1.2361e-06 - val_loss: 3.1318e-05\n",
      "Epoch 68/100\n",
      "307/307 [==============================] - 13s 42ms/step - loss: 1.4822e-06 - val_loss: 6.4949e-05\n",
      "Epoch 69/100\n",
      "307/307 [==============================] - 13s 41ms/step - loss: 1.3340e-06 - val_loss: 3.0656e-05\n",
      "Epoch 70/100\n",
      "307/307 [==============================] - 14s 47ms/step - loss: 1.1988e-06 - val_loss: 3.0364e-05\n",
      "Epoch 71/100\n",
      "307/307 [==============================] - 13s 41ms/step - loss: 1.1032e-06 - val_loss: 3.0948e-05\n",
      "Epoch 72/100\n",
      "307/307 [==============================] - 14s 44ms/step - loss: 1.1590e-06 - val_loss: 3.3083e-05\n",
      "Epoch 73/100\n",
      "307/307 [==============================] - 15s 50ms/step - loss: 1.9301e-06 - val_loss: 3.9330e-05\n",
      "Epoch 74/100\n"
     ]
    },
    {
     "name": "stdout",
     "output_type": "stream",
     "text": [
      "307/307 [==============================] - 14s 46ms/step - loss: 1.2522e-06 - val_loss: 3.1634e-05\n",
      "Epoch 75/100\n",
      "307/307 [==============================] - 14s 46ms/step - loss: 1.1178e-06 - val_loss: 5.1091e-05\n",
      "Epoch 76/100\n",
      "307/307 [==============================] - 14s 44ms/step - loss: 9.9812e-07 - val_loss: 3.1191e-05\n",
      "Epoch 77/100\n",
      "307/307 [==============================] - 14s 47ms/step - loss: 9.5924e-07 - val_loss: 5.1704e-05\n",
      "Epoch 78/100\n",
      "307/307 [==============================] - 11s 35ms/step - loss: 1.0450e-06 - val_loss: 3.2201e-05\n",
      "Epoch 79/100\n",
      "307/307 [==============================] - 11s 37ms/step - loss: 1.0551e-06 - val_loss: 3.2625e-05\n",
      "Epoch 80/100\n",
      "307/307 [==============================] - 12s 39ms/step - loss: 1.3825e-06 - val_loss: 3.8081e-05\n",
      "Epoch 81/100\n",
      "307/307 [==============================] - 20s 64ms/step - loss: 1.0079e-06 - val_loss: 3.2380e-05\n",
      "Epoch 82/100\n",
      "307/307 [==============================] - 13s 41ms/step - loss: 9.1929e-07 - val_loss: 6.1707e-05\n",
      "Epoch 83/100\n",
      "307/307 [==============================] - 13s 43ms/step - loss: 1.3987e-06 - val_loss: 3.0870e-05\n",
      "Epoch 84/100\n",
      "307/307 [==============================] - 12s 38ms/step - loss: 1.1465e-06 - val_loss: 3.3811e-05\n",
      "Epoch 85/100\n",
      "307/307 [==============================] - 11s 37ms/step - loss: 1.0784e-06 - val_loss: 3.8729e-05\n",
      "Epoch 86/100\n",
      "307/307 [==============================] - 12s 39ms/step - loss: 1.1585e-06 - val_loss: 3.0659e-05\n",
      "Epoch 87/100\n",
      "307/307 [==============================] - 12s 39ms/step - loss: 1.0266e-06 - val_loss: 3.7845e-05\n",
      "Epoch 88/100\n",
      "307/307 [==============================] - 13s 42ms/step - loss: 1.7095e-06 - val_loss: 9.3513e-05\n",
      "Epoch 89/100\n",
      "307/307 [==============================] - 12s 39ms/step - loss: 1.1891e-06 - val_loss: 3.8647e-05\n",
      "Epoch 90/100\n",
      "307/307 [==============================] - 12s 40ms/step - loss: 1.3769e-06 - val_loss: 3.1709e-05\n",
      "Epoch 91/100\n",
      "307/307 [==============================] - 13s 43ms/step - loss: 1.9594e-06 - val_loss: 3.1166e-05\n",
      "Epoch 92/100\n",
      "307/307 [==============================] - 12s 39ms/step - loss: 1.2601e-06 - val_loss: 3.1357e-05\n",
      "Epoch 93/100\n",
      "307/307 [==============================] - 12s 40ms/step - loss: 9.9710e-07 - val_loss: 3.6726e-05\n",
      "Epoch 94/100\n",
      "307/307 [==============================] - 12s 40ms/step - loss: 1.5445e-06 - val_loss: 3.1693e-05\n",
      "Epoch 95/100\n",
      "307/307 [==============================] - 12s 40ms/step - loss: 1.0592e-06 - val_loss: 3.1092e-05\n",
      "Epoch 96/100\n",
      "307/307 [==============================] - 12s 40ms/step - loss: 9.8837e-07 - val_loss: 3.4018e-05\n",
      "Epoch 97/100\n",
      "307/307 [==============================] - 12s 40ms/step - loss: 1.7322e-06 - val_loss: 3.4887e-05\n",
      "Epoch 98/100\n",
      "307/307 [==============================] - 12s 40ms/step - loss: 1.0310e-06 - val_loss: 4.1579e-05\n",
      "Epoch 99/100\n",
      "307/307 [==============================] - 12s 39ms/step - loss: 1.0289e-06 - val_loss: 3.2008e-05\n",
      "Epoch 100/100\n",
      "307/307 [==============================] - 14s 46ms/step - loss: 1.0423e-06 - val_loss: 3.7522e-05\n"
     ]
    }
   ],
   "source": [
    "model = Sequential()\n",
    "\n",
    "model.add(Bidirectional(LSTM(50, input_shape = (X_train.shape[1], 1))))\n",
    "\n",
    "model.add(Dense(1))\n",
    "\n",
    "model.compile(optimizer = 'adam', loss = 'mse')\n",
    "\n",
    "history = model.fit(X_train, y_train, validation_split = 0.2, epochs = 100, verbose = 1)"
   ]
  },
  {
   "cell_type": "code",
   "execution_count": 98,
   "metadata": {},
   "outputs": [
    {
     "data": {
      "image/png": "[encoded data removed]",
      "text/plain": [
       "<Figure size 1008x576 with 1 Axes>"
      ]
     },
     "metadata": {
      "needs_background": "light"
     },
     "output_type": "display_data"
    }
   ],
   "source": [
    "plt.figure(figsize=(14,8))\n",
    "plt.plot(history.history['loss'], label='Loss (training data)')\n",
    "plt.plot(history.history['val_loss'], label='Loss (validation data)')\n",
    "plt.title('Loss for Stacked LSTM Model')\n",
    "plt.ylabel('Loss')\n",
    "plt.xlabel('Epoch')\n",
    "plt.legend(loc=2)\n",
    "plt.show()"
   ]
  },
  {
   "cell_type": "code",
   "execution_count": 99,
   "metadata": {},
   "outputs": [
    {
     "name": "stdout",
     "output_type": "stream",
     "text": [
      "164/164 [==============================] - 2s 13ms/step\n"
     ]
    }
   ],
   "source": [
    "y_pred = model.predict(X_test, verbose=1)"
   ]
  },
  {
   "cell_type": "code",
   "execution_count": 100,
   "metadata": {},
   "outputs": [],
   "source": [
    "y_pred = sc.inverse_transform(y_pred)"
   ]
  },
  {
   "cell_type": "code",
   "execution_count": 101,
   "metadata": {},
   "outputs": [],
   "source": [
    "y_true = sc.inverse_transform(y_test)"
   ]
  },
  {
   "cell_type": "code",
   "execution_count": 102,
   "metadata": {},
   "outputs": [
    {
     "data": {
      "text/plain": [
       "0.994021695642909"
      ]
     },
     "execution_count": 102,
     "metadata": {},
     "output_type": "execute_result"
    }
   ],
   "source": [
    "r2_score(y_true,y_pred)"
   ]
  },
  {
   "cell_type": "code",
   "execution_count": 103,
   "metadata": {},
   "outputs": [
    {
     "data": {
      "image/png": "[encoded data removed]",
      "text/plain": [
       "<Figure size 1008x432 with 1 Axes>"
      ]
     },
     "metadata": {
      "needs_background": "light"
     },
     "output_type": "display_data"
    }
   ],
   "source": [
    "plt.figure(figsize=(14,6))\n",
    "plt.plot(y_true, color = 'black', label = 'S&P Price')\n",
    "plt.plot(y_pred, color = 'green', label = 'Predicted S&P Price')\n",
    "plt.title('S&P Price Prediction')\n",
    "plt.xlabel('Time')\n",
    "plt.ylabel('S&P Price')\n",
    "plt.legend()\n",
    "plt.show()"
   ]
  },
  {
   "cell_type": "markdown",
   "metadata": {},
   "source": [
    "## Single Layer LSTM "
   ]
  },
  {
   "cell_type": "code",
   "execution_count": 194,
   "metadata": {},
   "outputs": [
    {
     "name": "stdout",
     "output_type": "stream",
     "text": [
      "Epoch 1/100\n",
      "307/307 [==============================] - 17s 39ms/step - loss: 5.6462e-04 - val_loss: 2.1363e-04\n",
      "Epoch 2/100\n",
      "307/307 [==============================] - 7s 24ms/step - loss: 4.6271e-06 - val_loss: 9.3155e-04\n",
      "Epoch 3/100\n",
      "307/307 [==============================] - 7s 22ms/step - loss: 4.1484e-06 - val_loss: 1.7678e-04\n",
      "Epoch 4/100\n",
      "307/307 [==============================] - 6s 21ms/step - loss: 5.4138e-06 - val_loss: 3.5214e-04\n",
      "Epoch 5/100\n",
      "307/307 [==============================] - 6s 21ms/step - loss: 4.4519e-06 - val_loss: 1.7280e-04\n",
      "Epoch 6/100\n",
      "307/307 [==============================] - 8s 27ms/step - loss: 3.1387e-06 - val_loss: 4.3878e-04\n",
      "Epoch 7/100\n",
      "307/307 [==============================] - 7s 23ms/step - loss: 3.6556e-06 - val_loss: 1.3838e-04\n",
      "Epoch 8/100\n",
      "307/307 [==============================] - 6s 21ms/step - loss: 3.2129e-06 - val_loss: 2.2471e-04\n",
      "Epoch 9/100\n",
      "307/307 [==============================] - 7s 22ms/step - loss: 3.6614e-06 - val_loss: 9.8022e-05\n",
      "Epoch 10/100\n",
      "307/307 [==============================] - 7s 23ms/step - loss: 2.7284e-06 - val_loss: 8.1063e-05\n",
      "Epoch 11/100\n",
      "307/307 [==============================] - 7s 22ms/step - loss: 2.5915e-06 - val_loss: 4.0187e-04\n",
      "Epoch 12/100\n",
      "307/307 [==============================] - 7s 22ms/step - loss: 3.4639e-06 - val_loss: 7.0175e-05\n",
      "Epoch 13/100\n",
      "307/307 [==============================] - 7s 22ms/step - loss: 2.1492e-06 - val_loss: 2.8500e-04\n",
      "Epoch 14/100\n",
      "307/307 [==============================] - 7s 22ms/step - loss: 3.1325e-06 - val_loss: 6.4216e-05\n",
      "Epoch 15/100\n",
      "307/307 [==============================] - 7s 22ms/step - loss: 2.4211e-06 - val_loss: 5.9826e-05\n",
      "Epoch 16/100\n",
      "307/307 [==============================] - 7s 22ms/step - loss: 2.2291e-06 - val_loss: 6.2601e-05\n",
      "Epoch 17/100\n",
      "307/307 [==============================] - 10s 33ms/step - loss: 1.9169e-06 - val_loss: 5.5204e-05\n",
      "Epoch 18/100\n",
      "307/307 [==============================] - 13s 43ms/step - loss: 2.0789e-06 - val_loss: 5.2341e-05\n",
      "Epoch 19/100\n",
      "307/307 [==============================] - 10s 32ms/step - loss: 2.2294e-06 - val_loss: 6.9036e-05\n",
      "Epoch 20/100\n",
      "307/307 [==============================] - 11s 36ms/step - loss: 1.7744e-06 - val_loss: 1.0089e-04\n",
      "Epoch 21/100\n",
      "307/307 [==============================] - 9s 30ms/step - loss: 1.9723e-06 - val_loss: 7.6532e-05\n",
      "Epoch 22/100\n",
      "307/307 [==============================] - 8s 27ms/step - loss: 1.7850e-06 - val_loss: 5.9454e-05\n",
      "Epoch 23/100\n",
      "307/307 [==============================] - 7s 22ms/step - loss: 2.0870e-06 - val_loss: 6.5556e-05\n",
      "Epoch 24/100\n",
      "307/307 [==============================] - 6s 21ms/step - loss: 1.6669e-06 - val_loss: 4.4295e-05\n",
      "Epoch 25/100\n",
      "307/307 [==============================] - 7s 23ms/step - loss: 2.1638e-06 - val_loss: 7.4356e-05\n",
      "Epoch 26/100\n",
      "307/307 [==============================] - 7s 24ms/step - loss: 1.4998e-06 - val_loss: 6.6095e-05\n",
      "Epoch 27/100\n",
      "307/307 [==============================] - 8s 27ms/step - loss: 1.8037e-06 - val_loss: 4.0695e-05\n",
      "Epoch 28/100\n",
      "307/307 [==============================] - 9s 29ms/step - loss: 1.6736e-06 - val_loss: 6.2475e-05\n",
      "Epoch 29/100\n",
      "307/307 [==============================] - 7s 22ms/step - loss: 1.3304e-06 - val_loss: 3.8182e-05\n",
      "Epoch 30/100\n",
      "307/307 [==============================] - 7s 24ms/step - loss: 1.8930e-06 - val_loss: 8.1061e-05\n",
      "Epoch 31/100\n",
      "307/307 [==============================] - 11s 37ms/step - loss: 1.6275e-06 - val_loss: 3.4578e-05\n",
      "Epoch 32/100\n",
      "307/307 [==============================] - 7s 23ms/step - loss: 1.3579e-06 - val_loss: 4.1701e-05\n",
      "Epoch 33/100\n",
      "307/307 [==============================] - 7s 23ms/step - loss: 1.5058e-06 - val_loss: 4.5274e-05\n",
      "Epoch 34/100\n",
      "307/307 [==============================] - 10s 32ms/step - loss: 1.2160e-06 - val_loss: 4.3454e-05\n",
      "Epoch 35/100\n",
      "307/307 [==============================] - 7s 23ms/step - loss: 1.8865e-06 - val_loss: 3.7965e-05\n",
      "Epoch 36/100\n",
      "307/307 [==============================] - 6s 21ms/step - loss: 1.1953e-06 - val_loss: 4.5828e-05\n",
      "Epoch 37/100\n",
      "307/307 [==============================] - 7s 22ms/step - loss: 1.7716e-06 - val_loss: 3.7324e-05\n",
      "Epoch 38/100\n",
      "307/307 [==============================] - 8s 27ms/step - loss: 1.4500e-06 - val_loss: 3.2877e-05\n",
      "Epoch 39/100\n",
      "307/307 [==============================] - 7s 21ms/step - loss: 1.5457e-06 - val_loss: 3.1265e-05\n",
      "Epoch 40/100\n",
      "307/307 [==============================] - 7s 22ms/step - loss: 1.5294e-06 - val_loss: 3.4000e-05\n",
      "Epoch 41/100\n",
      "307/307 [==============================] - 7s 23ms/step - loss: 1.4412e-06 - val_loss: 3.2222e-05\n",
      "Epoch 42/100\n",
      "307/307 [==============================] - 6s 21ms/step - loss: 1.3431e-06 - val_loss: 3.1964e-05\n",
      "Epoch 43/100\n",
      "307/307 [==============================] - 7s 21ms/step - loss: 1.0988e-06 - val_loss: 3.1768e-05\n",
      "Epoch 44/100\n",
      "307/307 [==============================] - 7s 22ms/step - loss: 1.0859e-06 - val_loss: 3.9515e-05\n",
      "Epoch 45/100\n",
      "307/307 [==============================] - 7s 23ms/step - loss: 1.1487e-06 - val_loss: 4.6604e-05\n",
      "Epoch 46/100\n",
      "307/307 [==============================] - 7s 21ms/step - loss: 1.1461e-06 - val_loss: 3.1610e-05\n",
      "Epoch 47/100\n",
      "307/307 [==============================] - 7s 21ms/step - loss: 1.2860e-06 - val_loss: 5.1963e-05\n",
      "Epoch 48/100\n",
      "307/307 [==============================] - 7s 22ms/step - loss: 1.2539e-06 - val_loss: 4.2427e-05\n",
      "Epoch 49/100\n",
      "307/307 [==============================] - 7s 23ms/step - loss: 1.0588e-06 - val_loss: 5.8231e-05\n",
      "Epoch 50/100\n",
      "307/307 [==============================] - 8s 25ms/step - loss: 1.3169e-06 - val_loss: 3.6387e-05\n",
      "Epoch 51/100\n",
      "307/307 [==============================] - 6s 21ms/step - loss: 1.0409e-06 - val_loss: 3.3290e-05\n",
      "Epoch 52/100\n",
      "307/307 [==============================] - 9s 28ms/step - loss: 1.3089e-06 - val_loss: 3.0704e-05\n",
      "Epoch 53/100\n",
      "307/307 [==============================] - 8s 25ms/step - loss: 1.7516e-06 - val_loss: 3.8673e-05\n",
      "Epoch 54/100\n",
      "307/307 [==============================] - 8s 25ms/step - loss: 1.1655e-06 - val_loss: 3.6784e-05\n",
      "Epoch 55/100\n",
      "307/307 [==============================] - 8s 26ms/step - loss: 1.5204e-06 - val_loss: 3.1583e-05\n",
      "Epoch 56/100\n",
      "307/307 [==============================] - 9s 29ms/step - loss: 1.0688e-06 - val_loss: 3.5532e-05\n",
      "Epoch 57/100\n",
      "307/307 [==============================] - 11s 35ms/step - loss: 1.1965e-06 - val_loss: 3.2345e-05\n",
      "Epoch 58/100\n",
      "307/307 [==============================] - 12s 40ms/step - loss: 1.0838e-06 - val_loss: 3.4924e-05\n",
      "Epoch 59/100\n",
      "307/307 [==============================] - 8s 28ms/step - loss: 9.3059e-07 - val_loss: 3.3366e-05\n",
      "Epoch 60/100\n",
      "307/307 [==============================] - 8s 25ms/step - loss: 1.2338e-06 - val_loss: 3.1794e-05\n",
      "Epoch 61/100\n",
      "307/307 [==============================] - 6s 20ms/step - loss: 9.4634e-07 - val_loss: 3.5587e-05\n",
      "Epoch 62/100\n",
      "307/307 [==============================] - 6s 21ms/step - loss: 1.0813e-06 - val_loss: 4.7337e-05\n",
      "Epoch 63/100\n",
      "307/307 [==============================] - 9s 29ms/step - loss: 1.1348e-06 - val_loss: 3.2649e-05\n",
      "Epoch 64/100\n",
      "307/307 [==============================] - 8s 25ms/step - loss: 1.5313e-06 - val_loss: 3.8030e-05\n",
      "Epoch 65/100\n",
      "307/307 [==============================] - 7s 21ms/step - loss: 1.0374e-06 - val_loss: 3.6957e-05\n",
      "Epoch 66/100\n",
      "307/307 [==============================] - 6s 20ms/step - loss: 1.1443e-06 - val_loss: 3.1706e-05\n",
      "Epoch 67/100\n",
      "307/307 [==============================] - 6s 20ms/step - loss: 9.9909e-07 - val_loss: 4.8634e-05\n",
      "Epoch 68/100\n",
      "307/307 [==============================] - 6s 20ms/step - loss: 1.3728e-06 - val_loss: 3.5104e-05\n",
      "Epoch 69/100\n",
      "307/307 [==============================] - 7s 22ms/step - loss: 8.6337e-07 - val_loss: 3.1864e-05\n",
      "Epoch 70/100\n",
      "307/307 [==============================] - 7s 21ms/step - loss: 1.2917e-06 - val_loss: 3.3442e-05\n",
      "Epoch 71/100\n",
      "307/307 [==============================] - 7s 22ms/step - loss: 1.5758e-06 - val_loss: 9.6438e-05\n",
      "Epoch 72/100\n",
      "307/307 [==============================] - 7s 23ms/step - loss: 1.0390e-06 - val_loss: 9.2863e-05\n",
      "Epoch 73/100\n",
      "307/307 [==============================] - 7s 22ms/step - loss: 1.4795e-06 - val_loss: 3.3811e-05\n",
      "Epoch 74/100\n",
      "307/307 [==============================] - 7s 22ms/step - loss: 1.1923e-06 - val_loss: 3.2948e-05\n"
     ]
    },
    {
     "name": "stdout",
     "output_type": "stream",
     "text": [
      "Epoch 75/100\n",
      "307/307 [==============================] - 7s 22ms/step - loss: 1.7211e-06 - val_loss: 3.4448e-05\n",
      "Epoch 76/100\n",
      "307/307 [==============================] - 7s 23ms/step - loss: 1.2375e-06 - val_loss: 4.5118e-05\n",
      "Epoch 77/100\n",
      "307/307 [==============================] - 7s 22ms/step - loss: 1.1803e-06 - val_loss: 3.2704e-05\n",
      "Epoch 78/100\n",
      "307/307 [==============================] - 7s 21ms/step - loss: 1.3420e-06 - val_loss: 3.3014e-05\n",
      "Epoch 79/100\n",
      "307/307 [==============================] - 7s 22ms/step - loss: 1.3063e-06 - val_loss: 5.5376e-05\n",
      "Epoch 80/100\n",
      "307/307 [==============================] - 6s 21ms/step - loss: 1.2009e-06 - val_loss: 3.8480e-05\n",
      "Epoch 81/100\n",
      "307/307 [==============================] - 7s 22ms/step - loss: 9.1159e-07 - val_loss: 6.1919e-05\n",
      "Epoch 82/100\n",
      "307/307 [==============================] - 7s 23ms/step - loss: 1.1042e-06 - val_loss: 4.7795e-05\n",
      "Epoch 83/100\n",
      "307/307 [==============================] - 7s 23ms/step - loss: 1.3906e-06 - val_loss: 4.2705e-05\n",
      "Epoch 84/100\n",
      "307/307 [==============================] - 7s 22ms/step - loss: 1.5956e-06 - val_loss: 6.4799e-05\n",
      "Epoch 85/100\n",
      "307/307 [==============================] - 7s 23ms/step - loss: 1.1266e-06 - val_loss: 3.3105e-05\n",
      "Epoch 86/100\n",
      "307/307 [==============================] - 6s 21ms/step - loss: 1.1355e-06 - val_loss: 5.5295e-05\n",
      "Epoch 87/100\n",
      "307/307 [==============================] - 10s 32ms/step - loss: 1.1238e-06 - val_loss: 3.6217e-05\n",
      "Epoch 88/100\n",
      "307/307 [==============================] - 8s 27ms/step - loss: 1.1168e-06 - val_loss: 4.1862e-05\n",
      "Epoch 89/100\n",
      "307/307 [==============================] - 7s 21ms/step - loss: 8.4500e-07 - val_loss: 5.2759e-05\n",
      "Epoch 90/100\n",
      "307/307 [==============================] - 7s 22ms/step - loss: 1.0350e-06 - val_loss: 6.2514e-05\n",
      "Epoch 91/100\n",
      "307/307 [==============================] - 7s 23ms/step - loss: 1.1205e-06 - val_loss: 3.3064e-05\n",
      "Epoch 92/100\n",
      "307/307 [==============================] - 7s 23ms/step - loss: 1.0768e-06 - val_loss: 3.7749e-05\n",
      "Epoch 93/100\n",
      "307/307 [==============================] - 7s 24ms/step - loss: 1.0450e-06 - val_loss: 4.6426e-05\n",
      "Epoch 94/100\n",
      "307/307 [==============================] - 7s 23ms/step - loss: 1.0206e-06 - val_loss: 3.2715e-05\n",
      "Epoch 95/100\n",
      "307/307 [==============================] - 7s 24ms/step - loss: 1.2156e-06 - val_loss: 4.2949e-05\n",
      "Epoch 96/100\n",
      "307/307 [==============================] - 8s 26ms/step - loss: 1.0712e-06 - val_loss: 6.0284e-05\n",
      "Epoch 97/100\n",
      "307/307 [==============================] - 11s 37ms/step - loss: 1.1607e-06 - val_loss: 4.7602e-05\n",
      "Epoch 98/100\n",
      "307/307 [==============================] - 8s 26ms/step - loss: 9.8107e-07 - val_loss: 5.4743e-05\n",
      "Epoch 99/100\n",
      "307/307 [==============================] - 6s 20ms/step - loss: 8.2607e-07 - val_loss: 3.2662e-05\n",
      "Epoch 100/100\n",
      "307/307 [==============================] - 6s 20ms/step - loss: 1.5503e-06 - val_loss: 3.3076e-05\n"
     ]
    }
   ],
   "source": [
    "model = Sequential()\n",
    "\n",
    "model.add(LSTM(50, input_shape = (X_train.shape[1], 1)))\n",
    "\n",
    "model.add(Dense(1))\n",
    "\n",
    "model.compile(optimizer = 'adam', loss = 'mse')\n",
    "\n",
    "history = model.fit(X_train, y_train, validation_split = 0.2, epochs = 100, verbose = 1)"
   ]
  },
  {
   "cell_type": "code",
   "execution_count": 195,
   "metadata": {},
   "outputs": [
    {
     "data": {
      "image/png": "[encoded data removed]",
      "text/plain": [
       "<Figure size 1008x576 with 1 Axes>"
      ]
     },
     "metadata": {
      "needs_background": "light"
     },
     "output_type": "display_data"
    }
   ],
   "source": [
    "plt.figure(figsize=(14,8))\n",
    "plt.plot(history.history['loss'], label='Loss (training data)')\n",
    "plt.plot(history.history['val_loss'], label='Loss (validation data)')\n",
    "plt.title('Loss for Single Layer LSTM Model')\n",
    "plt.ylabel('Loss')\n",
    "plt.xlabel('Epoch')\n",
    "plt.legend(loc=2)\n",
    "plt.show()"
   ]
  },
  {
   "cell_type": "code",
   "execution_count": 196,
   "metadata": {},
   "outputs": [
    {
     "name": "stdout",
     "output_type": "stream",
     "text": [
      "164/164 [==============================] - 2s 9ms/step\n"
     ]
    }
   ],
   "source": [
    "y_pred = model.predict(X_test, verbose=1)"
   ]
  },
  {
   "cell_type": "code",
   "execution_count": 197,
   "metadata": {},
   "outputs": [],
   "source": [
    "y_pred = sc.inverse_transform(y_pred)"
   ]
  },
  {
   "cell_type": "code",
   "execution_count": 198,
   "metadata": {},
   "outputs": [],
   "source": [
    "y_true = sc.inverse_transform(y_test)"
   ]
  },
  {
   "cell_type": "code",
   "execution_count": 199,
   "metadata": {},
   "outputs": [
    {
     "data": {
      "image/png": "[encoded data removed]",
      "text/plain": [
       "<Figure size 1008x432 with 1 Axes>"
      ]
     },
     "metadata": {
      "needs_background": "light"
     },
     "output_type": "display_data"
    }
   ],
   "source": [
    "plt.figure(figsize=(14,6))\n",
    "plt.plot(y_true, color = 'black', label = 'S&P Price')\n",
    "plt.plot(y_pred, color = 'green', label = 'Predicted S&P Price')\n",
    "plt.title('S&P Price Prediction')\n",
    "plt.xlabel('Time')\n",
    "plt.ylabel('S&P Price')\n",
    "plt.legend()\n",
    "plt.show()"
   ]
  },
  {
   "cell_type": "code",
   "execution_count": 200,
   "metadata": {},
   "outputs": [
    {
     "data": {
      "text/plain": [
       "0.9952583203811488"
      ]
     },
     "execution_count": 200,
     "metadata": {},
     "output_type": "execute_result"
    }
   ],
   "source": [
    "r2_score(y_true,y_pred)"
   ]
  },
  {
   "cell_type": "markdown",
   "metadata": {},
   "source": [
    "## Dashboard"
   ]
  },
  {
   "cell_type": "code",
   "execution_count": 111,
   "metadata": {},
   "outputs": [],
   "source": [
    "import plotly.express as px \n",
    "import plotly.graph_objects as go"
   ]
  },
  {
   "cell_type": "code",
   "execution_count": 201,
   "metadata": {},
   "outputs": [
    {
     "data": {
      "text/html": [
       "<div>\n",
       "<style scoped>\n",
       "    .dataframe tbody tr th:only-of-type {\n",
       "        vertical-align: middle;\n",
       "    }\n",
       "\n",
       "    .dataframe tbody tr th {\n",
       "        vertical-align: top;\n",
       "    }\n",
       "\n",
       "    .dataframe thead th {\n",
       "        text-align: right;\n",
       "    }\n",
       "</style>\n",
       "<table border=\"1\" class=\"dataframe\">\n",
       "  <thead>\n",
       "    <tr style=\"text-align: right;\">\n",
       "      <th></th>\n",
       "      <th>pred</th>\n",
       "      <th>true</th>\n",
       "      <th>time</th>\n",
       "    </tr>\n",
       "  </thead>\n",
       "  <tbody>\n",
       "    <tr>\n",
       "      <th>0</th>\n",
       "      <td>1493.465576</td>\n",
       "      <td>1500.640015</td>\n",
       "      <td>0</td>\n",
       "    </tr>\n",
       "    <tr>\n",
       "      <th>1</th>\n",
       "      <td>1489.986694</td>\n",
       "      <td>1527.349976</td>\n",
       "      <td>1</td>\n",
       "    </tr>\n",
       "    <tr>\n",
       "      <th>2</th>\n",
       "      <td>1523.146118</td>\n",
       "      <td>1527.459961</td>\n",
       "      <td>2</td>\n",
       "    </tr>\n",
       "    <tr>\n",
       "      <th>3</th>\n",
       "      <td>1515.113647</td>\n",
       "      <td>1523.859985</td>\n",
       "      <td>3</td>\n",
       "    </tr>\n",
       "    <tr>\n",
       "      <th>4</th>\n",
       "      <td>1512.714355</td>\n",
       "      <td>1507.729980</td>\n",
       "      <td>4</td>\n",
       "    </tr>\n",
       "    <tr>\n",
       "      <th>...</th>\n",
       "      <td>...</td>\n",
       "      <td>...</td>\n",
       "      <td>...</td>\n",
       "    </tr>\n",
       "    <tr>\n",
       "      <th>5219</th>\n",
       "      <td>3540.218262</td>\n",
       "      <td>3722.389893</td>\n",
       "      <td>5219</td>\n",
       "    </tr>\n",
       "    <tr>\n",
       "      <th>5220</th>\n",
       "      <td>3547.321045</td>\n",
       "      <td>3684.280029</td>\n",
       "      <td>5220</td>\n",
       "    </tr>\n",
       "    <tr>\n",
       "      <th>5221</th>\n",
       "      <td>3500.273682</td>\n",
       "      <td>3698.080078</td>\n",
       "      <td>5221</td>\n",
       "    </tr>\n",
       "    <tr>\n",
       "      <th>5222</th>\n",
       "      <td>3532.429688</td>\n",
       "      <td>3693.419922</td>\n",
       "      <td>5222</td>\n",
       "    </tr>\n",
       "    <tr>\n",
       "      <th>5223</th>\n",
       "      <td>3517.075928</td>\n",
       "      <td>3694.030029</td>\n",
       "      <td>5223</td>\n",
       "    </tr>\n",
       "  </tbody>\n",
       "</table>\n",
       "<p>5224 rows × 3 columns</p>\n",
       "</div>"
      ],
      "text/plain": [
       "             pred         true  time\n",
       "0     1493.465576  1500.640015     0\n",
       "1     1489.986694  1527.349976     1\n",
       "2     1523.146118  1527.459961     2\n",
       "3     1515.113647  1523.859985     3\n",
       "4     1512.714355  1507.729980     4\n",
       "...           ...          ...   ...\n",
       "5219  3540.218262  3722.389893  5219\n",
       "5220  3547.321045  3684.280029  5220\n",
       "5221  3500.273682  3698.080078  5221\n",
       "5222  3532.429688  3693.419922  5222\n",
       "5223  3517.075928  3694.030029  5223\n",
       "\n",
       "[5224 rows x 3 columns]"
      ]
     },
     "execution_count": 201,
     "metadata": {},
     "output_type": "execute_result"
    }
   ],
   "source": [
    "df_pred = pd.DataFrame(y_pred,columns=['pred'])\n",
    "df_pred['true']=y_true\n",
    "df_pred['time']=df_pred.index\n",
    "\n",
    "df_pred"
   ]
  },
  {
   "cell_type": "code",
   "execution_count": 202,
   "metadata": {},
   "outputs": [],
   "source": [
    "df_pred.to_csv('pred1.csv')"
   ]
  },
  {
   "cell_type": "markdown",
   "metadata": {},
   "source": [
    "## Prediction (1 day)"
   ]
  },
  {
   "cell_type": "code",
   "execution_count": 203,
   "metadata": {},
   "outputs": [
    {
     "data": {
      "text/html": [
       "<div>\n",
       "<style scoped>\n",
       "    .dataframe tbody tr th:only-of-type {\n",
       "        vertical-align: middle;\n",
       "    }\n",
       "\n",
       "    .dataframe tbody tr th {\n",
       "        vertical-align: top;\n",
       "    }\n",
       "\n",
       "    .dataframe thead th {\n",
       "        text-align: right;\n",
       "    }\n",
       "</style>\n",
       "<table border=\"1\" class=\"dataframe\">\n",
       "  <thead>\n",
       "    <tr style=\"text-align: right;\">\n",
       "      <th></th>\n",
       "      <th>Date</th>\n",
       "      <th>Open</th>\n",
       "      <th>High</th>\n",
       "      <th>Low</th>\n",
       "      <th>Close</th>\n",
       "      <th>Adj Close</th>\n",
       "      <th>Volume</th>\n",
       "    </tr>\n",
       "  </thead>\n",
       "  <tbody>\n",
       "    <tr>\n",
       "      <th>246</th>\n",
       "      <td>2021-01-04</td>\n",
       "      <td>3764.610107</td>\n",
       "      <td>3769.989990</td>\n",
       "      <td>3662.709961</td>\n",
       "      <td>3700.649902</td>\n",
       "      <td>3700.649902</td>\n",
       "      <td>5006680000</td>\n",
       "    </tr>\n",
       "    <tr>\n",
       "      <th>247</th>\n",
       "      <td>2021-01-05</td>\n",
       "      <td>3698.020020</td>\n",
       "      <td>3737.830078</td>\n",
       "      <td>3695.070068</td>\n",
       "      <td>3726.860107</td>\n",
       "      <td>3726.860107</td>\n",
       "      <td>4582620000</td>\n",
       "    </tr>\n",
       "    <tr>\n",
       "      <th>248</th>\n",
       "      <td>2021-01-06</td>\n",
       "      <td>3712.199951</td>\n",
       "      <td>3783.040039</td>\n",
       "      <td>3705.340088</td>\n",
       "      <td>3748.139893</td>\n",
       "      <td>3748.139893</td>\n",
       "      <td>6049970000</td>\n",
       "    </tr>\n",
       "    <tr>\n",
       "      <th>249</th>\n",
       "      <td>2021-01-07</td>\n",
       "      <td>3764.709961</td>\n",
       "      <td>3811.550049</td>\n",
       "      <td>3764.709961</td>\n",
       "      <td>3803.790039</td>\n",
       "      <td>3803.790039</td>\n",
       "      <td>5080870000</td>\n",
       "    </tr>\n",
       "    <tr>\n",
       "      <th>250</th>\n",
       "      <td>2021-01-08</td>\n",
       "      <td>3815.050049</td>\n",
       "      <td>3826.689941</td>\n",
       "      <td>3783.600098</td>\n",
       "      <td>3824.679932</td>\n",
       "      <td>3824.679932</td>\n",
       "      <td>4764180000</td>\n",
       "    </tr>\n",
       "  </tbody>\n",
       "</table>\n",
       "</div>"
      ],
      "text/plain": [
       "           Date         Open         High          Low        Close  \\\n",
       "246  2021-01-04  3764.610107  3769.989990  3662.709961  3700.649902   \n",
       "247  2021-01-05  3698.020020  3737.830078  3695.070068  3726.860107   \n",
       "248  2021-01-06  3712.199951  3783.040039  3705.340088  3748.139893   \n",
       "249  2021-01-07  3764.709961  3811.550049  3764.709961  3803.790039   \n",
       "250  2021-01-08  3815.050049  3826.689941  3783.600098  3824.679932   \n",
       "\n",
       "       Adj Close      Volume  \n",
       "246  3700.649902  5006680000  \n",
       "247  3726.860107  4582620000  \n",
       "248  3748.139893  6049970000  \n",
       "249  3803.790039  5080870000  \n",
       "250  3824.679932  4764180000  "
      ]
     },
     "execution_count": 203,
     "metadata": {},
     "output_type": "execute_result"
    }
   ],
   "source": [
    "dff = pd.read_csv('010821.csv')\n",
    "dff.tail()"
   ]
  },
  {
   "cell_type": "code",
   "execution_count": 204,
   "metadata": {},
   "outputs": [],
   "source": [
    "dff = dff.iloc[:, 1:2].values"
   ]
  },
  {
   "cell_type": "code",
   "execution_count": 205,
   "metadata": {},
   "outputs": [],
   "source": [
    "dff = sc.transform(dff)"
   ]
  },
  {
   "cell_type": "code",
   "execution_count": 206,
   "metadata": {},
   "outputs": [],
   "source": [
    "dff = dff[-60:].reshape(1,60,1)"
   ]
  },
  {
   "cell_type": "code",
   "execution_count": 207,
   "metadata": {},
   "outputs": [
    {
     "name": "stdout",
     "output_type": "stream",
     "text": [
      "1/1 [==============================] - 0s 33ms/step\n"
     ]
    }
   ],
   "source": [
    "pred_scaled = model.predict(dff,verbose=1)"
   ]
  },
  {
   "cell_type": "code",
   "execution_count": 208,
   "metadata": {},
   "outputs": [],
   "source": [
    "pred = sc.inverse_transform(pred_scaled)"
   ]
  },
  {
   "cell_type": "code",
   "execution_count": 209,
   "metadata": {},
   "outputs": [
    {
     "name": "stdout",
     "output_type": "stream",
     "text": [
      "Monday January 11th, 2020:  [[3637.2927]]\n"
     ]
    }
   ],
   "source": [
    "print('Monday January 11th, 2020: ', pred)"
   ]
  }
 ],
 "metadata": {
  "kernelspec": {
   "display_name": "Python [conda env:projects]",
   "language": "python",
   "name": "conda-env-projects-py"
  },
  "language_info": {
   "codemirror_mode": {
    "name": "ipython",
    "version": 3
   },
   "file_extension": ".py",
   "mimetype": "text/x-python",
   "name": "python",
   "nbconvert_exporter": "python",
   "pygments_lexer": "ipython3",
   "version": "3.8.5"
  }
 },
 "nbformat": 4,
 "nbformat_minor": 4
}
