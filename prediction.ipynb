{
 "cells": [
  {
   "cell_type": "markdown",
   "metadata": {},
   "source": [
    "## Load & Extract"
   ]
  },
  {
   "cell_type": "markdown",
   "metadata": {},
   "source": [
    "#### Libraries"
   ]
  },
  {
   "cell_type": "code",
   "execution_count": 32,
   "metadata": {},
   "outputs": [],
   "source": [
    "import pandas as pd\n",
    "import numpy as np\n",
    "import matplotlib.pyplot as plt\n",
    "import seaborn as sns\n",
    "from sklearn.preprocessing import MinMaxScaler\n",
    "from sklearn.model_selection import train_test_split"
   ]
  },
  {
   "cell_type": "markdown",
   "metadata": {},
   "source": [
    "#### Read in data"
   ]
  },
  {
   "cell_type": "code",
   "execution_count": 232,
   "metadata": {},
   "outputs": [],
   "source": [
    "df = pd.read_csv('yahoo.csv')"
   ]
  },
  {
   "cell_type": "code",
   "execution_count": 233,
   "metadata": {},
   "outputs": [
    {
     "data": {
      "text/html": [
       "<div>\n",
       "<style scoped>\n",
       "    .dataframe tbody tr th:only-of-type {\n",
       "        vertical-align: middle;\n",
       "    }\n",
       "\n",
       "    .dataframe tbody tr th {\n",
       "        vertical-align: top;\n",
       "    }\n",
       "\n",
       "    .dataframe thead th {\n",
       "        text-align: right;\n",
       "    }\n",
       "</style>\n",
       "<table border=\"1\" class=\"dataframe\">\n",
       "  <thead>\n",
       "    <tr style=\"text-align: right;\">\n",
       "      <th></th>\n",
       "      <th>Date</th>\n",
       "      <th>Open</th>\n",
       "      <th>High</th>\n",
       "      <th>Low</th>\n",
       "      <th>Close</th>\n",
       "      <th>Adj Close</th>\n",
       "      <th>Volume</th>\n",
       "    </tr>\n",
       "  </thead>\n",
       "  <tbody>\n",
       "    <tr>\n",
       "      <th>0</th>\n",
       "      <td>1950-12-27</td>\n",
       "      <td>20.299999</td>\n",
       "      <td>20.299999</td>\n",
       "      <td>20.299999</td>\n",
       "      <td>20.299999</td>\n",
       "      <td>20.299999</td>\n",
       "      <td>2940000</td>\n",
       "    </tr>\n",
       "    <tr>\n",
       "      <th>1</th>\n",
       "      <td>1950-12-28</td>\n",
       "      <td>20.379999</td>\n",
       "      <td>20.379999</td>\n",
       "      <td>20.379999</td>\n",
       "      <td>20.379999</td>\n",
       "      <td>20.379999</td>\n",
       "      <td>3560000</td>\n",
       "    </tr>\n",
       "    <tr>\n",
       "      <th>2</th>\n",
       "      <td>1950-12-29</td>\n",
       "      <td>20.430000</td>\n",
       "      <td>20.430000</td>\n",
       "      <td>20.430000</td>\n",
       "      <td>20.430000</td>\n",
       "      <td>20.430000</td>\n",
       "      <td>3440000</td>\n",
       "    </tr>\n",
       "    <tr>\n",
       "      <th>3</th>\n",
       "      <td>1951-01-02</td>\n",
       "      <td>20.770000</td>\n",
       "      <td>20.770000</td>\n",
       "      <td>20.770000</td>\n",
       "      <td>20.770000</td>\n",
       "      <td>20.770000</td>\n",
       "      <td>3030000</td>\n",
       "    </tr>\n",
       "    <tr>\n",
       "      <th>4</th>\n",
       "      <td>1951-01-03</td>\n",
       "      <td>20.690001</td>\n",
       "      <td>20.690001</td>\n",
       "      <td>20.690001</td>\n",
       "      <td>20.690001</td>\n",
       "      <td>20.690001</td>\n",
       "      <td>3370000</td>\n",
       "    </tr>\n",
       "  </tbody>\n",
       "</table>\n",
       "</div>"
      ],
      "text/plain": [
       "         Date       Open       High        Low      Close  Adj Close   Volume\n",
       "0  1950-12-27  20.299999  20.299999  20.299999  20.299999  20.299999  2940000\n",
       "1  1950-12-28  20.379999  20.379999  20.379999  20.379999  20.379999  3560000\n",
       "2  1950-12-29  20.430000  20.430000  20.430000  20.430000  20.430000  3440000\n",
       "3  1951-01-02  20.770000  20.770000  20.770000  20.770000  20.770000  3030000\n",
       "4  1951-01-03  20.690001  20.690001  20.690001  20.690001  20.690001  3370000"
      ]
     },
     "execution_count": 233,
     "metadata": {},
     "output_type": "execute_result"
    }
   ],
   "source": [
    "df.head()"
   ]
  },
  {
   "cell_type": "code",
   "execution_count": 234,
   "metadata": {},
   "outputs": [
    {
     "data": {
      "text/html": [
       "<div>\n",
       "<style scoped>\n",
       "    .dataframe tbody tr th:only-of-type {\n",
       "        vertical-align: middle;\n",
       "    }\n",
       "\n",
       "    .dataframe tbody tr th {\n",
       "        vertical-align: top;\n",
       "    }\n",
       "\n",
       "    .dataframe thead th {\n",
       "        text-align: right;\n",
       "    }\n",
       "</style>\n",
       "<table border=\"1\" class=\"dataframe\">\n",
       "  <thead>\n",
       "    <tr style=\"text-align: right;\">\n",
       "      <th></th>\n",
       "      <th>Date</th>\n",
       "      <th>Open</th>\n",
       "      <th>High</th>\n",
       "      <th>Low</th>\n",
       "      <th>Close</th>\n",
       "      <th>Adj Close</th>\n",
       "      <th>Volume</th>\n",
       "    </tr>\n",
       "  </thead>\n",
       "  <tbody>\n",
       "    <tr>\n",
       "      <th>17611</th>\n",
       "      <td>2020-12-18</td>\n",
       "      <td>3722.389893</td>\n",
       "      <td>3726.699951</td>\n",
       "      <td>3685.840088</td>\n",
       "      <td>3709.409912</td>\n",
       "      <td>3709.409912</td>\n",
       "      <td>7068340000</td>\n",
       "    </tr>\n",
       "    <tr>\n",
       "      <th>17612</th>\n",
       "      <td>2020-12-21</td>\n",
       "      <td>3684.280029</td>\n",
       "      <td>3702.899902</td>\n",
       "      <td>3636.479980</td>\n",
       "      <td>3694.919922</td>\n",
       "      <td>3694.919922</td>\n",
       "      <td>4732160000</td>\n",
       "    </tr>\n",
       "    <tr>\n",
       "      <th>17613</th>\n",
       "      <td>2020-12-22</td>\n",
       "      <td>3698.080078</td>\n",
       "      <td>3698.260010</td>\n",
       "      <td>3676.159912</td>\n",
       "      <td>3687.260010</td>\n",
       "      <td>3687.260010</td>\n",
       "      <td>4023940000</td>\n",
       "    </tr>\n",
       "    <tr>\n",
       "      <th>17614</th>\n",
       "      <td>2020-12-23</td>\n",
       "      <td>3693.419922</td>\n",
       "      <td>3711.239990</td>\n",
       "      <td>3689.280029</td>\n",
       "      <td>3690.010010</td>\n",
       "      <td>3690.010010</td>\n",
       "      <td>3772630000</td>\n",
       "    </tr>\n",
       "    <tr>\n",
       "      <th>17615</th>\n",
       "      <td>2020-12-24</td>\n",
       "      <td>3694.030029</td>\n",
       "      <td>3703.820068</td>\n",
       "      <td>3689.320068</td>\n",
       "      <td>3703.060059</td>\n",
       "      <td>3703.060059</td>\n",
       "      <td>1885090000</td>\n",
       "    </tr>\n",
       "  </tbody>\n",
       "</table>\n",
       "</div>"
      ],
      "text/plain": [
       "             Date         Open         High          Low        Close  \\\n",
       "17611  2020-12-18  3722.389893  3726.699951  3685.840088  3709.409912   \n",
       "17612  2020-12-21  3684.280029  3702.899902  3636.479980  3694.919922   \n",
       "17613  2020-12-22  3698.080078  3698.260010  3676.159912  3687.260010   \n",
       "17614  2020-12-23  3693.419922  3711.239990  3689.280029  3690.010010   \n",
       "17615  2020-12-24  3694.030029  3703.820068  3689.320068  3703.060059   \n",
       "\n",
       "         Adj Close      Volume  \n",
       "17611  3709.409912  7068340000  \n",
       "17612  3694.919922  4732160000  \n",
       "17613  3687.260010  4023940000  \n",
       "17614  3690.010010  3772630000  \n",
       "17615  3703.060059  1885090000  "
      ]
     },
     "execution_count": 234,
     "metadata": {},
     "output_type": "execute_result"
    }
   ],
   "source": [
    "df.tail()"
   ]
  },
  {
   "cell_type": "code",
   "execution_count": 235,
   "metadata": {},
   "outputs": [
    {
     "data": {
      "text/plain": [
       "(17616, 7)"
      ]
     },
     "execution_count": 235,
     "metadata": {},
     "output_type": "execute_result"
    }
   ],
   "source": [
    "df.shape"
   ]
  },
  {
   "cell_type": "markdown",
   "metadata": {},
   "source": [
    "#### Train Test Split"
   ]
  },
  {
   "cell_type": "code",
   "execution_count": 236,
   "metadata": {},
   "outputs": [],
   "source": [
    "test_size=int(df.shape[0]*0.3)"
   ]
  },
  {
   "cell_type": "code",
   "execution_count": 237,
   "metadata": {},
   "outputs": [],
   "source": [
    "df_train = df.iloc[:, 1:2].values[:-test_size]"
   ]
  },
  {
   "cell_type": "code",
   "execution_count": 238,
   "metadata": {},
   "outputs": [
    {
     "data": {
      "text/plain": [
       "(12332, 1)"
      ]
     },
     "execution_count": 238,
     "metadata": {},
     "output_type": "execute_result"
    }
   ],
   "source": [
    "df_train.shape"
   ]
  },
  {
   "cell_type": "code",
   "execution_count": 239,
   "metadata": {},
   "outputs": [],
   "source": [
    "df_test = df.iloc[:, 1:2].values[-test_size:]"
   ]
  },
  {
   "cell_type": "code",
   "execution_count": 240,
   "metadata": {},
   "outputs": [
    {
     "data": {
      "text/plain": [
       "(5284, 1)"
      ]
     },
     "execution_count": 240,
     "metadata": {},
     "output_type": "execute_result"
    }
   ],
   "source": [
    "df_test.shape"
   ]
  },
  {
   "cell_type": "markdown",
   "metadata": {},
   "source": [
    "## EDA"
   ]
  },
  {
   "cell_type": "markdown",
   "metadata": {},
   "source": [
    "#### Plot"
   ]
  },
  {
   "cell_type": "code",
   "execution_count": 318,
   "metadata": {},
   "outputs": [
    {
     "data": {
      "image/png": "[encoded data removed]",
      "text/plain": [
       "<Figure size 1008x720 with 1 Axes>"
      ]
     },
     "metadata": {
      "needs_background": "light"
     },
     "output_type": "display_data"
    }
   ],
   "source": [
    "plt.figure(figsize=(14,10))\n",
    "plt.plot(list(range(0, len(df_train))), df_train, c=\"blue\", label=\"train\")\n",
    "plt.plot(list(range(len(df_train), len(df_train)+len(df_test))),df_test, c=\"black\", label=\"test\")\n",
    "plt.title(\"S&P 500 price over time\")\n",
    "plt.xlabel(\"time\")\n",
    "plt.ylabel(\"price\")\n",
    "plt.show()"
   ]
  },
  {
   "cell_type": "markdown",
   "metadata": {},
   "source": [
    "#### Autocorrelation"
   ]
  },
  {
   "cell_type": "code",
   "execution_count": null,
   "metadata": {},
   "outputs": [],
   "source": [
    "from statsmodels.graphics.tsaplots import plot_acf"
   ]
  },
  {
   "cell_type": "code",
   "execution_count": 340,
   "metadata": {},
   "outputs": [
    {
     "data": {
      "image/png": "[encoded data removed]",
      "text/plain": [
       "<Figure size 432x288 with 1 Axes>"
      ]
     },
     "metadata": {
      "needs_background": "light"
     },
     "output_type": "display_data"
    }
   ],
   "source": [
    "plot_acf(df_train, lags=20)\n",
    "plt.xlabel('Lag')\n",
    "plt.ylabel('Autocorrelation')\n",
    "plt.show()"
   ]
  },
  {
   "cell_type": "markdown",
   "metadata": {},
   "source": [
    "#### Partial Autocorrelation"
   ]
  },
  {
   "cell_type": "code",
   "execution_count": 310,
   "metadata": {},
   "outputs": [],
   "source": [
    "from statsmodels.graphics.tsaplots import plot_pacf"
   ]
  },
  {
   "cell_type": "code",
   "execution_count": 339,
   "metadata": {},
   "outputs": [
    {
     "data": {
      "image/png": "[encoded data removed]",
      "text/plain": [
       "<Figure size 432x288 with 1 Axes>"
      ]
     },
     "metadata": {
      "needs_background": "light"
     },
     "output_type": "display_data"
    }
   ],
   "source": [
    "plot_pacf(df_train, lags=5)\n",
    "plt.xlabel('Lag')\n",
    "plt.ylabel('Partial Autocorrelation')\n",
    "plt.show()"
   ]
  },
  {
   "cell_type": "markdown",
   "metadata": {},
   "source": [
    "#### AR Model"
   ]
  },
  {
   "cell_type": "code",
   "execution_count": 313,
   "metadata": {},
   "outputs": [],
   "source": [
    "import warnings\n",
    "warnings.filterwarnings(\"ignore\")"
   ]
  },
  {
   "cell_type": "code",
   "execution_count": 311,
   "metadata": {},
   "outputs": [],
   "source": [
    "from statsmodels.tsa.ar_model import AR"
   ]
  },
  {
   "cell_type": "code",
   "execution_count": 337,
   "metadata": {
    "scrolled": true
   },
   "outputs": [
    {
     "name": "stdout",
     "output_type": "stream",
     "text": [
      "Lag: 1\n",
      "Coefficients: [-0.04376651  1.00074028]\n"
     ]
    },
    {
     "data": {
      "image/png": "[encoded data removed]",
      "text/plain": [
       "<Figure size 432x288 with 1 Axes>"
      ]
     },
     "metadata": {
      "needs_background": "light"
     },
     "output_type": "display_data"
    }
   ],
   "source": [
    "model = AR(df_train)\n",
    "model_fit = model.fit(maxlag=1)\n",
    "\n",
    "print('Lag: %s' % model_fit.k_ar)\n",
    "print('Coefficients: %s' % model_fit.params)\n",
    "\n",
    "predictions = model_fit.predict(start=len(df_train), end=len(df_train)+20)\n",
    "\n",
    "plt.figure()\n",
    "plt.plot(df_test[:20], c=\"black\", label=\"test\", marker='o')\n",
    "plt.plot(predictions, c=\"green\", label=\"predict\", marker='o')\n",
    "plt.xlim([0, 20])\n",
    "plt.xticks(np.arange(0, 21))\n",
    "plt.legend()\n",
    "plt.show();"
   ]
  },
  {
   "cell_type": "markdown",
   "metadata": {},
   "source": [
    "#### MA Model"
   ]
  },
  {
   "cell_type": "code",
   "execution_count": 332,
   "metadata": {},
   "outputs": [],
   "source": [
    "from statsmodels.tsa.statespace.sarimax import SARIMAX"
   ]
  },
  {
   "cell_type": "code",
   "execution_count": 338,
   "metadata": {
    "scrolled": true
   },
   "outputs": [
    {
     "name": "stdout",
     "output_type": "stream",
     "text": [
      "Coefficients: [4.13429830e-02 2.54093151e+00 3.66832085e+00 3.45823382e+00\n",
      " 2.12718811e+00 7.07399248e-01 2.77928180e+02]\n"
     ]
    },
    {
     "data": {
      "image/png": "[encoded data removed]",
      "text/plain": [
       "<Figure size 432x288 with 1 Axes>"
      ]
     },
     "metadata": {
      "needs_background": "light"
     },
     "output_type": "display_data"
    }
   ],
   "source": [
    "model = SARIMAX(df_train, order=(0, 0, 5), trend=\"t\") \n",
    "model_fit = model.fit()\n",
    "\n",
    "print('Coefficients: %s' % model_fit.params)\n",
    "\n",
    "predictions = model_fit.predict(start=len(df_train), end=len(df_train)+20)\n",
    "\n",
    "plt.figure()\n",
    "plt.plot(df_test[:20], c=\"black\", label=\"test\", marker='o')\n",
    "plt.plot(predictions, c=\"green\", label=\"predict\", marker='o')\n",
    "plt.xlim([0, 20])\n",
    "plt.xticks(np.arange(0, 21))\n",
    "plt.legend()\n",
    "plt.show();"
   ]
  },
  {
   "cell_type": "markdown",
   "metadata": {},
   "source": [
    "## Data Preprocessing"
   ]
  },
  {
   "cell_type": "markdown",
   "metadata": {},
   "source": [
    "#### Scaling"
   ]
  },
  {
   "cell_type": "code",
   "execution_count": 345,
   "metadata": {},
   "outputs": [],
   "source": [
    "sc = MinMaxScaler()\n",
    "df_train_scaled = sc.fit_transform(df_train)\n",
    "df_test_scaled = sc.transform(df_test)"
   ]
  },
  {
   "cell_type": "code",
   "execution_count": 329,
   "metadata": {},
   "outputs": [
    {
     "data": {
      "text/plain": [
       "(12332, 1)"
      ]
     },
     "execution_count": 329,
     "metadata": {},
     "output_type": "execute_result"
    }
   ],
   "source": [
    "df_train_scaled.shape"
   ]
  },
  {
   "cell_type": "code",
   "execution_count": 301,
   "metadata": {},
   "outputs": [
    {
     "data": {
      "text/plain": [
       "(5284, 1)"
      ]
     },
     "execution_count": 301,
     "metadata": {},
     "output_type": "execute_result"
    }
   ],
   "source": [
    "df_test_scaled.shape"
   ]
  },
  {
   "cell_type": "markdown",
   "metadata": {},
   "source": [
    "#### Feature/Target"
   ]
  },
  {
   "cell_type": "code",
   "execution_count": 247,
   "metadata": {},
   "outputs": [],
   "source": [
    "def split_sequence(sequence, n_steps):\n",
    "    X, y = list(), list()\n",
    "    for i in range(len(sequence)):\n",
    "        # find the end of this pattern\n",
    "        end_ix = i + n_steps\n",
    "        # check if we are beyond the sequence\n",
    "        if end_ix > len(sequence)-1:\n",
    "            break\n",
    "        # gather input and output parts of the pattern\n",
    "        seq_x, seq_y = sequence[i:end_ix], sequence[end_ix]\n",
    "        X.append(seq_x)\n",
    "        y.append(seq_y)\n",
    "    return np.array(X), np.array(y)\n"
   ]
  },
  {
   "cell_type": "code",
   "execution_count": 248,
   "metadata": {},
   "outputs": [],
   "source": [
    "X_train, y_train = split_sequence(df_train_scaled, 60)"
   ]
  },
  {
   "cell_type": "code",
   "execution_count": 249,
   "metadata": {},
   "outputs": [
    {
     "data": {
      "text/plain": [
       "(12272, 60, 1)"
      ]
     },
     "execution_count": 249,
     "metadata": {},
     "output_type": "execute_result"
    }
   ],
   "source": [
    "X_train.shape"
   ]
  },
  {
   "cell_type": "code",
   "execution_count": 250,
   "metadata": {},
   "outputs": [
    {
     "data": {
      "text/plain": [
       "(12272, 1)"
      ]
     },
     "execution_count": 250,
     "metadata": {},
     "output_type": "execute_result"
    }
   ],
   "source": [
    "y_train.shape"
   ]
  },
  {
   "cell_type": "code",
   "execution_count": 251,
   "metadata": {},
   "outputs": [],
   "source": [
    "X_test, y_test = split_sequence(df_test_scaled,60)"
   ]
  },
  {
   "cell_type": "code",
   "execution_count": 346,
   "metadata": {},
   "outputs": [
    {
     "data": {
      "text/plain": [
       "(5224, 60, 1)"
      ]
     },
     "execution_count": 346,
     "metadata": {},
     "output_type": "execute_result"
    }
   ],
   "source": [
    "X_test.shape"
   ]
  },
  {
   "cell_type": "code",
   "execution_count": 253,
   "metadata": {},
   "outputs": [
    {
     "data": {
      "text/plain": [
       "(5224, 1)"
      ]
     },
     "execution_count": 253,
     "metadata": {},
     "output_type": "execute_result"
    }
   ],
   "source": [
    "y_test.shape"
   ]
  },
  {
   "cell_type": "markdown",
   "metadata": {},
   "source": [
    "## LSTM"
   ]
  },
  {
   "cell_type": "code",
   "execution_count": 281,
   "metadata": {},
   "outputs": [],
   "source": [
    "from tensorflow.keras.models import Sequential\n",
    "from tensorflow.keras.layers import Dense\n",
    "from tensorflow.keras.layers import LSTM\n",
    "from tensorflow.keras.layers import Dropout"
   ]
  },
  {
   "cell_type": "markdown",
   "metadata": {},
   "source": [
    "#### Single Layer"
   ]
  },
  {
   "cell_type": "code",
   "execution_count": 378,
   "metadata": {},
   "outputs": [
    {
     "name": "stdout",
     "output_type": "stream",
     "text": [
      "Epoch 1/100\n",
      "307/307 [==============================] - 11s 27ms/step - loss: 6.0972e-04 - val_loss: 1.8645e-04\n",
      "Epoch 2/100\n",
      "307/307 [==============================] - 8s 25ms/step - loss: 3.5595e-06 - val_loss: 5.7131e-04\n",
      "Epoch 3/100\n",
      "307/307 [==============================] - 7s 22ms/step - loss: 4.7652e-06 - val_loss: 4.6361e-04\n",
      "Epoch 4/100\n",
      "307/307 [==============================] - 7s 22ms/step - loss: 3.9113e-06 - val_loss: 3.1842e-04\n",
      "Epoch 5/100\n",
      "307/307 [==============================] - 7s 23ms/step - loss: 3.8756e-06 - val_loss: 3.3185e-04\n",
      "Epoch 6/100\n",
      "307/307 [==============================] - 7s 23ms/step - loss: 3.6232e-06 - val_loss: 2.3529e-04\n",
      "Epoch 7/100\n",
      "307/307 [==============================] - 7s 23ms/step - loss: 3.4596e-06 - val_loss: 2.0346e-04\n",
      "Epoch 8/100\n",
      "307/307 [==============================] - 7s 23ms/step - loss: 2.8978e-06 - val_loss: 1.5296e-04\n",
      "Epoch 9/100\n",
      "307/307 [==============================] - 7s 23ms/step - loss: 3.7247e-06 - val_loss: 1.6526e-04\n",
      "Epoch 10/100\n",
      "307/307 [==============================] - 7s 24ms/step - loss: 3.4012e-06 - val_loss: 9.3563e-05\n",
      "Epoch 11/100\n",
      "307/307 [==============================] - 8s 25ms/step - loss: 2.8022e-06 - val_loss: 9.3058e-05\n",
      "Epoch 12/100\n",
      "307/307 [==============================] - 7s 23ms/step - loss: 2.2846e-06 - val_loss: 8.2340e-05\n",
      "Epoch 13/100\n",
      "307/307 [==============================] - 7s 23ms/step - loss: 2.6984e-06 - val_loss: 2.5949e-04\n",
      "Epoch 14/100\n",
      "307/307 [==============================] - 8s 26ms/step - loss: 3.2801e-06 - val_loss: 1.0313e-04\n",
      "Epoch 15/100\n",
      "307/307 [==============================] - 7s 24ms/step - loss: 2.5595e-06 - val_loss: 7.6019e-05\n",
      "Epoch 16/100\n",
      "307/307 [==============================] - 7s 24ms/step - loss: 2.0364e-06 - val_loss: 7.1009e-05\n",
      "Epoch 17/100\n",
      "307/307 [==============================] - 7s 24ms/step - loss: 2.2045e-06 - val_loss: 6.2679e-05\n",
      "Epoch 18/100\n",
      "307/307 [==============================] - 7s 24ms/step - loss: 3.0577e-06 - val_loss: 5.3435e-05\n",
      "Epoch 19/100\n",
      "307/307 [==============================] - 7s 24ms/step - loss: 1.6035e-06 - val_loss: 5.8278e-05\n",
      "Epoch 20/100\n",
      "307/307 [==============================] - 8s 25ms/step - loss: 1.8747e-06 - val_loss: 5.8840e-05\n",
      "Epoch 21/100\n",
      "307/307 [==============================] - 7s 24ms/step - loss: 3.3577e-06 - val_loss: 1.5987e-04\n",
      "Epoch 22/100\n",
      "307/307 [==============================] - 8s 24ms/step - loss: 1.4387e-06 - val_loss: 4.9408e-05\n",
      "Epoch 23/100\n",
      "307/307 [==============================] - 7s 24ms/step - loss: 2.5248e-06 - val_loss: 5.1294e-05\n",
      "Epoch 24/100\n",
      "307/307 [==============================] - 7s 24ms/step - loss: 2.5547e-06 - val_loss: 5.2070e-05\n",
      "Epoch 25/100\n",
      "307/307 [==============================] - 8s 26ms/step - loss: 1.9922e-06 - val_loss: 5.3276e-05\n",
      "Epoch 26/100\n",
      "307/307 [==============================] - 8s 25ms/step - loss: 1.3768e-06 - val_loss: 4.9145e-05\n",
      "Epoch 27/100\n",
      "307/307 [==============================] - 9s 28ms/step - loss: 1.6388e-06 - val_loss: 3.8542e-05\n",
      "Epoch 28/100\n",
      "307/307 [==============================] - 9s 30ms/step - loss: 1.4515e-06 - val_loss: 4.6040e-05\n",
      "Epoch 29/100\n",
      "307/307 [==============================] - 8s 26ms/step - loss: 1.2654e-06 - val_loss: 3.8478e-05\n",
      "Epoch 30/100\n",
      "307/307 [==============================] - 9s 28ms/step - loss: 2.0887e-06 - val_loss: 4.8724e-05\n",
      "Epoch 31/100\n",
      "307/307 [==============================] - 9s 30ms/step - loss: 1.4116e-06 - val_loss: 3.4802e-05\n",
      "Epoch 32/100\n",
      "307/307 [==============================] - 9s 29ms/step - loss: 1.3988e-06 - val_loss: 4.5516e-05\n",
      "Epoch 33/100\n",
      "307/307 [==============================] - 8s 27ms/step - loss: 1.3984e-06 - val_loss: 5.2894e-05\n",
      "Epoch 34/100\n",
      "307/307 [==============================] - 8s 28ms/step - loss: 1.1344e-06 - val_loss: 5.3630e-05\n",
      "Epoch 35/100\n",
      "307/307 [==============================] - 8s 27ms/step - loss: 1.5057e-06 - val_loss: 4.7072e-05\n",
      "Epoch 36/100\n",
      "307/307 [==============================] - 7s 23ms/step - loss: 1.0514e-06 - val_loss: 4.4338e-05\n",
      "Epoch 37/100\n",
      "307/307 [==============================] - 7s 23ms/step - loss: 1.1667e-06 - val_loss: 3.4912e-05\n",
      "Epoch 38/100\n",
      "307/307 [==============================] - 7s 24ms/step - loss: 1.4329e-06 - val_loss: 3.3545e-05\n",
      "Epoch 39/100\n",
      "307/307 [==============================] - 7s 24ms/step - loss: 1.0032e-06 - val_loss: 5.6681e-05\n",
      "Epoch 40/100\n",
      "307/307 [==============================] - 8s 28ms/step - loss: 1.2017e-06 - val_loss: 3.1220e-05\n",
      "Epoch 41/100\n",
      "307/307 [==============================] - 9s 28ms/step - loss: 1.2214e-06 - val_loss: 6.8329e-05\n",
      "Epoch 42/100\n",
      "307/307 [==============================] - 10s 32ms/step - loss: 9.4212e-07 - val_loss: 3.0071e-05\n",
      "Epoch 43/100\n",
      "307/307 [==============================] - 7s 24ms/step - loss: 1.6111e-06 - val_loss: 3.2974e-05\n",
      "Epoch 44/100\n",
      "307/307 [==============================] - 8s 27ms/step - loss: 9.4491e-07 - val_loss: 3.8476e-05\n",
      "Epoch 45/100\n",
      "307/307 [==============================] - 9s 29ms/step - loss: 1.3203e-06 - val_loss: 3.4767e-05\n",
      "Epoch 46/100\n",
      "307/307 [==============================] - 7s 24ms/step - loss: 1.6483e-06 - val_loss: 3.7985e-05\n",
      "Epoch 47/100\n",
      "307/307 [==============================] - 8s 25ms/step - loss: 9.4587e-07 - val_loss: 8.6083e-05\n",
      "Epoch 48/100\n",
      "307/307 [==============================] - 8s 25ms/step - loss: 1.5091e-06 - val_loss: 3.3204e-05\n",
      "Epoch 49/100\n",
      "307/307 [==============================] - 9s 28ms/step - loss: 9.6092e-07 - val_loss: 3.0207e-05\n",
      "Epoch 50/100\n",
      "307/307 [==============================] - 11s 36ms/step - loss: 2.0935e-06 - val_loss: 4.1353e-05\n",
      "Epoch 51/100\n",
      "307/307 [==============================] - 8s 24ms/step - loss: 1.4869e-06 - val_loss: 2.9988e-05\n",
      "Epoch 52/100\n",
      "307/307 [==============================] - 7s 21ms/step - loss: 1.2103e-06 - val_loss: 3.1769e-05\n",
      "Epoch 53/100\n",
      "307/307 [==============================] - 8s 27ms/step - loss: 9.3103e-07 - val_loss: 4.1500e-05\n",
      "Epoch 54/100\n",
      "307/307 [==============================] - 7s 22ms/step - loss: 1.2029e-06 - val_loss: 3.3358e-05\n",
      "Epoch 55/100\n",
      "307/307 [==============================] - 7s 22ms/step - loss: 1.3008e-06 - val_loss: 5.1628e-05\n",
      "Epoch 56/100\n",
      "307/307 [==============================] - 7s 22ms/step - loss: 9.6005e-07 - val_loss: 3.8130e-05\n",
      "Epoch 57/100\n",
      "307/307 [==============================] - 7s 23ms/step - loss: 1.3879e-06 - val_loss: 5.1037e-05\n",
      "Epoch 58/100\n",
      "307/307 [==============================] - 8s 25ms/step - loss: 1.4248e-06 - val_loss: 3.0959e-05\n",
      "Epoch 59/100\n",
      "307/307 [==============================] - 6s 21ms/step - loss: 1.0963e-06 - val_loss: 3.1592e-05\n",
      "Epoch 60/100\n",
      "307/307 [==============================] - 6s 20ms/step - loss: 1.1603e-06 - val_loss: 4.0817e-05\n",
      "Epoch 61/100\n",
      "307/307 [==============================] - 6s 21ms/step - loss: 1.2258e-06 - val_loss: 3.2612e-05\n",
      "Epoch 62/100\n",
      "307/307 [==============================] - 6s 21ms/step - loss: 9.5773e-07 - val_loss: 5.3364e-05\n",
      "Epoch 63/100\n",
      "307/307 [==============================] - 7s 22ms/step - loss: 1.1923e-06 - val_loss: 3.9975e-05\n",
      "Epoch 64/100\n",
      "307/307 [==============================] - 7s 22ms/step - loss: 1.9239e-06 - val_loss: 3.8822e-05\n",
      "Epoch 65/100\n",
      "307/307 [==============================] - 7s 22ms/step - loss: 1.0368e-06 - val_loss: 3.3994e-05\n",
      "Epoch 66/100\n",
      "307/307 [==============================] - 7s 22ms/step - loss: 9.4036e-07 - val_loss: 6.0024e-05\n",
      "Epoch 67/100\n",
      "307/307 [==============================] - 8s 28ms/step - loss: 9.5059e-07 - val_loss: 4.0808e-05\n",
      "Epoch 68/100\n",
      "307/307 [==============================] - 8s 25ms/step - loss: 1.1792e-06 - val_loss: 4.9157e-05\n",
      "Epoch 69/100\n",
      "307/307 [==============================] - 11s 35ms/step - loss: 9.3982e-07 - val_loss: 3.9034e-05\n",
      "Epoch 70/100\n",
      "307/307 [==============================] - 15s 50ms/step - loss: 2.0195e-06 - val_loss: 3.2117e-05\n",
      "Epoch 71/100\n",
      "307/307 [==============================] - 10s 32ms/step - loss: 1.5170e-06 - val_loss: 5.7350e-05\n",
      "Epoch 72/100\n",
      "307/307 [==============================] - 10s 31ms/step - loss: 1.1250e-06 - val_loss: 4.2555e-05\n",
      "Epoch 73/100\n",
      "307/307 [==============================] - 9s 30ms/step - loss: 9.6290e-07 - val_loss: 3.7847e-05\n",
      "Epoch 74/100\n",
      "307/307 [==============================] - 8s 26ms/step - loss: 1.0454e-06 - val_loss: 4.2583e-05\n"
     ]
    },
    {
     "name": "stdout",
     "output_type": "stream",
     "text": [
      "Epoch 75/100\n",
      "307/307 [==============================] - 9s 28ms/step - loss: 1.2540e-06 - val_loss: 4.8161e-05\n",
      "Epoch 76/100\n",
      "307/307 [==============================] - 8s 26ms/step - loss: 9.5942e-07 - val_loss: 4.4296e-05\n",
      "Epoch 77/100\n",
      "307/307 [==============================] - 8s 26ms/step - loss: 9.5188e-07 - val_loss: 3.7092e-05\n",
      "Epoch 78/100\n",
      "307/307 [==============================] - 8s 25ms/step - loss: 1.0924e-06 - val_loss: 3.2604e-05\n",
      "Epoch 79/100\n",
      "307/307 [==============================] - 8s 26ms/step - loss: 1.0224e-06 - val_loss: 3.5784e-05\n",
      "Epoch 80/100\n",
      "307/307 [==============================] - 9s 28ms/step - loss: 1.0078e-06 - val_loss: 3.8412e-05\n",
      "Epoch 81/100\n",
      "307/307 [==============================] - 10s 32ms/step - loss: 8.7358e-07 - val_loss: 4.2575e-05\n",
      "Epoch 82/100\n",
      "307/307 [==============================] - 9s 31ms/step - loss: 9.8305e-07 - val_loss: 5.6693e-05\n",
      "Epoch 83/100\n",
      "307/307 [==============================] - 11s 36ms/step - loss: 1.3949e-06 - val_loss: 5.1431e-05\n",
      "Epoch 84/100\n",
      "307/307 [==============================] - 10s 33ms/step - loss: 8.5342e-07 - val_loss: 5.6979e-05\n",
      "Epoch 85/100\n",
      "307/307 [==============================] - 9s 31ms/step - loss: 1.2253e-06 - val_loss: 5.1906e-05\n",
      "Epoch 86/100\n",
      "307/307 [==============================] - 8s 26ms/step - loss: 1.0422e-06 - val_loss: 3.7698e-05\n",
      "Epoch 87/100\n",
      "307/307 [==============================] - 8s 27ms/step - loss: 1.1044e-06 - val_loss: 4.5747e-05\n",
      "Epoch 88/100\n",
      "307/307 [==============================] - 8s 27ms/step - loss: 1.1427e-06 - val_loss: 5.7831e-05\n",
      "Epoch 89/100\n",
      "307/307 [==============================] - 12s 38ms/step - loss: 1.1386e-06 - val_loss: 6.4089e-05\n",
      "Epoch 90/100\n",
      "307/307 [==============================] - 10s 32ms/step - loss: 1.1589e-06 - val_loss: 3.5389e-05\n",
      "Epoch 91/100\n",
      "307/307 [==============================] - 9s 28ms/step - loss: 9.5072e-07 - val_loss: 8.6808e-05\n",
      "Epoch 92/100\n",
      "307/307 [==============================] - 8s 25ms/step - loss: 1.0982e-06 - val_loss: 3.3012e-05\n",
      "Epoch 93/100\n",
      "307/307 [==============================] - 8s 27ms/step - loss: 8.3771e-07 - val_loss: 3.6558e-05\n",
      "Epoch 94/100\n",
      "307/307 [==============================] - 8s 26ms/step - loss: 1.1305e-06 - val_loss: 3.7595e-05\n",
      "Epoch 95/100\n",
      "307/307 [==============================] - 8s 25ms/step - loss: 1.1120e-06 - val_loss: 4.5218e-05\n",
      "Epoch 96/100\n",
      "307/307 [==============================] - 8s 27ms/step - loss: 1.2004e-06 - val_loss: 8.8676e-05\n",
      "Epoch 97/100\n",
      "307/307 [==============================] - 8s 26ms/step - loss: 9.9861e-07 - val_loss: 4.1840e-05\n",
      "Epoch 98/100\n",
      "307/307 [==============================] - 9s 31ms/step - loss: 2.0023e-06 - val_loss: 5.8621e-05\n",
      "Epoch 99/100\n",
      "307/307 [==============================] - 10s 33ms/step - loss: 1.0147e-06 - val_loss: 5.6687e-05\n",
      "Epoch 100/100\n",
      "307/307 [==============================] - 10s 31ms/step - loss: 8.9251e-07 - val_loss: 5.3268e-05\n"
     ]
    }
   ],
   "source": [
    "model = Sequential()\n",
    "\n",
    "model.add(LSTM(50, input_shape = (X_train.shape[1], 1)))\n",
    "\n",
    "model.add(Dense(1))\n",
    "\n",
    "model.compile(optimizer = 'adam', loss = 'mse')\n",
    "\n",
    "history = model.fit(X_train, y_train, validation_split = 0.2, epochs = 100, verbose = 1)"
   ]
  },
  {
   "cell_type": "code",
   "execution_count": 380,
   "metadata": {},
   "outputs": [
    {
     "data": {
      "image/png": "[encoded data removed]",
      "text/plain": [
       "<Figure size 1008x576 with 1 Axes>"
      ]
     },
     "metadata": {
      "needs_background": "light"
     },
     "output_type": "display_data"
    }
   ],
   "source": [
    "plt.figure(figsize=(14,8))\n",
    "plt.plot(history.history['loss'], label='Loss (training data)')\n",
    "plt.plot(history.history['val_loss'], label='Loss (validation data)')\n",
    "plt.title('Loss for Single Layer LSTM Model')\n",
    "plt.ylabel('Loss')\n",
    "plt.xlabel('Epoch')\n",
    "plt.legend(loc=2)\n",
    "plt.show()"
   ]
  },
  {
   "cell_type": "markdown",
   "metadata": {},
   "source": [
    "#### Stacked"
   ]
  },
  {
   "cell_type": "code",
   "execution_count": 320,
   "metadata": {
    "scrolled": true
   },
   "outputs": [
    {
     "name": "stdout",
     "output_type": "stream",
     "text": [
      "Epoch 1/100\n",
      "307/307 [==============================] - 45s 117ms/step - loss: 4.2028e-04 - val_loss: 0.0018\n",
      "Epoch 2/100\n",
      "307/307 [==============================] - 31s 101ms/step - loss: 6.0772e-05 - val_loss: 0.0013\n",
      "Epoch 3/100\n",
      "307/307 [==============================] - 31s 101ms/step - loss: 4.4357e-05 - val_loss: 0.0015\n",
      "Epoch 4/100\n",
      "307/307 [==============================] - 31s 101ms/step - loss: 4.7196e-05 - val_loss: 0.0015\n",
      "Epoch 5/100\n",
      "307/307 [==============================] - 30s 98ms/step - loss: 4.7882e-05 - val_loss: 0.0035\n",
      "Epoch 6/100\n",
      "307/307 [==============================] - 35s 114ms/step - loss: 4.1443e-05 - val_loss: 6.3255e-04\n",
      "Epoch 7/100\n",
      "307/307 [==============================] - 31s 100ms/step - loss: 4.1512e-05 - val_loss: 0.0019\n",
      "Epoch 8/100\n",
      "307/307 [==============================] - 32s 104ms/step - loss: 3.4901e-05 - val_loss: 0.0016\n",
      "Epoch 9/100\n",
      "307/307 [==============================] - 32s 105ms/step - loss: 3.8709e-05 - val_loss: 0.0021\n",
      "Epoch 10/100\n",
      "307/307 [==============================] - 33s 107ms/step - loss: 4.0701e-05 - val_loss: 0.0026\n",
      "Epoch 11/100\n",
      "307/307 [==============================] - 29s 93ms/step - loss: 3.5136e-05 - val_loss: 0.0086\n",
      "Epoch 12/100\n",
      "307/307 [==============================] - 28s 90ms/step - loss: 4.3929e-05 - val_loss: 0.0048\n",
      "Epoch 13/100\n",
      "307/307 [==============================] - 30s 97ms/step - loss: 2.9402e-05 - val_loss: 0.0045\n",
      "Epoch 14/100\n",
      "307/307 [==============================] - 34s 110ms/step - loss: 3.8062e-05 - val_loss: 0.0041\n",
      "Epoch 15/100\n",
      "307/307 [==============================] - 37s 121ms/step - loss: 3.1087e-05 - val_loss: 0.0049\n",
      "Epoch 16/100\n",
      "307/307 [==============================] - 36s 116ms/step - loss: 3.1727e-05 - val_loss: 0.0069\n",
      "Epoch 17/100\n",
      "307/307 [==============================] - 36s 117ms/step - loss: 3.5033e-05 - val_loss: 0.0070\n",
      "Epoch 18/100\n",
      "307/307 [==============================] - 33s 107ms/step - loss: 3.7355e-05 - val_loss: 0.0080\n",
      "Epoch 19/100\n",
      "307/307 [==============================] - 38s 125ms/step - loss: 3.0947e-05 - val_loss: 0.0116\n",
      "Epoch 20/100\n",
      "307/307 [==============================] - 33s 108ms/step - loss: 3.2788e-05 - val_loss: 0.0134\n",
      "Epoch 21/100\n",
      "307/307 [==============================] - 30s 98ms/step - loss: 3.2891e-05 - val_loss: 0.0175\n",
      "Epoch 22/100\n",
      "307/307 [==============================] - 28s 92ms/step - loss: 4.1735e-05 - val_loss: 0.0186\n",
      "Epoch 23/100\n",
      "307/307 [==============================] - 26s 84ms/step - loss: 3.5596e-05 - val_loss: 0.0261\n",
      "Epoch 24/100\n",
      "307/307 [==============================] - 26s 86ms/step - loss: 3.1456e-05 - val_loss: 0.0251\n",
      "Epoch 25/100\n",
      "307/307 [==============================] - 31s 100ms/step - loss: 3.3951e-05 - val_loss: 0.0324\n",
      "Epoch 26/100\n",
      "307/307 [==============================] - 35s 115ms/step - loss: 3.2121e-05 - val_loss: 0.0397\n",
      "Epoch 27/100\n",
      "307/307 [==============================] - 40s 129ms/step - loss: 3.0257e-05 - val_loss: 0.0413\n",
      "Epoch 28/100\n",
      "307/307 [==============================] - 35s 113ms/step - loss: 3.0901e-05 - val_loss: 0.0410\n",
      "Epoch 29/100\n",
      "307/307 [==============================] - 37s 120ms/step - loss: 3.0673e-05 - val_loss: 0.0489\n",
      "Epoch 30/100\n",
      "307/307 [==============================] - 28s 91ms/step - loss: 2.7909e-05 - val_loss: 0.0508\n",
      "Epoch 31/100\n",
      "307/307 [==============================] - 33s 107ms/step - loss: 3.0805e-05 - val_loss: 0.0587\n",
      "Epoch 32/100\n",
      "307/307 [==============================] - 32s 103ms/step - loss: 3.4250e-05 - val_loss: 0.0615\n",
      "Epoch 33/100\n",
      "307/307 [==============================] - 33s 108ms/step - loss: 2.4991e-05 - val_loss: 0.0581\n",
      "Epoch 34/100\n",
      "307/307 [==============================] - 27s 88ms/step - loss: 2.8831e-05 - val_loss: 0.0644\n",
      "Epoch 35/100\n",
      "307/307 [==============================] - 27s 87ms/step - loss: 2.5231e-05 - val_loss: 0.0659\n",
      "Epoch 36/100\n",
      "307/307 [==============================] - 26s 86ms/step - loss: 2.8202e-05 - val_loss: 0.0640\n",
      "Epoch 37/100\n",
      "307/307 [==============================] - 27s 87ms/step - loss: 2.9691e-05 - val_loss: 0.0692\n",
      "Epoch 38/100\n",
      "307/307 [==============================] - 26s 85ms/step - loss: 3.0124e-05 - val_loss: 0.0682\n",
      "Epoch 39/100\n",
      "307/307 [==============================] - 28s 91ms/step - loss: 2.5854e-05 - val_loss: 0.0683\n",
      "Epoch 40/100\n",
      "307/307 [==============================] - 29s 93ms/step - loss: 2.6727e-05 - val_loss: 0.0752\n",
      "Epoch 41/100\n",
      "307/307 [==============================] - 28s 92ms/step - loss: 2.8125e-05 - val_loss: 0.0641\n",
      "Epoch 42/100\n",
      "307/307 [==============================] - 28s 91ms/step - loss: 2.7387e-05 - val_loss: 0.0765\n",
      "Epoch 43/100\n",
      "307/307 [==============================] - 28s 91ms/step - loss: 2.7553e-05 - val_loss: 0.0750\n",
      "Epoch 44/100\n",
      "307/307 [==============================] - 29s 93ms/step - loss: 2.5202e-05 - val_loss: 0.0751\n",
      "Epoch 45/100\n",
      "307/307 [==============================] - 28s 92ms/step - loss: 3.0579e-05 - val_loss: 0.0747\n",
      "Epoch 46/100\n",
      "307/307 [==============================] - 28s 91ms/step - loss: 2.9296e-05 - val_loss: 0.0746\n",
      "Epoch 47/100\n",
      "307/307 [==============================] - 27s 89ms/step - loss: 2.3376e-05 - val_loss: 0.0745\n",
      "Epoch 48/100\n",
      "307/307 [==============================] - 31s 102ms/step - loss: 3.0325e-05 - val_loss: 0.0783\n",
      "Epoch 49/100\n",
      "307/307 [==============================] - 31s 99ms/step - loss: 2.8848e-05 - val_loss: 0.0768\n",
      "Epoch 50/100\n",
      "307/307 [==============================] - 27s 87ms/step - loss: 2.7490e-05 - val_loss: 0.0784\n",
      "Epoch 51/100\n",
      "307/307 [==============================] - 26s 84ms/step - loss: 2.8694e-05 - val_loss: 0.0769\n",
      "Epoch 52/100\n",
      "307/307 [==============================] - 26s 84ms/step - loss: 2.8378e-05 - val_loss: 0.0731\n",
      "Epoch 53/100\n",
      "307/307 [==============================] - 26s 85ms/step - loss: 2.5504e-05 - val_loss: 0.0782\n",
      "Epoch 54/100\n",
      "307/307 [==============================] - 26s 85ms/step - loss: 2.4292e-05 - val_loss: 0.0806\n",
      "Epoch 55/100\n",
      "307/307 [==============================] - 29s 93ms/step - loss: 2.6949e-05 - val_loss: 0.0784\n",
      "Epoch 56/100\n",
      "307/307 [==============================] - 30s 99ms/step - loss: 2.4112e-05 - val_loss: 0.0828\n",
      "Epoch 57/100\n",
      "307/307 [==============================] - 28s 92ms/step - loss: 2.9749e-05 - val_loss: 0.0768\n",
      "Epoch 58/100\n",
      "307/307 [==============================] - 33s 108ms/step - loss: 2.8188e-05 - val_loss: 0.0793\n",
      "Epoch 59/100\n",
      "307/307 [==============================] - 50s 163ms/step - loss: 2.6564e-05 - val_loss: 0.0814\n",
      "Epoch 60/100\n",
      "307/307 [==============================] - 43s 139ms/step - loss: 2.6731e-05 - val_loss: 0.0795\n",
      "Epoch 61/100\n",
      "307/307 [==============================] - 37s 120ms/step - loss: 2.7473e-05 - val_loss: 0.0777\n",
      "Epoch 62/100\n",
      "307/307 [==============================] - 39s 126ms/step - loss: 2.6900e-05 - val_loss: 0.0779\n",
      "Epoch 63/100\n",
      "307/307 [==============================] - 41s 135ms/step - loss: 2.3469e-05 - val_loss: 0.0795\n",
      "Epoch 64/100\n",
      "307/307 [==============================] - 40s 130ms/step - loss: 2.7079e-05 - val_loss: 0.0833\n",
      "Epoch 65/100\n",
      "307/307 [==============================] - 44s 143ms/step - loss: 2.4520e-05 - val_loss: 0.0820\n",
      "Epoch 66/100\n",
      "307/307 [==============================] - 43s 139ms/step - loss: 2.8827e-05 - val_loss: 0.0855\n",
      "Epoch 67/100\n",
      "307/307 [==============================] - 37s 119ms/step - loss: 2.6949e-05 - val_loss: 0.0862\n",
      "Epoch 68/100\n",
      "307/307 [==============================] - 38s 124ms/step - loss: 2.1582e-05 - val_loss: 0.0837\n",
      "Epoch 69/100\n",
      "307/307 [==============================] - 38s 125ms/step - loss: 2.7290e-05 - val_loss: 0.0811\n",
      "Epoch 70/100\n",
      "307/307 [==============================] - 30s 98ms/step - loss: 2.2210e-05 - val_loss: 0.0906\n",
      "Epoch 71/100\n",
      "307/307 [==============================] - 30s 98ms/step - loss: 2.8384e-05 - val_loss: 0.0800\n",
      "Epoch 72/100\n",
      "307/307 [==============================] - 31s 102ms/step - loss: 2.1700e-05 - val_loss: 0.0862\n",
      "Epoch 73/100\n",
      "307/307 [==============================] - 29s 94ms/step - loss: 2.5387e-05 - val_loss: 0.0871\n",
      "Epoch 74/100\n",
      "307/307 [==============================] - 29s 93ms/step - loss: 2.2702e-05 - val_loss: 0.0860\n",
      "Epoch 75/100\n",
      "307/307 [==============================] - 28s 90ms/step - loss: 2.5015e-05 - val_loss: 0.0846\n",
      "Epoch 76/100\n"
     ]
    },
    {
     "name": "stdout",
     "output_type": "stream",
     "text": [
      "307/307 [==============================] - 26s 84ms/step - loss: 2.3828e-05 - val_loss: 0.0920\n",
      "Epoch 77/100\n",
      "307/307 [==============================] - 26s 85ms/step - loss: 2.3774e-05 - val_loss: 0.0856\n",
      "Epoch 78/100\n",
      "307/307 [==============================] - 26s 85ms/step - loss: 2.5515e-05 - val_loss: 0.0825\n",
      "Epoch 79/100\n",
      "307/307 [==============================] - 27s 89ms/step - loss: 2.8210e-05 - val_loss: 0.0930\n",
      "Epoch 80/100\n",
      "307/307 [==============================] - 26s 86ms/step - loss: 2.5950e-05 - val_loss: 0.0863\n",
      "Epoch 81/100\n",
      "307/307 [==============================] - 27s 89ms/step - loss: 2.2359e-05 - val_loss: 0.0817\n",
      "Epoch 82/100\n",
      "307/307 [==============================] - 28s 92ms/step - loss: 2.5243e-05 - val_loss: 0.0902\n",
      "Epoch 83/100\n",
      "307/307 [==============================] - 27s 89ms/step - loss: 2.2068e-05 - val_loss: 0.0869\n",
      "Epoch 84/100\n",
      "307/307 [==============================] - 27s 89ms/step - loss: 2.6652e-05 - val_loss: 0.0858\n",
      "Epoch 85/100\n",
      "307/307 [==============================] - 29s 94ms/step - loss: 2.5031e-05 - val_loss: 0.0807\n",
      "Epoch 86/100\n",
      "307/307 [==============================] - 31s 101ms/step - loss: 2.8960e-05 - val_loss: 0.0892\n",
      "Epoch 87/100\n",
      "307/307 [==============================] - 29s 96ms/step - loss: 2.2777e-05 - val_loss: 0.0898\n",
      "Epoch 88/100\n",
      "307/307 [==============================] - 26s 84ms/step - loss: 2.5572e-05 - val_loss: 0.0895\n",
      "Epoch 89/100\n",
      "307/307 [==============================] - 26s 83ms/step - loss: 2.3050e-05 - val_loss: 0.0920\n",
      "Epoch 90/100\n",
      "307/307 [==============================] - 26s 86ms/step - loss: 2.1728e-05 - val_loss: 0.0975\n",
      "Epoch 91/100\n",
      "307/307 [==============================] - 26s 85ms/step - loss: 2.1741e-05 - val_loss: 0.0966\n",
      "Epoch 92/100\n",
      "307/307 [==============================] - 26s 84ms/step - loss: 2.2436e-05 - val_loss: 0.0948\n",
      "Epoch 93/100\n",
      "307/307 [==============================] - 28s 92ms/step - loss: 2.3241e-05 - val_loss: 0.1031\n",
      "Epoch 94/100\n",
      "307/307 [==============================] - 29s 94ms/step - loss: 2.8600e-05 - val_loss: 0.0987\n",
      "Epoch 95/100\n",
      "307/307 [==============================] - 29s 96ms/step - loss: 2.2647e-05 - val_loss: 0.0943\n",
      "Epoch 96/100\n",
      "307/307 [==============================] - 30s 96ms/step - loss: 2.5457e-05 - val_loss: 0.1024\n",
      "Epoch 97/100\n",
      "307/307 [==============================] - 27s 88ms/step - loss: 2.0994e-05 - val_loss: 0.1029\n",
      "Epoch 98/100\n",
      "307/307 [==============================] - 27s 89ms/step - loss: 2.3161e-05 - val_loss: 0.1128\n",
      "Epoch 99/100\n",
      "307/307 [==============================] - 28s 90ms/step - loss: 2.1932e-05 - val_loss: 0.1006\n",
      "Epoch 100/100\n",
      "307/307 [==============================] - 27s 88ms/step - loss: 2.5276e-05 - val_loss: 0.0926\n"
     ]
    }
   ],
   "source": [
    "model = Sequential()\n",
    "\n",
    "model.add(LSTM(50, return_sequences = True, input_shape = (X_train.shape[1], 1)))\n",
    "model.add(Dropout(0.2))\n",
    "\n",
    "model.add(LSTM(50, return_sequences = True))\n",
    "model.add(Dropout(0.2))\n",
    "\n",
    "model.add(LSTM(50, return_sequences = True))\n",
    "model.add(Dropout(0.2))\n",
    "\n",
    "model.add(LSTM(50))\n",
    "model.add(Dropout(0.2))\n",
    "\n",
    "model.add(Dense(1))\n",
    "\n",
    "model.compile(optimizer = 'adam', loss = 'mse')\n",
    "\n",
    "history = model.fit(X_train, y_train, validation_split = 0.2, epochs = 100, verbose = 1)"
   ]
  },
  {
   "cell_type": "code",
   "execution_count": 321,
   "metadata": {},
   "outputs": [
    {
     "data": {
      "image/png": "[encoded data removed]",
      "text/plain": [
       "<Figure size 1008x576 with 1 Axes>"
      ]
     },
     "metadata": {
      "needs_background": "light"
     },
     "output_type": "display_data"
    }
   ],
   "source": [
    "plt.figure(figsize=(14,8))\n",
    "plt.plot(history.history['loss'], label='Loss (training data)')\n",
    "plt.plot(history.history['val_loss'], label='Loss (validation data)')\n",
    "plt.title('Loss for Stacked LSTM Model')\n",
    "plt.ylabel('Loss')\n",
    "plt.xlabel('Epoch')\n",
    "plt.legend(loc=2)\n",
    "plt.show()"
   ]
  },
  {
   "cell_type": "markdown",
   "metadata": {},
   "source": [
    "#### Prediction"
   ]
  },
  {
   "cell_type": "code",
   "execution_count": 381,
   "metadata": {},
   "outputs": [
    {
     "name": "stdout",
     "output_type": "stream",
     "text": [
      "164/164 [==============================] - 2s 11ms/step\n"
     ]
    }
   ],
   "source": [
    "y_pred = model.predict(X_test, verbose=1)"
   ]
  },
  {
   "cell_type": "code",
   "execution_count": 383,
   "metadata": {},
   "outputs": [],
   "source": [
    "y_pred = sc.inverse_transform(y_pred)"
   ]
  },
  {
   "cell_type": "code",
   "execution_count": 384,
   "metadata": {},
   "outputs": [],
   "source": [
    "y_true = sc.inverse_transform(y_test)"
   ]
  },
  {
   "cell_type": "code",
   "execution_count": 372,
   "metadata": {},
   "outputs": [
    {
     "data": {
      "text/plain": [
       "(5224, 1)"
      ]
     },
     "execution_count": 372,
     "metadata": {},
     "output_type": "execute_result"
    }
   ],
   "source": [
    "y_true.shape"
   ]
  },
  {
   "cell_type": "code",
   "execution_count": 385,
   "metadata": {},
   "outputs": [
    {
     "data": {
      "image/png": "[encoded data removed]",
      "text/plain": [
       "<Figure size 1008x432 with 1 Axes>"
      ]
     },
     "metadata": {
      "needs_background": "light"
     },
     "output_type": "display_data"
    }
   ],
   "source": [
    "plt.figure(figsize=(14,6))\n",
    "plt.plot(y_true, color = 'black', label = 'S&P Price')\n",
    "plt.plot(y_pred, color = 'green', label = 'Predicted S&P Price')\n",
    "plt.title('S&P Price Prediction')\n",
    "plt.xlabel('Time')\n",
    "plt.ylabel('S&P Price')\n",
    "plt.legend()\n",
    "plt.show()"
   ]
  },
  {
   "cell_type": "markdown",
   "metadata": {},
   "source": [
    "#### Evaluation"
   ]
  },
  {
   "cell_type": "code",
   "execution_count": 270,
   "metadata": {},
   "outputs": [],
   "source": [
    "from sklearn.metrics import r2_score"
   ]
  },
  {
   "cell_type": "code",
   "execution_count": 386,
   "metadata": {},
   "outputs": [
    {
     "data": {
      "text/plain": [
       "0.9884409206490244"
      ]
     },
     "execution_count": 386,
     "metadata": {},
     "output_type": "execute_result"
    }
   ],
   "source": [
    "r2_score(y_true,y_pred)"
   ]
  },
  {
   "cell_type": "code",
   "execution_count": 387,
   "metadata": {},
   "outputs": [
    {
     "name": "stdout",
     "output_type": "stream",
     "text": [
      "384/384 [==============================] - 3s 7ms/step\n"
     ]
    }
   ],
   "source": [
    "pred = model.predict(X_train, verbose=1)"
   ]
  },
  {
   "cell_type": "code",
   "execution_count": 388,
   "metadata": {},
   "outputs": [],
   "source": [
    "pred = sc.inverse_transform(pred)"
   ]
  },
  {
   "cell_type": "code",
   "execution_count": 389,
   "metadata": {},
   "outputs": [],
   "source": [
    "true = sc.inverse_transform(y_train)"
   ]
  },
  {
   "cell_type": "code",
   "execution_count": 391,
   "metadata": {},
   "outputs": [
    {
     "data": {
      "text/plain": [
       "0.9996799492919298"
      ]
     },
     "execution_count": 391,
     "metadata": {},
     "output_type": "execute_result"
    }
   ],
   "source": [
    "r2_score(true,pred)"
   ]
  },
  {
   "cell_type": "code",
   "execution_count": 390,
   "metadata": {},
   "outputs": [
    {
     "data": {
      "image/png": "[encoded data removed]",
      "text/plain": [
       "<Figure size 1008x432 with 1 Axes>"
      ]
     },
     "metadata": {
      "needs_background": "light"
     },
     "output_type": "display_data"
    }
   ],
   "source": [
    "plt.figure(figsize=(14,6))\n",
    "plt.plot(true, color = 'black', label = 'S&P Price')\n",
    "plt.plot(pred, color = 'green', label = 'Predicted S&P Price')\n",
    "plt.title('S&P Price Prediction')\n",
    "plt.xlabel('Time')\n",
    "plt.ylabel('S&P Price')\n",
    "plt.legend()\n",
    "plt.show()"
   ]
  },
  {
   "cell_type": "markdown",
   "metadata": {},
   "source": [
    "## Bidirectional LSTM"
   ]
  },
  {
   "cell_type": "code",
   "execution_count": 393,
   "metadata": {},
   "outputs": [],
   "source": [
    "from tensorflow.keras.layers import Bidirectional"
   ]
  },
  {
   "cell_type": "code",
   "execution_count": 394,
   "metadata": {},
   "outputs": [
    {
     "name": "stdout",
     "output_type": "stream",
     "text": [
      "Epoch 1/100\n",
      "307/307 [==============================] - 22s 44ms/step - loss: 5.5249e-04 - val_loss: 2.3131e-04\n",
      "Epoch 2/100\n",
      "307/307 [==============================] - 11s 36ms/step - loss: 9.6309e-06 - val_loss: 9.2702e-04\n",
      "Epoch 3/100\n",
      "307/307 [==============================] - 14s 47ms/step - loss: 9.4358e-06 - val_loss: 7.7318e-04\n",
      "Epoch 4/100\n",
      "307/307 [==============================] - 13s 41ms/step - loss: 7.8346e-06 - val_loss: 5.0318e-04\n",
      "Epoch 5/100\n",
      "307/307 [==============================] - 11s 36ms/step - loss: 5.2359e-06 - val_loss: 5.9410e-04\n",
      "Epoch 6/100\n",
      "307/307 [==============================] - 11s 36ms/step - loss: 4.8334e-06 - val_loss: 3.8280e-04\n",
      "Epoch 7/100\n",
      "307/307 [==============================] - 11s 35ms/step - loss: 4.1437e-06 - val_loss: 2.9045e-04\n",
      "Epoch 8/100\n",
      "307/307 [==============================] - 11s 36ms/step - loss: 4.0613e-06 - val_loss: 2.9363e-04\n",
      "Epoch 9/100\n",
      "307/307 [==============================] - 10s 34ms/step - loss: 4.4446e-06 - val_loss: 2.3939e-04\n",
      "Epoch 10/100\n",
      "307/307 [==============================] - 11s 34ms/step - loss: 4.7239e-06 - val_loss: 2.1578e-04\n",
      "Epoch 11/100\n",
      "307/307 [==============================] - 11s 36ms/step - loss: 3.8015e-06 - val_loss: 2.6034e-04\n",
      "Epoch 12/100\n",
      "307/307 [==============================] - 12s 38ms/step - loss: 3.4620e-06 - val_loss: 2.9612e-04\n",
      "Epoch 13/100\n",
      "307/307 [==============================] - 12s 38ms/step - loss: 3.1144e-06 - val_loss: 3.5215e-04\n",
      "Epoch 14/100\n",
      "307/307 [==============================] - 11s 37ms/step - loss: 2.8847e-06 - val_loss: 1.5572e-04\n",
      "Epoch 15/100\n",
      "307/307 [==============================] - 11s 37ms/step - loss: 2.6940e-06 - val_loss: 1.2500e-04\n",
      "Epoch 16/100\n",
      "307/307 [==============================] - 11s 36ms/step - loss: 2.0731e-06 - val_loss: 3.1278e-04\n",
      "Epoch 17/100\n",
      "307/307 [==============================] - 11s 36ms/step - loss: 3.2781e-06 - val_loss: 1.8050e-04\n",
      "Epoch 18/100\n",
      "307/307 [==============================] - 11s 36ms/step - loss: 2.0691e-06 - val_loss: 8.4266e-05\n",
      "Epoch 19/100\n",
      "307/307 [==============================] - 11s 37ms/step - loss: 1.9987e-06 - val_loss: 1.1123e-04\n",
      "Epoch 20/100\n",
      "307/307 [==============================] - 13s 42ms/step - loss: 3.1197e-06 - val_loss: 1.4330e-04\n",
      "Epoch 21/100\n",
      "307/307 [==============================] - 18s 57ms/step - loss: 2.9481e-06 - val_loss: 1.7174e-04\n",
      "Epoch 22/100\n",
      "307/307 [==============================] - 16s 52ms/step - loss: 1.7573e-06 - val_loss: 7.8673e-05\n",
      "Epoch 23/100\n",
      "307/307 [==============================] - 11s 36ms/step - loss: 2.1147e-06 - val_loss: 1.7779e-04\n",
      "Epoch 24/100\n",
      "307/307 [==============================] - 11s 36ms/step - loss: 1.5782e-06 - val_loss: 1.3424e-04\n",
      "Epoch 25/100\n",
      "307/307 [==============================] - 11s 37ms/step - loss: 2.5254e-06 - val_loss: 9.8467e-05\n",
      "Epoch 26/100\n",
      "307/307 [==============================] - 11s 36ms/step - loss: 1.9340e-06 - val_loss: 1.2477e-04\n",
      "Epoch 27/100\n",
      "307/307 [==============================] - 11s 36ms/step - loss: 1.6261e-06 - val_loss: 6.2726e-05\n",
      "Epoch 28/100\n",
      "307/307 [==============================] - 11s 35ms/step - loss: 1.8188e-06 - val_loss: 1.3661e-04\n",
      "Epoch 29/100\n",
      "307/307 [==============================] - 12s 38ms/step - loss: 2.2469e-06 - val_loss: 6.3546e-05\n",
      "Epoch 30/100\n",
      "307/307 [==============================] - 11s 36ms/step - loss: 1.5555e-06 - val_loss: 5.7729e-05\n",
      "Epoch 31/100\n",
      "307/307 [==============================] - 11s 37ms/step - loss: 1.2890e-06 - val_loss: 1.1312e-04\n",
      "Epoch 32/100\n",
      "307/307 [==============================] - 13s 41ms/step - loss: 2.1665e-06 - val_loss: 4.8083e-05\n",
      "Epoch 33/100\n",
      "307/307 [==============================] - 11s 36ms/step - loss: 1.5064e-06 - val_loss: 4.1688e-05\n",
      "Epoch 34/100\n",
      "307/307 [==============================] - 11s 36ms/step - loss: 2.0870e-06 - val_loss: 5.0456e-05\n",
      "Epoch 35/100\n",
      "307/307 [==============================] - 11s 37ms/step - loss: 1.5410e-06 - val_loss: 4.0280e-05\n",
      "Epoch 36/100\n",
      "307/307 [==============================] - 10s 34ms/step - loss: 1.5951e-06 - val_loss: 5.2455e-05\n",
      "Epoch 37/100\n",
      "307/307 [==============================] - 21s 67ms/step - loss: 1.2014e-06 - val_loss: 5.8852e-05\n",
      "Epoch 38/100\n",
      "307/307 [==============================] - 15s 49ms/step - loss: 1.2812e-06 - val_loss: 7.0143e-05\n",
      "Epoch 39/100\n",
      "307/307 [==============================] - 12s 40ms/step - loss: 1.4404e-06 - val_loss: 1.0575e-04\n",
      "Epoch 40/100\n",
      "307/307 [==============================] - 17s 55ms/step - loss: 1.2674e-06 - val_loss: 1.4492e-04\n",
      "Epoch 41/100\n",
      "307/307 [==============================] - 16s 52ms/step - loss: 3.1285e-06 - val_loss: 5.2100e-05\n",
      "Epoch 42/100\n",
      "307/307 [==============================] - 16s 52ms/step - loss: 1.8385e-06 - val_loss: 5.2708e-05\n",
      "Epoch 43/100\n",
      "307/307 [==============================] - 14s 46ms/step - loss: 1.1179e-06 - val_loss: 4.9100e-05\n",
      "Epoch 44/100\n",
      "307/307 [==============================] - 14s 44ms/step - loss: 1.1151e-06 - val_loss: 4.7483e-05\n",
      "Epoch 45/100\n",
      "307/307 [==============================] - 18s 59ms/step - loss: 1.3483e-06 - val_loss: 3.6695e-05\n",
      "Epoch 46/100\n",
      "307/307 [==============================] - 16s 53ms/step - loss: 1.1404e-06 - val_loss: 5.6959e-05\n",
      "Epoch 47/100\n",
      "307/307 [==============================] - 13s 42ms/step - loss: 1.2105e-06 - val_loss: 4.1945e-05\n",
      "Epoch 48/100\n",
      "307/307 [==============================] - 14s 47ms/step - loss: 2.0885e-06 - val_loss: 4.5802e-05\n",
      "Epoch 49/100\n",
      "307/307 [==============================] - 13s 42ms/step - loss: 1.1874e-06 - val_loss: 7.1505e-05\n",
      "Epoch 50/100\n",
      "307/307 [==============================] - 13s 41ms/step - loss: 1.1531e-06 - val_loss: 4.8098e-05\n",
      "Epoch 51/100\n",
      "307/307 [==============================] - 11s 36ms/step - loss: 1.1543e-06 - val_loss: 9.3261e-05\n",
      "Epoch 52/100\n",
      "307/307 [==============================] - 8s 25ms/step - loss: 1.1982e-06 - val_loss: 6.5580e-05\n",
      "Epoch 53/100\n",
      "307/307 [==============================] - 7s 24ms/step - loss: 1.3249e-06 - val_loss: 3.6111e-05\n",
      "Epoch 54/100\n",
      "307/307 [==============================] - 7s 23ms/step - loss: 9.8406e-07 - val_loss: 4.1512e-05\n",
      "Epoch 55/100\n",
      "307/307 [==============================] - 7s 23ms/step - loss: 1.0483e-06 - val_loss: 5.8839e-05\n",
      "Epoch 56/100\n",
      "307/307 [==============================] - 7s 24ms/step - loss: 1.4032e-06 - val_loss: 3.7831e-05\n",
      "Epoch 57/100\n",
      "307/307 [==============================] - 7s 23ms/step - loss: 1.2819e-06 - val_loss: 4.3908e-05\n",
      "Epoch 58/100\n",
      "307/307 [==============================] - 7s 24ms/step - loss: 2.2046e-06 - val_loss: 5.3159e-05\n",
      "Epoch 59/100\n",
      "307/307 [==============================] - 7s 23ms/step - loss: 9.2728e-07 - val_loss: 7.9794e-05\n",
      "Epoch 60/100\n",
      "307/307 [==============================] - 7s 23ms/step - loss: 1.2160e-06 - val_loss: 5.7093e-05\n",
      "Epoch 61/100\n",
      "307/307 [==============================] - 7s 24ms/step - loss: 1.2783e-06 - val_loss: 6.6836e-05\n",
      "Epoch 62/100\n",
      "307/307 [==============================] - 7s 23ms/step - loss: 1.5801e-06 - val_loss: 6.9687e-05\n",
      "Epoch 63/100\n",
      "307/307 [==============================] - 7s 23ms/step - loss: 1.1831e-06 - val_loss: 4.4676e-05\n",
      "Epoch 64/100\n",
      "307/307 [==============================] - 8s 26ms/step - loss: 1.1893e-06 - val_loss: 9.5370e-05\n",
      "Epoch 65/100\n",
      "307/307 [==============================] - 8s 26ms/step - loss: 1.2616e-06 - val_loss: 5.0020e-05\n",
      "Epoch 66/100\n",
      "307/307 [==============================] - 8s 25ms/step - loss: 9.7505e-07 - val_loss: 5.8639e-05\n",
      "Epoch 67/100\n",
      "307/307 [==============================] - 7s 24ms/step - loss: 1.0146e-06 - val_loss: 4.2228e-05\n",
      "Epoch 68/100\n",
      "307/307 [==============================] - 8s 26ms/step - loss: 9.3050e-07 - val_loss: 3.8946e-05\n",
      "Epoch 69/100\n",
      "307/307 [==============================] - 8s 25ms/step - loss: 9.5408e-07 - val_loss: 3.8096e-05\n",
      "Epoch 70/100\n",
      "307/307 [==============================] - 7s 24ms/step - loss: 1.1793e-06 - val_loss: 4.1589e-05\n",
      "Epoch 71/100\n",
      "307/307 [==============================] - 8s 25ms/step - loss: 1.0049e-06 - val_loss: 3.6761e-05\n",
      "Epoch 72/100\n",
      "307/307 [==============================] - 7s 24ms/step - loss: 1.7239e-06 - val_loss: 8.7453e-05\n",
      "Epoch 73/100\n",
      "307/307 [==============================] - 7s 24ms/step - loss: 1.0463e-06 - val_loss: 3.4749e-05\n",
      "Epoch 74/100\n"
     ]
    },
    {
     "name": "stdout",
     "output_type": "stream",
     "text": [
      "307/307 [==============================] - 8s 26ms/step - loss: 8.9593e-07 - val_loss: 3.5728e-05\n",
      "Epoch 75/100\n",
      "307/307 [==============================] - 7s 24ms/step - loss: 1.3417e-06 - val_loss: 8.1259e-05\n",
      "Epoch 76/100\n",
      "307/307 [==============================] - 7s 24ms/step - loss: 8.9967e-07 - val_loss: 3.8019e-05\n",
      "Epoch 77/100\n",
      "307/307 [==============================] - 7s 24ms/step - loss: 1.0823e-06 - val_loss: 6.5040e-05\n",
      "Epoch 78/100\n",
      "307/307 [==============================] - 7s 24ms/step - loss: 1.1018e-06 - val_loss: 5.0574e-05\n",
      "Epoch 79/100\n",
      "307/307 [==============================] - 8s 25ms/step - loss: 1.1804e-06 - val_loss: 4.9283e-05\n",
      "Epoch 80/100\n",
      "307/307 [==============================] - 8s 25ms/step - loss: 1.3169e-06 - val_loss: 8.0707e-05\n",
      "Epoch 81/100\n",
      "307/307 [==============================] - 8s 25ms/step - loss: 1.0997e-06 - val_loss: 8.8045e-05\n",
      "Epoch 82/100\n",
      "307/307 [==============================] - 8s 24ms/step - loss: 1.1075e-06 - val_loss: 7.0807e-05\n",
      "Epoch 83/100\n",
      "307/307 [==============================] - 8s 24ms/step - loss: 1.0659e-06 - val_loss: 7.1346e-05\n",
      "Epoch 84/100\n",
      "307/307 [==============================] - 8s 26ms/step - loss: 1.0958e-06 - val_loss: 7.5500e-05\n",
      "Epoch 85/100\n",
      "307/307 [==============================] - 8s 25ms/step - loss: 1.1322e-06 - val_loss: 4.0716e-05\n",
      "Epoch 86/100\n",
      "307/307 [==============================] - 7s 24ms/step - loss: 1.4826e-06 - val_loss: 4.4873e-05\n",
      "Epoch 87/100\n",
      "307/307 [==============================] - 8s 24ms/step - loss: 9.3007e-07 - val_loss: 1.0911e-04\n",
      "Epoch 88/100\n",
      "307/307 [==============================] - 7s 24ms/step - loss: 1.1572e-06 - val_loss: 6.8926e-05\n",
      "Epoch 89/100\n",
      "307/307 [==============================] - 7s 24ms/step - loss: 1.1419e-06 - val_loss: 3.7529e-05\n",
      "Epoch 90/100\n",
      "307/307 [==============================] - 8s 25ms/step - loss: 1.4736e-06 - val_loss: 7.2967e-05\n",
      "Epoch 91/100\n",
      "307/307 [==============================] - 8s 25ms/step - loss: 1.3542e-06 - val_loss: 6.6505e-05\n",
      "Epoch 92/100\n",
      "307/307 [==============================] - 8s 24ms/step - loss: 1.2092e-06 - val_loss: 9.1996e-05\n",
      "Epoch 93/100\n",
      "307/307 [==============================] - 8s 25ms/step - loss: 1.0268e-06 - val_loss: 5.2814e-05\n",
      "Epoch 94/100\n",
      "307/307 [==============================] - 7s 24ms/step - loss: 1.4111e-06 - val_loss: 6.5497e-05\n",
      "Epoch 95/100\n",
      "307/307 [==============================] - 7s 24ms/step - loss: 1.6460e-06 - val_loss: 5.3639e-05\n",
      "Epoch 96/100\n",
      "307/307 [==============================] - 7s 24ms/step - loss: 9.0566e-07 - val_loss: 8.0623e-05\n",
      "Epoch 97/100\n",
      "307/307 [==============================] - 7s 24ms/step - loss: 9.1318e-07 - val_loss: 3.7346e-05\n",
      "Epoch 98/100\n",
      "307/307 [==============================] - 8s 24ms/step - loss: 1.6059e-06 - val_loss: 5.7726e-05\n",
      "Epoch 99/100\n",
      "307/307 [==============================] - 7s 24ms/step - loss: 8.3380e-07 - val_loss: 3.7907e-05\n",
      "Epoch 100/100\n",
      "307/307 [==============================] - 7s 24ms/step - loss: 1.2227e-06 - val_loss: 5.8819e-05\n"
     ]
    }
   ],
   "source": [
    "model = Sequential()\n",
    "\n",
    "model.add(Bidirectional(LSTM(50, input_shape = (X_train.shape[1], 1))))\n",
    "\n",
    "model.add(Dense(1))\n",
    "\n",
    "model.compile(optimizer = 'adam', loss = 'mse')\n",
    "\n",
    "history = model.fit(X_train, y_train, validation_split = 0.2, epochs = 100, verbose = 1)"
   ]
  },
  {
   "cell_type": "code",
   "execution_count": 397,
   "metadata": {},
   "outputs": [
    {
     "name": "stdout",
     "output_type": "stream",
     "text": [
      "164/164 [==============================] - 2s 9ms/step\n"
     ]
    }
   ],
   "source": [
    "y_pred = model.predict(X_test, verbose=1)"
   ]
  },
  {
   "cell_type": "code",
   "execution_count": 398,
   "metadata": {},
   "outputs": [],
   "source": [
    "y_pred = sc.inverse_transform(y_pred)"
   ]
  },
  {
   "cell_type": "code",
   "execution_count": 399,
   "metadata": {},
   "outputs": [],
   "source": [
    "y_true = sc.inverse_transform(y_test)"
   ]
  },
  {
   "cell_type": "code",
   "execution_count": 400,
   "metadata": {},
   "outputs": [
    {
     "data": {
      "image/png": "[encoded data removed]",
      "text/plain": [
       "<Figure size 1008x432 with 1 Axes>"
      ]
     },
     "metadata": {
      "needs_background": "light"
     },
     "output_type": "display_data"
    }
   ],
   "source": [
    "plt.figure(figsize=(14,6))\n",
    "plt.plot(y_true, color = 'black', label = 'S&P Price')\n",
    "plt.plot(y_pred, color = 'green', label = 'Predicted S&P Price')\n",
    "plt.title('S&P Price Prediction')\n",
    "plt.xlabel('Time')\n",
    "plt.ylabel('S&P Price')\n",
    "plt.legend()\n",
    "plt.show()"
   ]
  },
  {
   "cell_type": "code",
   "execution_count": 401,
   "metadata": {},
   "outputs": [
    {
     "data": {
      "text/plain": [
       "0.9837502817909594"
      ]
     },
     "execution_count": 401,
     "metadata": {},
     "output_type": "execute_result"
    }
   ],
   "source": [
    "r2_score(y_true,y_pred)"
   ]
  }
 ],
 "metadata": {
  "kernelspec": {
   "display_name": "Python [conda env:projects]",
   "language": "python",
   "name": "conda-env-projects-py"
  },
  "language_info": {
   "codemirror_mode": {
    "name": "ipython",
    "version": 3
   },
   "file_extension": ".py",
   "mimetype": "text/x-python",
   "name": "python",
   "nbconvert_exporter": "python",
   "pygments_lexer": "ipython3",
   "version": "3.8.5"
  }
 },
 "nbformat": 4,
 "nbformat_minor": 4
}
